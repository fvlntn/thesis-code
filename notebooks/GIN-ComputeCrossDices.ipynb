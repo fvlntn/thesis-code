{
 "cells": [
  {
   "cell_type": "code",
   "execution_count": 3,
   "id": "6acb5cb2",
   "metadata": {},
   "outputs": [],
   "source": [
    "from glob import glob\n",
    "import os\n",
    "import torch\n",
    "import torchmetrics\n",
    "import nibabel as nib\n",
    "import subprocess\n",
    "import numpy as np"
   ]
  },
  {
   "cell_type": "markdown",
   "id": "dc254918",
   "metadata": {},
   "source": [
    "# test"
   ]
  },
  {
   "cell_type": "code",
   "execution_count": 11,
   "id": "aad7a83b",
   "metadata": {},
   "outputs": [
    {
     "name": "stdout",
     "output_type": "stream",
     "text": [
      "0.784771010223776\n",
      "0.8489630425721406\n",
      "0.8174346985403171\n",
      "0.8622482823438883\n"
     ]
    }
   ],
   "source": [
    "a = [0.9886314342419307, 0.7337557004143794, 0.6706315270314614, 0.8246850349009037, 0.8168798744678497, 0.8787186359365781, 0.5866298977906506, 0.7963445919255415, 0.8573970921337605, 0.6940363133947055]\n",
    "b = [0.9920792671541373, 0.8189347428580125, 0.7788211400310199, 0.885546533515056, 0.8655626592536767, 0.9174858294427395, 0.660839295387268, 0.849448365966479, 0.9004552312195301, 0.820457360893488]\n",
    "\n",
    "c = [0.988385350595821, 0.7905999449166384, 0.6043753504753113, 0.8702174495566976, 0.8641782121224837, 0.8867943330244584, 0.6648830744353208, 0.8499266337264668, 0.9118592695756392, 0.71202500408346, 0.8485370614311912]\n",
    "d = [0.991554976051504, 0.8361168996854262, 0.6591052862730893, 0.906168179620396, 0.8935618790713223, 0.9219216238368642, 0.7316537884148684, 0.8677309697324579, 0.9349090191450986, 0.8438233987851577, 0.8981850851665844]\n",
    "\n",
    "print(np.mean(a))\n",
    "print(np.mean(b))\n",
    "print(np.mean(c))\n",
    "print(np.mean(d))"
   ]
  },
  {
   "cell_type": "markdown",
   "id": "27cea558",
   "metadata": {},
   "source": [
    "## SVBP ANTS Cross Dices"
   ]
  },
  {
   "cell_type": "code",
   "execution_count": 2,
   "id": "be479b00",
   "metadata": {
    "scrolled": true
   },
   "outputs": [
    {
     "name": "stdout",
     "output_type": "stream",
     "text": [
      "[0.9886314342419307, 0.7337557004143794, 0.6706315270314614, 0.8246850349009037, 0.8168798744678497, 0.8787186359365781, 0.5866298977906506, 0.7963445919255415, 0.8573970921337605, 0.6940363133947055, nan]\n"
     ]
    }
   ],
   "source": [
    "forward_ddfs = sorted(glob(os.path.join('dataset3', 'GIN', 'MRI', \"6*_warp.nii.gz\")))\n",
    "bacward_ddfs = sorted(glob(os.path.join('dataset3', 'GIN', 'MRI', \"6*_warp_inverse.nii.gz\")))\n",
    "gin_labels = sorted(glob(os.path.join('dataset3', 'GIN', 'Labels', \"6*_deformable_convert.nii.gz\")))\n",
    "num_labels = 11\n",
    "dicemetric = torchmetrics.Dice(average=None, mdmc_average='global', num_classes=num_labels)\n",
    "dice_values = []\n",
    "dices = []\n",
    "for i in range(num_labels):\n",
    "    dice_values.append([])\n",
    "if len(forward_ddfs) == len(bacward_ddfs) and len(forward_ddfs) == len(gin_labels):\n",
    "    for i in range(len(forward_ddfs)):\n",
    "        ith_labels = torch.from_numpy(nib.load(gin_labels[i]).get_fdata().ravel()).type('torch.LongTensor')\n",
    "        for j in range(len(forward_ddfs)):\n",
    "            if j != i:           \n",
    "                output = 'test_labels.nii.gz'\n",
    "                command = ['antsApplyTransforms']\n",
    "                command.extend(['-d', '3'])\n",
    "                command.extend(['-i', gin_labels[j]])\n",
    "                command.extend(['-r', gin_labels[i]])\n",
    "                command.extend(['-o', output])\n",
    "                command.extend(['-n', 'NearestNeighbor'])\n",
    "                command.extend(['-t', bacward_ddfs[i]])\n",
    "                command.extend(['-t', forward_ddfs[j]])\n",
    "                subprocess.call(command) \n",
    "                jth_labels_to_ith_labels = torch.from_numpy(nib.load(output).get_fdata().ravel()).type('torch.LongTensor')\n",
    "                dice_values_ij = dicemetric(jth_labels_to_ith_labels,ith_labels)\n",
    "                for k in range(len(dice_values_ij)):\n",
    "                    dice_values[k].append(dice_values_ij[k].item())\n",
    "    for k in range(len(dice_values)):\n",
    "        dices.append(np.mean(dice_values[k]))\n",
    "    print(dices)"
   ]
  },
  {
   "cell_type": "markdown",
   "id": "cadb70df",
   "metadata": {},
   "source": [
    "## MAP6 ANTS Cross Dices"
   ]
  },
  {
   "cell_type": "code",
   "execution_count": 3,
   "id": "b6880c78",
   "metadata": {},
   "outputs": [
    {
     "name": "stdout",
     "output_type": "stream",
     "text": [
      "[0.988385350595821, 0.7905999449166384, 0.6043753504753113, 0.8702174495566976, 0.8641782121224837, 0.8867943330244584, 0.6648830744353208, 0.8499266337264668, 0.9118592695756392, 0.71202500408346, 0.8485370614311912]\n"
     ]
    }
   ],
   "source": [
    "forward_ddfs = sorted(glob(os.path.join('dataset3', 'GIN', 'MRI', \"M*_warp.nii.gz\")))\n",
    "bacward_ddfs = sorted(glob(os.path.join('dataset3', 'GIN', 'MRI', \"M*_warp_inverse.nii.gz\")))\n",
    "gin_labels = sorted(glob(os.path.join('dataset3', 'GIN', 'Labels', \"M*_deformable_convert.nii.gz\")))\n",
    "num_labels = 11\n",
    "dicemetric = torchmetrics.Dice(average=None, mdmc_average='global', num_classes=num_labels)\n",
    "dice_values = []\n",
    "dices = []\n",
    "for i in range(num_labels):\n",
    "    dice_values.append([])\n",
    "if len(forward_ddfs) == len(bacward_ddfs) and len(forward_ddfs) == len(gin_labels):\n",
    "    for i in range(len(forward_ddfs)):\n",
    "        ith_labels = torch.from_numpy(nib.load(gin_labels[i]).get_fdata().ravel()).type('torch.LongTensor')\n",
    "        for j in range(len(forward_ddfs)):\n",
    "            if j != i:           \n",
    "                output = 'test_labels.nii.gz'\n",
    "                command = ['antsApplyTransforms']\n",
    "                command.extend(['-d', '3'])\n",
    "                command.extend(['-i', gin_labels[j]])\n",
    "                command.extend(['-r', gin_labels[i]])\n",
    "                command.extend(['-o', output])\n",
    "                command.extend(['-n', 'NearestNeighbor'])\n",
    "                command.extend(['-t', bacward_ddfs[i]])\n",
    "                command.extend(['-t', forward_ddfs[j]])\n",
    "                subprocess.call(command) \n",
    "                jth_labels_to_ith_labels = torch.from_numpy(nib.load(output).get_fdata().ravel()).type('torch.LongTensor')\n",
    "                ith_labels[np.where(ith_labels == 12)] = 2\n",
    "                jth_labels_to_ith_labels[np.where(jth_labels_to_ith_labels == 12)] = 2                \n",
    "                dice_values_ij = dicemetric(jth_labels_to_ith_labels,ith_labels)\n",
    "                for k in range(len(dice_values_ij)):\n",
    "                    dice_values[k].append(dice_values_ij[k].item())\n",
    "    for k in range(len(dice_values)):\n",
    "        dices.append(np.mean(dice_values[k]))\n",
    "    print(dices)"
   ]
  },
  {
   "cell_type": "markdown",
   "id": "dee88f80",
   "metadata": {},
   "source": [
    "## SVBP DEEP Cross Dices"
   ]
  },
  {
   "cell_type": "code",
   "execution_count": 4,
   "id": "8bde470f",
   "metadata": {},
   "outputs": [
    {
     "name": "stdout",
     "output_type": "stream",
     "text": [
      "[0.9920792671541373, 0.8189347428580125, 0.7788211400310199, 0.885546533515056, 0.8655626592536767, 0.9174858294427395, 0.660839295387268, 0.849448365966479, 0.9004552312195301, 0.820457360893488, nan]\n"
     ]
    }
   ],
   "source": [
    "forward_ddfs = sorted(glob(os.path.join('output', 'GIN', 'baseline-sym-ddf', 'DeformableWarp', \"6*_warp.nii.gz\")))\n",
    "bacward_ddfs = sorted(glob(os.path.join('output', 'GIN', 'baseline-sym-ddf', 'DeformableWarp', \"6*_invwarp.nii.gz\")))\n",
    "gin_labels = sorted(glob(os.path.join('dataset3', 'GIN', 'Labels', \"6*_deformable_convert.nii.gz\")))\n",
    "num_labels = 11\n",
    "dicemetric = torchmetrics.Dice(average=None, mdmc_average='global', num_classes=num_labels)\n",
    "dice_values = []\n",
    "dices = []\n",
    "for i in range(num_labels):\n",
    "    dice_values.append([])\n",
    "if len(forward_ddfs) == len(bacward_ddfs) and len(forward_ddfs) == len(gin_labels):\n",
    "    for i in range(len(forward_ddfs)):\n",
    "        ith_labels = torch.from_numpy(nib.load(gin_labels[i]).get_fdata().ravel()).type('torch.LongTensor')\n",
    "        for j in range(len(forward_ddfs)):\n",
    "            if j != i:           \n",
    "                output = 'test_labels.nii.gz'\n",
    "                command = ['antsApplyTransforms']\n",
    "                command.extend(['-d', '3'])\n",
    "                command.extend(['-i', gin_labels[j]])\n",
    "                command.extend(['-r', gin_labels[i]])\n",
    "                command.extend(['-o', output])\n",
    "                command.extend(['-n', 'NearestNeighbor'])\n",
    "                command.extend(['-t', bacward_ddfs[i]])\n",
    "                command.extend(['-t', forward_ddfs[j]])\n",
    "                subprocess.call(command) \n",
    "                jth_labels_to_ith_labels = torch.from_numpy(nib.load(output).get_fdata().ravel()).type('torch.LongTensor')\n",
    "                dice_values_ij = dicemetric(jth_labels_to_ith_labels,ith_labels)\n",
    "                for k in range(len(dice_values_ij)):\n",
    "                    dice_values[k].append(dice_values_ij[k].item())\n",
    "    for k in range(len(dice_values)):\n",
    "        dices.append(np.mean(dice_values[k]))\n",
    "    print(dices)"
   ]
  },
  {
   "cell_type": "markdown",
   "id": "7e78d6b8",
   "metadata": {},
   "source": [
    "## MAP6 DEEP Cross Dices"
   ]
  },
  {
   "cell_type": "code",
   "execution_count": 5,
   "id": "2c57e825",
   "metadata": {},
   "outputs": [
    {
     "name": "stdout",
     "output_type": "stream",
     "text": [
      "[0.991554976051504, 0.8361168996854262, 0.6591052862730893, 0.906168179620396, 0.8935618790713223, 0.9219216238368642, 0.7316537884148684, 0.8677309697324579, 0.9349090191450986, 0.8438233987851577, 0.8981850851665844]\n"
     ]
    }
   ],
   "source": [
    "forward_ddfs = sorted(glob(os.path.join('output', 'GIN', 'baseline-sym-ddf', 'DeformableWarp', \"M*_warp.nii.gz\")))\n",
    "bacward_ddfs = sorted(glob(os.path.join('output', 'GIN', 'baseline-sym-ddf', 'DeformableWarp', \"M*_invwarp.nii.gz\")))\n",
    "gin_labels = sorted(glob(os.path.join('dataset3', 'GIN', 'Labels', \"M*_deformable_convert.nii.gz\")))\n",
    "num_labels = 11\n",
    "dicemetric = torchmetrics.Dice(average=None, mdmc_average='global', num_classes=num_labels)\n",
    "dice_values = []\n",
    "dices = []\n",
    "for i in range(num_labels):\n",
    "    dice_values.append([])\n",
    "if len(forward_ddfs) == len(bacward_ddfs) and len(forward_ddfs) == len(gin_labels):\n",
    "    for i in range(len(forward_ddfs)):\n",
    "        ith_labels = torch.from_numpy(nib.load(gin_labels[i]).get_fdata().ravel()).type('torch.LongTensor')\n",
    "        for j in range(len(forward_ddfs)):\n",
    "            if j != i:           \n",
    "                output = 'test_labels.nii.gz'\n",
    "                command = ['antsApplyTransforms']\n",
    "                command.extend(['-d', '3'])\n",
    "                command.extend(['-i', gin_labels[j]])\n",
    "                command.extend(['-r', gin_labels[i]])\n",
    "                command.extend(['-o', output])\n",
    "                command.extend(['-n', 'NearestNeighbor'])\n",
    "                command.extend(['-t', bacward_ddfs[i]])\n",
    "                command.extend(['-t', forward_ddfs[j]])\n",
    "                subprocess.call(command) \n",
    "                jth_labels_to_ith_labels = torch.from_numpy(nib.load(output).get_fdata().ravel()).type('torch.LongTensor')\n",
    "                ith_labels[np.where(ith_labels == 12)] = 2\n",
    "                jth_labels_to_ith_labels[np.where(jth_labels_to_ith_labels == 12)] = 2  \n",
    "                dice_values_ij = dicemetric(jth_labels_to_ith_labels,ith_labels)\n",
    "                for k in range(len(dice_values_ij)):\n",
    "                    dice_values[k].append(dice_values_ij[k].item())\n",
    "    for k in range(len(dice_values)):\n",
    "        dices.append(np.mean(dice_values[k]))\n",
    "    print(dices)"
   ]
  },
  {
   "cell_type": "code",
   "execution_count": null,
   "id": "00583560",
   "metadata": {},
   "outputs": [],
   "source": []
  },
  {
   "cell_type": "markdown",
   "id": "f574d889",
   "metadata": {},
   "source": [
    "## SVBP ANTSMean Cross Dices"
   ]
  },
  {
   "cell_type": "code",
   "execution_count": 5,
   "id": "a7cf0ca0",
   "metadata": {},
   "outputs": [
    {
     "name": "stdout",
     "output_type": "stream",
     "text": [
      "[0.9904695721964042, 0.8342637764910857, 0.8319898342092832, 0.8877245374023914, 0.8548560688893, 0.9057215678195158, 0.6491817720234394, 0.8733555113275846, 0.9083404324948787, 0.8345103286206722, nan]\n"
     ]
    }
   ],
   "source": [
    "forward_ddfs = sorted(glob(os.path.join('dataset3', 'GIN_Mean', 'MRI', \"6*_warp.nii.gz\")))\n",
    "bacward_ddfs = sorted(glob(os.path.join('dataset3', 'GIN_Mean', 'MRI', \"6*_warp_inverse.nii.gz\")))\n",
    "gin_labels = sorted(glob(os.path.join('dataset3', 'GIN_Mean', 'Labels', \"6*_deformable_convert.nii.gz\")))\n",
    "num_labels = 11\n",
    "dicemetric = torchmetrics.Dice(average=None, mdmc_average='global', num_classes=num_labels)\n",
    "dice_values = []\n",
    "dices = []\n",
    "for i in range(num_labels):\n",
    "    dice_values.append([])\n",
    "if len(forward_ddfs) == len(bacward_ddfs) and len(forward_ddfs) == len(gin_labels):\n",
    "    for i in range(len(forward_ddfs)):\n",
    "        ith_labels = torch.from_numpy(nib.load(gin_labels[i]).get_fdata().ravel()).type('torch.LongTensor')\n",
    "        for j in range(len(forward_ddfs)):\n",
    "            if j != i:           \n",
    "                output = 'test_labels.nii.gz'\n",
    "                command = ['antsApplyTransforms']\n",
    "                command.extend(['-d', '3'])\n",
    "                command.extend(['-i', gin_labels[j]])\n",
    "                command.extend(['-r', gin_labels[i]])\n",
    "                command.extend(['-o', output])\n",
    "                command.extend(['-n', 'NearestNeighbor'])\n",
    "                command.extend(['-t', bacward_ddfs[i]])\n",
    "                command.extend(['-t', forward_ddfs[j]])\n",
    "                subprocess.call(command) \n",
    "                jth_labels_to_ith_labels = torch.from_numpy(nib.load(output).get_fdata().ravel()).type('torch.LongTensor')\n",
    "                dice_values_ij = dicemetric(jth_labels_to_ith_labels,ith_labels)\n",
    "                for k in range(len(dice_values_ij)):\n",
    "                    dice_values[k].append(dice_values_ij[k].item())\n",
    "    for k in range(len(dice_values)):\n",
    "        dices.append(np.mean(dice_values[k]))\n",
    "    print(dices)"
   ]
  },
  {
   "cell_type": "markdown",
   "id": "6591f63e",
   "metadata": {},
   "source": [
    "## MAP6 ANTSMean Cross Dices"
   ]
  },
  {
   "cell_type": "code",
   "execution_count": 6,
   "id": "66646848",
   "metadata": {},
   "outputs": [
    {
     "name": "stdout",
     "output_type": "stream",
     "text": [
      "[0.9902225055477836, 0.8518304234201258, 0.7087382636286995, 0.9160725463520397, 0.899229907989502, 0.9174034671349959, 0.710911258242347, 0.8893685552206907, 0.9382049560546875, 0.8234538679773157, 0.8730658812956377]\n"
     ]
    }
   ],
   "source": [
    "forward_ddfs = sorted(glob(os.path.join('dataset3', 'GIN_Mean', 'MRI', \"M*_warp.nii.gz\")))\n",
    "bacward_ddfs = sorted(glob(os.path.join('dataset3', 'GIN_Mean', 'MRI', \"M*_warp_inverse.nii.gz\")))\n",
    "gin_labels = sorted(glob(os.path.join('dataset3', 'GIN_Mean', 'Labels', \"M*_deformable_convert.nii.gz\")))\n",
    "num_labels = 11\n",
    "dicemetric = torchmetrics.Dice(average=None, mdmc_average='global', num_classes=num_labels)\n",
    "dice_values = []\n",
    "dices = []\n",
    "for i in range(num_labels):\n",
    "    dice_values.append([])\n",
    "if len(forward_ddfs) == len(bacward_ddfs) and len(forward_ddfs) == len(gin_labels):\n",
    "    for i in range(len(forward_ddfs)):\n",
    "        ith_labels = torch.from_numpy(nib.load(gin_labels[i]).get_fdata().ravel()).type('torch.LongTensor')\n",
    "        for j in range(len(forward_ddfs)):\n",
    "            if j != i:           \n",
    "                output = 'test_labels.nii.gz'\n",
    "                command = ['antsApplyTransforms']\n",
    "                command.extend(['-d', '3'])\n",
    "                command.extend(['-i', gin_labels[j]])\n",
    "                command.extend(['-r', gin_labels[i]])\n",
    "                command.extend(['-o', output])\n",
    "                command.extend(['-n', 'NearestNeighbor'])\n",
    "                command.extend(['-t', bacward_ddfs[i]])\n",
    "                command.extend(['-t', forward_ddfs[j]])\n",
    "                subprocess.call(command) \n",
    "                jth_labels_to_ith_labels = torch.from_numpy(nib.load(output).get_fdata().ravel()).type('torch.LongTensor')\n",
    "                ith_labels[np.where(ith_labels == 12)] = 2\n",
    "                jth_labels_to_ith_labels[np.where(jth_labels_to_ith_labels == 12)] = 2                \n",
    "                dice_values_ij = dicemetric(jth_labels_to_ith_labels,ith_labels)\n",
    "                for k in range(len(dice_values_ij)):\n",
    "                    dice_values[k].append(dice_values_ij[k].item())\n",
    "    for k in range(len(dice_values)):\n",
    "        dices.append(np.mean(dice_values[k]))\n",
    "    print(dices)"
   ]
  },
  {
   "cell_type": "code",
   "execution_count": null,
   "id": "bc6a47a1",
   "metadata": {},
   "outputs": [],
   "source": []
  }
 ],
 "metadata": {
  "kernelspec": {
   "display_name": "venv",
   "language": "python",
   "name": "venv"
  },
  "language_info": {
   "codemirror_mode": {
    "name": "ipython",
    "version": 3
   },
   "file_extension": ".py",
   "mimetype": "text/x-python",
   "name": "python",
   "nbconvert_exporter": "python",
   "pygments_lexer": "ipython3",
   "version": "3.8.10"
  }
 },
 "nbformat": 4,
 "nbformat_minor": 5
}
