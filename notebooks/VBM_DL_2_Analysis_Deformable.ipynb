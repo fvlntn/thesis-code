{
 "cells": [
  {
   "cell_type": "code",
   "execution_count": 1,
   "id": "2249563a",
   "metadata": {},
   "outputs": [],
   "source": [
    "import os\n",
    "from glob import glob\n",
    "import nibabel as nib\n",
    "from scipy.spatial.distance import dice\n",
    "import numpy as np\n",
    "import itk\n",
    "import SimpleITK as sitk\n",
    "import scipy.ndimage\n",
    "import scipy\n",
    "import matplotlib.pyplot as plt\n",
    "import pandas as pd\n",
    "from nilearn.reporting import make_glm_report\n",
    "from nilearn.glm.second_level import SecondLevelModel\n",
    "from nilearn import plotting\n",
    "from nilearn.glm import threshold_stats_img"
   ]
  },
  {
   "cell_type": "code",
   "execution_count": 2,
   "id": "dc546a0e",
   "metadata": {},
   "outputs": [],
   "source": [
    "from nilearn.plotting import plot_design_matrix\n",
    "mouses_filename = os.path.join('dataset3', 'Feminad', 'feminad.csv')\n",
    "mouses_csv = pd.read_csv(mouses_filename)\n",
    "male = mouses_csv['sex'] == 'M'\n",
    "female = mouses_csv['sex'] == 'F'\n",
    "age1 = mouses_csv['age'] == '2mois'\n",
    "age2 = mouses_csv['age'] == '12mois'\n",
    "m2 = male * age1\n",
    "m12 = male * age2\n",
    "f2 = female * age1\n",
    "f12 = female * age2"
   ]
  },
  {
   "cell_type": "code",
   "execution_count": 3,
   "id": "0f1219a5",
   "metadata": {},
   "outputs": [
    {
     "name": "stdout",
     "output_type": "stream",
     "text": [
      "33\n"
     ]
    },
    {
     "data": {
      "image/png": "[encoded data removed]",
      "text/plain": [
       "<Figure size 138.24x318.24 with 1 Axes>"
      ]
     },
     "metadata": {
      "needs_background": "light"
     },
     "output_type": "display_data"
    }
   ],
   "source": [
    "design_matrix = pd.DataFrame(np.vstack((m2, m12, f2, f12)).T,\n",
    "                             columns=['m2', 'm12', 'f2', 'f12'])\n",
    "ax = plot_design_matrix(design_matrix)\n",
    "print(len(design_matrix))"
   ]
  },
  {
   "cell_type": "code",
   "execution_count": 4,
   "id": "e60ffbdb",
   "metadata": {},
   "outputs": [],
   "source": [
    "thresholds_dict = { \n",
    "                'fdr005': ('fdr', 0.05),\n",
    "                'fpr0001': ('fpr', 0.001),  \n",
    "                'fpr0005': ('fpr', 0.005),\n",
    "            }\n",
    "\n",
    "contrasts_dict = {\n",
    "    'age'    : [-1, 1, -1, 1],\n",
    "    'age-M'  : [-1, 1, 0, 0],\n",
    "    'age-F'  : [0, 0, -1, 1],\n",
    "    'sex'    : [-1, -1, 1, 1],\n",
    "    'sex-2m' : [-1, 0, 1, 0],\n",
    "    'sex-12m': [0, -1, 0, 1],\n",
    "}"
   ]
  },
  {
   "cell_type": "code",
   "execution_count": 5,
   "id": "ce3e6fde",
   "metadata": {},
   "outputs": [
    {
     "name": "stderr",
     "output_type": "stream",
     "text": [
      "The given float value must not exceed 4.7307100529977. But, you have given threshold=inf \n",
      "empty mask\n",
      "The given float value must not exceed 4.7307100529977. But, you have given threshold=inf \n",
      "Attention: No clusters with stat higher than inf\n",
      "The given float value must not exceed 4.013503285522114. But, you have given threshold=inf \n",
      "empty mask\n",
      "The given float value must not exceed 4.013503285522114. But, you have given threshold=inf \n",
      "Attention: No clusters with stat higher than inf\n",
      "The given float value must not exceed 4.2993376983603815. But, you have given threshold=inf \n",
      "empty mask\n",
      "The given float value must not exceed 4.2993376983603815. But, you have given threshold=inf \n",
      "Attention: No clusters with stat higher than inf\n",
      "The given float value must not exceed 3.9028210805661905. But, you have given threshold=inf \n",
      "empty mask\n",
      "The given float value must not exceed 3.9028210805661905. But, you have given threshold=inf \n",
      "Attention: No clusters with stat higher than inf\n",
      "The given float value must not exceed 3.9258206799159936. But, you have given threshold=inf \n",
      "empty mask\n",
      "The given float value must not exceed 3.9258206799159936. But, you have given threshold=inf \n",
      "Attention: No clusters with stat higher than inf\n",
      "The given float value must not exceed 4.7307100529977. But, you have given threshold=inf \n",
      "The given float value must not exceed 4.013503285522114. But, you have given threshold=inf \n",
      "The given float value must not exceed 4.2993376983603815. But, you have given threshold=inf \n",
      "The given float value must not exceed 3.9028210805661905. But, you have given threshold=inf \n",
      "The given float value must not exceed 3.9258206799159936. But, you have given threshold=inf \n",
      "The given float value must not exceed 4.523441492105803. But, you have given threshold=inf \n",
      "empty mask\n",
      "The given float value must not exceed 4.523441492105803. But, you have given threshold=inf \n",
      "Attention: No clusters with stat higher than inf\n",
      "The given float value must not exceed 4.77485578440719. But, you have given threshold=inf \n",
      "empty mask\n",
      "The given float value must not exceed 4.77485578440719. But, you have given threshold=inf \n",
      "Attention: No clusters with stat higher than inf\n",
      "The given float value must not exceed 3.761574520590779. But, you have given threshold=inf \n",
      "empty mask\n",
      "The given float value must not exceed 3.761574520590779. But, you have given threshold=inf \n",
      "Attention: No clusters with stat higher than inf\n",
      "The given float value must not exceed 4.2787527558413005. But, you have given threshold=inf \n",
      "empty mask\n",
      "The given float value must not exceed 4.2787527558413005. But, you have given threshold=inf \n",
      "Attention: No clusters with stat higher than inf\n",
      "The given float value must not exceed 4.523441492105803. But, you have given threshold=inf \n",
      "The given float value must not exceed 4.77485578440719. But, you have given threshold=inf \n",
      "The given float value must not exceed 3.761574520590779. But, you have given threshold=inf \n",
      "The given float value must not exceed 4.2787527558413005. But, you have given threshold=inf \n",
      "The given float value must not exceed 4.359313602537471. But, you have given threshold=inf \n",
      "empty mask\n",
      "The given float value must not exceed 4.359313602537471. But, you have given threshold=inf \n",
      "Attention: No clusters with stat higher than inf\n",
      "The given float value must not exceed 3.7932250471650146. But, you have given threshold=inf \n",
      "empty mask\n",
      "The given float value must not exceed 3.7932250471650146. But, you have given threshold=inf \n",
      "Attention: No clusters with stat higher than inf\n",
      "The given float value must not exceed 4.786931249741196. But, you have given threshold=inf \n",
      "empty mask\n",
      "The given float value must not exceed 4.786931249741196. But, you have given threshold=inf \n",
      "Attention: No clusters with stat higher than inf\n",
      "Attention: No clusters with stat higher than 3.2905267314918945\n",
      "The given float value must not exceed 4.359313602537471. But, you have given threshold=inf \n",
      "The given float value must not exceed 3.7932250471650146. But, you have given threshold=inf \n",
      "The given float value must not exceed 4.786931249741196. But, you have given threshold=inf \n"
     ]
    }
   ],
   "source": [
    "atlas_mri = os.path.join('dataset3', 'Atlas', 'P56_Atlas_128_norm_id.nii.gz')\n",
    "mask_img = nib.load(os.path.join('dataset3', 'Atlas', 'P56_Annotation_128_norm_id_mask.nii.gz'))\n",
    "outfolders = [\n",
    "            \"scenario1\",\n",
    "            \"scenario2\",\n",
    "            \"scenario3\",\n",
    "]\n",
    "for outfolder in outfolders:\n",
    "    log_filenames = sorted(glob(os.path.join('output', 'Feminad', outfolder, 'Log10Jacobian_Deformable', \"*.nii.gz\")))\n",
    "    second_level_model = SecondLevelModel(smoothing_fwhm=4.0, mask_img=mask_img)\n",
    "    second_level_model.fit(log_filenames,\n",
    "                           design_matrix=design_matrix)\n",
    "\n",
    "    for heights, values in thresholds_dict.items():\n",
    "        report = make_glm_report(model=second_level_model,\n",
    "                                     contrasts=contrasts_dict,\n",
    "                                     bg_img=atlas_mri,\n",
    "                                     height_control=values[0],\n",
    "                                     alpha=values[1],\n",
    "                                     display_mode='z'\n",
    "                                     )\n",
    "        report.save_as_html(os.path.join('output', 'Feminad', outfolder, 'Reports-Deformable', 'report_deformable_feminad_' + str(heights) + '.html'))\n",
    "\n",
    "    for k,v in contrasts_dict.items(): \n",
    "        z_map = second_level_model.compute_contrast(second_level_contrast=v, output_type='z_score')\n",
    "        for heights, values in thresholds_dict.items():\n",
    "            threshold_mask, threshold = threshold_stats_img(z_map, alpha=values[1], height_control=values[0])    \n",
    "            nib.save(threshold_mask, os.path.join('output', 'Feminad', outfolder, 'Reports-Deformable', str(k) + '_' + str(heights) + '.nii.gz'))"
   ]
  },
  {
   "cell_type": "code",
   "execution_count": null,
   "id": "9b7d47e5",
   "metadata": {},
   "outputs": [],
   "source": []
  },
  {
   "cell_type": "code",
   "execution_count": null,
   "id": "c5b18a7e",
   "metadata": {},
   "outputs": [],
   "source": []
  }
 ],
 "metadata": {
  "kernelspec": {
   "display_name": "venv",
   "language": "python",
   "name": "venv"
  },
  "language_info": {
   "codemirror_mode": {
    "name": "ipython",
    "version": 3
   },
   "file_extension": ".py",
   "mimetype": "text/x-python",
   "name": "python",
   "nbconvert_exporter": "python",
   "pygments_lexer": "ipython3",
   "version": "3.8.10"
  }
 },
 "nbformat": 4,
 "nbformat_minor": 5
}
