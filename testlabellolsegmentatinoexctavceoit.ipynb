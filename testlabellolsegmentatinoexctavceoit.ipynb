{
 "cells": [
  {
   "cell_type": "code",
   "execution_count": 1,
   "id": "1da98136-61d9-45db-a698-d053544871a6",
   "metadata": {},
   "outputs": [],
   "source": [
    "from glob import glob\n",
    "import os\n",
    "import torchmetrics\n",
    "import nibabel as nib\n",
    "import torch\n",
    "import numpy as np"
   ]
  },
  {
   "cell_type": "code",
   "execution_count": 2,
   "id": "5f84d749-1c0f-4909-93ba-a038ee7827ae",
   "metadata": {},
   "outputs": [
    {
     "name": "stdout",
     "output_type": "stream",
     "text": [
      "IRIS\n",
      "0.05 - nan\n",
      "0.1 - nan\n",
      "0.15 - nan\n",
      "0.2 - nan\n",
      "0.25 - nan\n",
      "0.3 - nan\n",
      "0.35 - nan\n",
      "0.4 - nan\n",
      "0.45 - nan\n",
      "0.5 - nan\n",
      "0.55 - nan\n",
      "0.6 - nan\n",
      "0.65 - nan\n",
      "0.7 - nan\n",
      "0.75 - nan\n",
      "0.8 - nan\n",
      "0.85 - nan\n",
      "0.9 - nan\n",
      "0.95 - nan\n",
      "1.0 - nan\n",
      "----------\n",
      "Femina3\n"
     ]
    },
    {
     "name": "stderr",
     "output_type": "stream",
     "text": [
      "C:\\Users\\Franck\\AppData\\Local\\Programs\\Python\\Python312\\Lib\\site-packages\\numpy\\_core\\fromnumeric.py:3860: RuntimeWarning: Mean of empty slice.\n",
      "  return _methods._mean(a, axis=axis, dtype=dtype,\n",
      "C:\\Users\\Franck\\AppData\\Local\\Programs\\Python\\Python312\\Lib\\site-packages\\numpy\\_core\\_methods.py:145: RuntimeWarning: invalid value encountered in scalar divide\n",
      "  ret = ret.dtype.type(ret / rcount)\n"
     ]
    },
    {
     "name": "stdout",
     "output_type": "stream",
     "text": [
      "0.05 - 0.9029\n",
      "0.1 - 0.9447\n",
      "0.15 - 0.9224\n",
      "0.2 - 0.8968\n",
      "0.25 - 0.8844\n",
      "0.3 - 0.8795\n",
      "0.35 - 0.8777\n",
      "0.4 - 0.8771\n",
      "0.45 - 0.877\n",
      "0.5 - 0.877\n",
      "0.55 - 0.877\n",
      "0.6 - 0.8771\n",
      "0.65 - 0.8771\n",
      "0.7 - 0.8771\n",
      "0.75 - 0.8771\n",
      "0.8 - 0.8771\n",
      "0.85 - 0.8771\n",
      "0.9 - 0.8771\n",
      "0.95 - 0.8771\n",
      "1.0 - 0.8771\n",
      "----------\n",
      "GIN\n",
      "0.05 - 0.9573\n",
      "0.1 - 0.9679\n",
      "0.15 - 0.9698\n",
      "0.2 - 0.969\n",
      "0.25 - 0.9636\n",
      "0.3 - 0.9524\n",
      "0.35 - 0.935\n",
      "0.4 - 0.8998\n",
      "0.45 - 0.8794\n",
      "0.5 - 0.8764\n",
      "0.55 - 0.876\n",
      "0.6 - 0.8759\n",
      "0.65 - 0.8757\n",
      "0.7 - 0.8754\n",
      "0.75 - 0.8749\n",
      "0.8 - 0.8748\n",
      "0.85 - 0.8748\n",
      "0.9 - 0.8748\n",
      "0.95 - 0.8748\n",
      "1.0 - 0.8748\n",
      "----------\n"
     ]
    }
   ],
   "source": [
    "datasets = ['IRIS', 'Femina3', 'GIN']\n",
    "for dataset in datasets: \n",
    "    print(dataset)\n",
    "    mris = sorted(glob(os.path.join(\"dataset3\", dataset , \"MRI\", \"*_id.nii.gz\")))\n",
    "    masks = sorted(glob(os.path.join(\"dataset3\", dataset , \"Mask\", \"*_id.nii.gz\")))\n",
    "    thresholds = [0.05*(i+1) for i in range(20)]\n",
    "    for t in thresholds:\n",
    "        dices = []\n",
    "        for i in range(len(mris)):\n",
    "            ptdr_mri = mris[i]\n",
    "            ptdr_mask = masks[i]\n",
    "            mri = nib.load(ptdr_mri)\n",
    "            mask = nib.load(ptdr_mask)\n",
    "            dicemetric = torchmetrics.Dice(average='micro', mdmc_average='global', num_classes=2)\n",
    "            \n",
    "            mask2 = mri.get_fdata() > t\n",
    "            mask1 = mask.get_fdata()\n",
    "            \n",
    "            mask1 = torch.from_numpy(mask1.ravel()).type('torch.LongTensor')\n",
    "            mask2 = torch.from_numpy(mask2.ravel()).type('torch.LongTensor')\n",
    "            \n",
    "            values = dicemetric(mask1,mask2)\n",
    "            dices.append(values.item())\n",
    "        print(str(np.round(t,3)) + ' - ' + str(np.round(np.mean(dices),4)))\n",
    "    print('-'*10)"
   ]
  },
  {
   "cell_type": "code",
   "execution_count": null,
   "id": "5877ffb2-e9fa-43af-90e1-beb2b22e7629",
   "metadata": {},
   "outputs": [],
   "source": []
  }
 ],
 "metadata": {
  "kernelspec": {
   "display_name": "Python 3 (ipykernel)",
   "language": "python",
   "name": "python3"
  },
  "language_info": {
   "codemirror_mode": {
    "name": "ipython",
    "version": 3
   },
   "file_extension": ".py",
   "mimetype": "text/x-python",
   "name": "python",
   "nbconvert_exporter": "python",
   "pygments_lexer": "ipython3",
   "version": "3.12.9"
  }
 },
 "nbformat": 4,
 "nbformat_minor": 5
}
