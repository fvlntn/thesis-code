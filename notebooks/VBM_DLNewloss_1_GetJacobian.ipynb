{
 "cells": [
  {
   "cell_type": "code",
   "execution_count": 1,
   "id": "2249563a",
   "metadata": {},
   "outputs": [],
   "source": [
    "import reg_mri\n",
    "import os\n",
    "from glob import glob\n",
    "from utils import compute_mean_dice\n",
    "import nibabel as nib\n",
    "from scipy.spatial.distance import dice\n",
    "import numpy as np\n",
    "import itk\n",
    "import SimpleITK as sitk\n",
    "import scipy.ndimage\n",
    "import scipy\n",
    "import matplotlib.pyplot as plt\n",
    "from transforms_dict import getRegistrationEvalInverseTransformForMRI, SaveTransformForMRI\n",
    "from tqdm import tqdm\n",
    "import monai\n",
    "import subprocess"
   ]
  },
  {
   "cell_type": "code",
   "execution_count": 2,
   "id": "e970d470",
   "metadata": {},
   "outputs": [],
   "source": [
    "# Save Template with same Atlas header\n",
    "# template_name = \"dataset2/Atlas/Deformable_Feminad_template0.nii.gz\"\n",
    "# mask_name = \"dataset2/Atlas/Deformable_Feminad_Mask_template0.nii.gz\"\n",
    "# atlas_name = \"dataset2/Atlas/Norm_Atlas_MRI_128.nii.gz\"\n",
    "# \n",
    "# affine = nib.load(atlas_name).affine\n",
    "# header = nib.load(atlas_name).header\n",
    "# \n",
    "# template = nib.load(template_name).get_fdata()\n",
    "# new_template = nib.Nifti1Image(template, affine, header)\n",
    "# \n",
    "# outname_template = \"dataset2/Atlas/Deformable_Feminad_template0_sameaffine.nii.gz\"\n",
    "# nib.save(new_template, outname_template)\n",
    "# \n",
    "# mask = nib.load(mask_name).get_fdata()\n",
    "# new_mask = nib.Nifti1Image(mask, affine, header)\n",
    "# \n",
    "# outname_mask = \"dataset2/Atlas/Deformable_Feminad_Mask_template0_sameaffine.nii.gz\"\n",
    "# nib.save(new_mask, outname_mask)"
   ]
  },
  {
   "cell_type": "code",
   "execution_count": 3,
   "id": "cce5d15b",
   "metadata": {
    "scrolled": true
   },
   "outputs": [
    {
     "name": "stdout",
     "output_type": "stream",
     "text": [
      "=> Saved to output/Feminad/DL_Trilinear/MRI_N4_Registration_Deformable/Norm_Resampled_N4_12_6517_MRI.nii.gz\n",
      "=> Saved to output/Feminad/DL_Trilinear/MRI_N4_Registration_Deformable/Norm_Resampled_N4_12_6517_Resample.nii.gz\n",
      "=> Saved to output/Feminad/DL_Trilinear/MRI_N4_Registration_Deformable/Norm_Resampled_N4_12_6517_Resample_Reg.nii.gz\n",
      "=> Saved to output/Feminad/DL_Trilinear/MRI_N4_Registration_Deformable/Norm_Resampled_N4_12_6517_Reg.nii.gz\n",
      "1.5013134239999992\n",
      "(128, 128, 128, 1, 3)\n",
      "0\r"
     ]
    }
   ],
   "source": [
    "model = \"registration/deformable/template_deformable_feminad_newloss_fixedaffine_lr1e-4_bending_trilinear_2-0-1.pth\"\n",
    "mris = sorted(glob(os.path.join('dataset2', 'Feminad', 'MRI_N4_Resample_Norm', \"*.nii.gz\")))\n",
    "atlas_name = \"dataset2/Atlas/Deformable_Feminad_template0_sameaffine.nii.gz\"\n",
    "outfolder = \"DL_Trilinear\"\n",
    "sample_name = \"output/Feminad/ANTS/N4_2_6516_Warp.nii.gz\"\n",
    "for i, mri in enumerate(mris):\n",
    "    outname = \"output/Feminad/\" + outfolder + \"/MRI_N4_Registration_Deformable/\" + mri.split('/')[-1].split('.')[0]\n",
    "    pred_image, ddfs = reg_mri.main(model, mri, outname, False, True, \"deformable\")\n",
    "    \n",
    "    moving_image = ddfs[0].cpu()\n",
    "    \n",
    "    affine_ddf = ddfs[1].cpu()    \n",
    "    affine_ddf = affine_ddf.cpu().numpy()\n",
    "    affine_ddf = np.transpose(affine_ddf, (2, 3, 4, 0, 1))\n",
    "    #affine_ddf = scipy.ndimage.gaussian_filter(affine_ddf, sigma=1.0) \n",
    "    \n",
    "    deformable_ddf = ddfs[2].cpu()\n",
    "    deformable_ddf = deformable_ddf.cpu().numpy()\n",
    "    deformable_ddf = np.transpose(deformable_ddf, (2, 3, 4, 0, 1))\n",
    "    #deformable_ddf = scipy.ndimage.gaussian_filter(deformable_ddf, sigma=1.0) \n",
    "           \n",
    "    affine = nib.load(sample_name).affine\n",
    "    header = nib.load(sample_name).header \n",
    "    \n",
    "    affine_image = nib.Nifti1Image(affine_ddf, affine, header)\n",
    "    print(affine_ddf.shape)\n",
    "    #outname_affine = \"output/Feminad/\" + outfolder + \"/AffineWarp/\" + mri.split('/')[-1].split('.')[0] + \".nii.gz\"\n",
    "    #nib.save(affine_image, outname_affine)\n",
    "    #\n",
    "    #deformable_image = nib.Nifti1Image(deformable_ddf, affine, header)\n",
    "    #outname_deformable = \"output/Feminad/\" + outfolder + \"/DeformableWarp/\" + mri.split('/')[-1].split('.')[0] + \".nii.gz\"\n",
    "    #nib.save(deformable_image, outname_deformable)\n",
    "    print(i, end='\\r')\n",
    "    break\n",
    "\n",
    "    "
   ]
  },
  {
   "cell_type": "code",
   "execution_count": 4,
   "id": "annoying-instruction",
   "metadata": {},
   "outputs": [],
   "source": [
    "def getLog10Jacobian_deformable_ants(warp_img, outfolder):\n",
    "    outdir = os.path.join('output', 'Feminad', outfolder, 'Log10Jacobian_Deformable')\n",
    "    outname = outdir + '/Log10JacobianDeformable_' + warp_img.split('/')[-1].split('Warp')[0] + '.nii.gz'\n",
    "    jacobian_command = \"CreateJacobianDeterminantImage 3 \" + str(warp_img) + \" \" + str(outname) + \" 1 1\"\n",
    "    subprocess.call(jacobian_command.split(\" \"))"
   ]
  },
  {
   "cell_type": "code",
   "execution_count": 5,
   "id": "b6cf202b",
   "metadata": {},
   "outputs": [],
   "source": [
    "def getLog10Jacobian_affine_ants(warp_img, outfolder):\n",
    "    outdir = os.path.join('output', 'Feminad', outfolder, 'Log10Jacobian_Affine')\n",
    "    outname = outdir + '/Log10JacobianAffine_' + warp_img.split('/')[-1].split('Warp')[0] + '.nii.gz'\n",
    "    jacobian_command = \"CreateJacobianDeterminantImage 3 \" + str(warp_img) + \" \" + str(outname) + \" 1 1\"\n",
    "    subprocess.call(jacobian_command.split(\" \"))"
   ]
  },
  {
   "cell_type": "code",
   "execution_count": 6,
   "id": "occupied-bracket",
   "metadata": {},
   "outputs": [],
   "source": [
    "def getLog10Jacobian_affinedeformable_ants(aff_log10jac, def_log10jac, outfolder):\n",
    "    outdir = os.path.join('output', 'Feminad', outfolder, 'Log10Jacobian_AffineDeformable')\n",
    "    outname = outdir + '/Log10JacobianAffineDeformable' + aff_log10jac.split('/')[-1].split('Log10JacobianAffine')[-1]\n",
    "    combine_command = \"ImageMath 3 \" + str(outname) + \" + \" + str(aff_log10jac) + \" \" + str(def_log10jac)\n",
    "    subprocess.call(combine_command.split(\" \"))"
   ]
  },
  {
   "cell_type": "code",
   "execution_count": 7,
   "id": "acoustic-somalia",
   "metadata": {},
   "outputs": [
    {
     "name": "stdout",
     "output_type": "stream",
     "text": [
      "33\r"
     ]
    }
   ],
   "source": [
    "mridir = 'output/Feminad/' + outfolder + '/'\n",
    "affine_warps = sorted(glob(os.path.join(mridir, 'AffineWarp', \"*.nii.gz\")))\n",
    "deformable_warps = sorted(glob(os.path.join(mridir, 'DeformableWarp', \"*.nii.gz\")))\n",
    "for i in range(len(affine_warps)):\n",
    "    getLog10Jacobian_affine_ants(affine_warps[i], outfolder)    \n",
    "    getLog10Jacobian_deformable_ants(deformable_warps[i], outfolder)  \n",
    "    print(i+1, end='\\r')"
   ]
  },
  {
   "cell_type": "code",
   "execution_count": 8,
   "id": "67960327",
   "metadata": {},
   "outputs": [
    {
     "name": "stdout",
     "output_type": "stream",
     "text": [
      "33\r"
     ]
    }
   ],
   "source": [
    "aff_log10jacs = sorted(glob(os.path.join(mridir, 'Log10Jacobian_Affine', \"*.nii.gz\")))\n",
    "def_log10jacs = sorted(glob(os.path.join(mridir, 'Log10Jacobian_Deformable', \"*.nii.gz\")))\n",
    "for i in range(len(aff_log10jacs)):\n",
    "    getLog10Jacobian_affinedeformable_ants(aff_log10jacs[i], def_log10jacs[i], outfolder)\n",
    "    print(i+1, end='\\r')"
   ]
  },
  {
   "cell_type": "code",
   "execution_count": null,
   "id": "copyrighted-supply",
   "metadata": {},
   "outputs": [],
   "source": []
  },
  {
   "cell_type": "code",
   "execution_count": null,
   "id": "ab5a2916",
   "metadata": {},
   "outputs": [],
   "source": []
  }
 ],
 "metadata": {
  "kernelspec": {
   "display_name": "venv",
   "language": "python",
   "name": "venv"
  },
  "language_info": {
   "codemirror_mode": {
    "name": "ipython",
    "version": 3
   },
   "file_extension": ".py",
   "mimetype": "text/x-python",
   "name": "python",
   "nbconvert_exporter": "python",
   "pygments_lexer": "ipython3",
   "version": "3.8.10"
  }
 },
 "nbformat": 4,
 "nbformat_minor": 5
}
