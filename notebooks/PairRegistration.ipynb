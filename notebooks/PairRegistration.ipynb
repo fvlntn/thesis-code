{
 "cells": [
  {
   "cell_type": "code",
   "execution_count": 5,
   "id": "daily-anniversary",
   "metadata": {},
   "outputs": [],
   "source": [
    "import torch\n",
    "import monai"
   ]
  },
  {
   "cell_type": "code",
   "execution_count": 6,
   "id": "japanese-demand",
   "metadata": {},
   "outputs": [],
   "source": [
    "from torch.utils.data import Dataset\n",
    "\n",
    "\n",
    "class PairRegistrationDataset(Dataset):\n",
    "    def __init__(self, X):\n",
    "        self.X = X\n",
    "        self.len = len(self.X)\n",
    "\n",
    "    def __len__(self):\n",
    "        return self.len\n",
    "\n",
    "    def __getitem__(self, index):\n",
    "        index_moving = torch.randint(self.len, (1,))\n",
    "        index_fixed = torch.randint(self.len, (1,))\n",
    "\n",
    "        _moving = self.X[index_moving][0]\n",
    "        _fixed = self.X[index_fixed][0]\n",
    "\n",
    "        return _moving, _fixed\n"
   ]
  },
  {
   "cell_type": "code",
   "execution_count": 7,
   "id": "stopped-evening",
   "metadata": {},
   "outputs": [],
   "source": [
    "import pytorch_lightning as pl\n",
    "from monai.networks.blocks import Warp\n",
    "from monai.losses import LocalNormalizedCrossCorrelationLoss, MultiScaleLoss, DiceLoss, BendingEnergyLoss\n",
    "import torch.nn.functional as F\n",
    "\n",
    "\n",
    "class RegistrationUnetModel(pl.LightningModule):\n",
    "    def __init__(self, weights):\n",
    "        super().__init__()\n",
    "        self.weights = weights\n",
    "        self.model = monai.networks.nets.UNet(\n",
    "            dimensions=3,\n",
    "            in_channels=1,\n",
    "            out_channels=1,\n",
    "            channels=(16, 32, 64, 128, 256),\n",
    "            strides=(2, 2, 2, 2),\n",
    "            num_res_units=2,\n",
    "        )\n",
    "        self.warp = Warp(\"bilinear\", \"border\")\n",
    "\n",
    "    def forward(self, moving, fixed):\n",
    "        x = torch.cat([moving, fixed], dim=1)\n",
    "        ddf = self.model(x)\n",
    "        pred_image = self.warp(moving, ddf)\n",
    "\n",
    "        return pred_image, ddf\n",
    "\n",
    "    def configure_optimizers(self):\n",
    "        optimizer = torch.optim.Adam(self.parameters(), lr=0.0001)\n",
    "        #scheduler = torch.optim.lr_scheduler.ReduceLROnPlateau(optimizer, mode='min', factor=0.9, patience=10, verbose=True)\n",
    "        #optimizersdict = {\"optimizer\": optimizer, \"lr_scheduler\": {\"scheduler\": scheduler, \"monitor\": \"loss\"\"}}\n",
    "        return optimizer\n",
    "\n",
    "    def training_step(self, batch, batch_idx):\n",
    "        source, tmp = batch\n",
    "        y_source, y_target, forward_flow = self(source)\n",
    "        loss = F.mse_loss(self.atlas, y_source) + F.mse_loss(y_target, source) +  0.01 * torch.norm(torch.mean(forward_flow, 0), p=2)\n",
    "        return loss\n"
   ]
  },
  {
   "cell_type": "code",
   "execution_count": null,
   "id": "digital-spider",
   "metadata": {},
   "outputs": [],
   "source": [
    "from monai.data import DataLoader, CacheDataset\n"
   ]
  },
  {
   "cell_type": "code",
   "execution_count": 8,
   "id": "spectacular-distributor",
   "metadata": {},
   "outputs": [],
   "source": [
    "transform = transforms.ToTensor()\n",
    "\n",
    "train_data = datasets.MNIST(root='data', train=True, download=True, transform=transform)\n",
    "test_data = datasets.MNIST(root='data', train=False, download=True, transform=transform)"
   ]
  },
  {
   "cell_type": "code",
   "execution_count": 1,
   "id": "seeing-flood",
   "metadata": {},
   "outputs": [
    {
     "ename": "NameError",
     "evalue": "name 'train_data' is not defined",
     "output_type": "error",
     "traceback": [
      "\u001b[1;31m---------------------------------------------------------------------------\u001b[0m",
      "\u001b[1;31mNameError\u001b[0m                                 Traceback (most recent call last)",
      "\u001b[1;32m<ipython-input-1-f210302c5797>\u001b[0m in \u001b[0;36m<module>\u001b[1;34m\u001b[0m\n\u001b[1;32m----> 1\u001b[1;33m \u001b[0mprint\u001b[0m\u001b[1;33m(\u001b[0m\u001b[0mtrain_data\u001b[0m\u001b[1;33m.\u001b[0m\u001b[0mdata\u001b[0m\u001b[1;33m.\u001b[0m\u001b[0mshape\u001b[0m\u001b[1;33m)\u001b[0m\u001b[1;33m\u001b[0m\u001b[1;33m\u001b[0m\u001b[0m\n\u001b[0m",
      "\u001b[1;31mNameError\u001b[0m: name 'train_data' is not defined"
     ]
    }
   ],
   "source": [
    "print(train_data.data.shape)"
   ]
  },
  {
   "cell_type": "code",
   "execution_count": null,
   "id": "medieval-rendering",
   "metadata": {},
   "outputs": [],
   "source": []
  }
 ],
 "metadata": {
  "kernelspec": {
   "display_name": "Python 3 (ipykernel)",
   "language": "python",
   "name": "python3"
  },
  "language_info": {
   "codemirror_mode": {
    "name": "ipython",
    "version": 3
   },
   "file_extension": ".py",
   "mimetype": "text/x-python",
   "name": "python",
   "nbconvert_exporter": "python",
   "pygments_lexer": "ipython3",
   "version": "3.8.10"
  }
 },
 "nbformat": 4,
 "nbformat_minor": 5
}
