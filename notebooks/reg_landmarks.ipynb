{
 "cells": [
  {
   "cell_type": "code",
   "execution_count": 1,
   "id": "15c0869d",
   "metadata": {},
   "outputs": [],
   "source": [
    "import argparse\n",
    "import logging\n",
    "import sys\n",
    "\n",
    "import numpy as np\n",
    "import torch\n",
    "from monai.transforms import AsDiscrete, MaskIntensity\n",
    "from monai.utils import set_determinism\n",
    "from torch.utils.tensorboard import SummaryWriter\n",
    "import random\n",
    "import os\n",
    "\n",
    "import utils_parser\n",
    "from reg_data import getRegistrationDataset\n",
    "from reg_model import getRegistrationModel\n",
    "from utils import compute_mean_dice, getAdamOptimizer, getReducePlateauScheduler, loadExistingModel, getDevice, compute_mean_dice\n",
    "from utils import print_model_output, print_weights, add_weights_to_name, compute_landmarks_distance_local, compute_csv_distance\n",
    "from loss import get_deformable_registration_loss_from_weights, get_affine_registration_loss_from_weights\n",
    "import pandas as pd\n",
    "import os\n",
    "from glob import glob\n",
    "from matplotlib import pyplot as plt\n",
    "import monai\n",
    "import torchinfo\n",
    "from miseval import evaluate\n",
    "from utils import apply_warp_to_landmarks_df, create_row_csv\n",
    "import nibabel as nib"
   ]
  },
  {
   "cell_type": "markdown",
   "id": "946872c8",
   "metadata": {},
   "source": [
    "**Conventional metrics**"
   ]
  },
  {
   "cell_type": "markdown",
   "id": "d7cfd504",
   "metadata": {},
   "source": [
    "Landmarks"
   ]
  },
  {
   "cell_type": "code",
   "execution_count": 35,
   "id": "eb7671c5",
   "metadata": {},
   "outputs": [],
   "source": [
    "def get_barycentre(csvs): \n",
    "    df0 = pd.read_csv(csvs[0], sep=',', header=0)\n",
    "    b_x = np.zeros(len(df0))\n",
    "    b_y = np.zeros(len(df0))\n",
    "    b_z = np.zeros(len(df0))\n",
    "    for i, csv in enumerate(csvs):\n",
    "        df = pd.read_csv(csv, sep=',', header=0)\n",
    "        for j in range(len(df)):\n",
    "            b_x[j] += df['x'][j]\n",
    "            b_y[j] += df['y'][j]\n",
    "            b_z[j] += df['z'][j]\n",
    "    b_x /= len(csvs)\n",
    "    b_y /= len(csvs)\n",
    "    b_z /= len(csvs)\n",
    "    \n",
    "    barycentre_csv = pd.DataFrame()\n",
    "    for i in range(len(b_x)):\n",
    "        t = df0['t'][i]\n",
    "        label = df0['label'][i]\n",
    "        mass = df0['mass'][i]\n",
    "        volume = df0['volume'][i]\n",
    "        count = df0['count'][i]\n",
    "        row = create_row_csv(b_x[i], b_y[i], b_z[i], t, label, mass, volume, count)\n",
    "        temp_df = pd.DataFrame(data=row, index=[0])\n",
    "        barycentre_csv = pd.concat([barycentre_csv, temp_df], ignore_index=True)\n",
    "    return barycentre_csv"
   ]
  },
  {
   "cell_type": "code",
   "execution_count": 41,
   "id": "228d4895",
   "metadata": {},
   "outputs": [
    {
     "name": "stdout",
     "output_type": "stream",
     "text": [
      "-- Landmarks: --\n",
      "No registration: 4.313\n",
      "Affine: 1.621\n",
      "SyN: 1.179\n",
      "-- Landmarks Barycentre: --\n",
      "No registration: 4.282\n",
      "Affine: 1.556\n",
      "SyN: 1.054\n"
     ]
    }
   ],
   "source": [
    "for dataset in [\"Feminad\"]:\n",
    "    data_dir = os.path.join(\"/home/valentini/dev/Mousenet/dataset2/\" + str(dataset) + \"/\")        \n",
    "    landmarks_original_apply = sorted(glob(os.path.join(\"dataset2\", \"Feminad\", \"Landmarks_Resample_Identity\", \"*_antss.csv\")))\n",
    "    landmarks_original_apply_pos = sorted(glob(os.path.join(\"dataset2\", \"Feminad\", \"Landmarks_Resample_Identity\", \"*_scipy.csv\")))\n",
    "    landmarks_original_barycentre = get_barycentre(landmarks_original_apply)   \n",
    "        \n",
    "    landmarks_affine_apply = sorted(glob(os.path.join(\"dataset2\", \"Feminad\", \"Landmarks_Resample_Identity_Affine\", \"*_apply.csv\")))\n",
    "    landmarks_affine_apply_pos = sorted(glob(os.path.join(\"dataset2\", \"Feminad\", \"Landmarks_Resample_Identity_Affine\", \"*_apply_pos.csv\")))\n",
    "    landmarks_affine_barycentre = get_barycentre(landmarks_affine_apply)\n",
    "    \n",
    "    landmarks_ants_apply = sorted(glob(os.path.join(\"dataset2\", \"Feminad\", \"Landmarks_Resample_Identity_Affine_Deformable\", \"*_applytoapply.csv\"))) \n",
    "             \n",
    "    landmarks_ants_atlas = sorted(glob(os.path.join(\"dataset2\", \"Feminad\", \"Landmarks_Resample_Identity_Affine\", \"*_atlas_ants.csv\"))) \n",
    "    landmarks_ants_barycentre = get_barycentre(landmarks_ants_atlas)\n",
    "    \n",
    "    landmarks_template_antss = os.path.join(\"dataset2\", \"Atlas\", \"Identity_Feminad_Template_Landmarks_antss.csv\")\n",
    "    landmarks_template_scipy = os.path.join(\"dataset2\", \"Atlas\", \"Identity_Feminad_Template_Landmarks_scipy.csv\")\n",
    "    \n",
    "    mean_original = 0\n",
    "    mean_affine = 0\n",
    "    mean_ants   = 0\n",
    "    mean_deep   = 0\n",
    "    mean_ants_atlas = 0\n",
    "    mean_deep_atlas = 0\n",
    "    \n",
    "    mean_original_barycentre = 0\n",
    "    mean_affine_barycentre = 0\n",
    "    mean_ants_barycentre = 0\n",
    "\n",
    "    for i, landmark in enumerate(landmarks_affine_apply):\n",
    "        print(i, end='\\r')\n",
    "        \n",
    "        original_apply = compute_csv_distance(landmarks_original_apply[i], landmarks_template_antss)\n",
    "        original_barycentre = compute_csv_distance(landmarks_original_apply[i], landmarks_original_barycentre)\n",
    "        \n",
    "        affine_apply = compute_csv_distance(landmarks_affine_apply[i], landmarks_template_antss)  \n",
    "        affine_barycentre = compute_csv_distance(landmarks_affine_apply[i], landmarks_affine_barycentre)   \n",
    "        \n",
    "        ants_atlas = compute_csv_distance(landmarks_ants_atlas[i], landmarks_affine_apply[i])\n",
    "        ants_barycentre = compute_csv_distance(landmarks_ants_atlas[i], landmarks_ants_barycentre)\n",
    "                    \n",
    "        mean_original += np.mean(original_apply[1:6])\n",
    "        mean_affine += np.mean(affine_apply[1:6])\n",
    "        mean_ants_atlas += np.mean(ants_atlas[1:6])\n",
    "        \n",
    "        mean_original_barycentre += np.mean(original_barycentre[1:6])\n",
    "        mean_affine_barycentre += np.mean(affine_barycentre[1:6])\n",
    "        mean_ants_barycentre += np.mean(ants_barycentre[1:6])\n",
    "        \n",
    "    print('-- Landmarks: --')\n",
    "    print(\"No registration: {:.3f}\".format(mean_original/len(landmarks_affine_apply)))\n",
    "    print(\"Affine: {:.3f}\".format(mean_affine/len(landmarks_affine_apply)))\n",
    "    print(\"SyN: {:.3f}\".format(mean_ants_atlas/len(landmarks_affine_apply)))\n",
    "    \n",
    "    print('-- Landmarks Barycentre: --')\n",
    "    print(\"No registration: {:.3f}\".format(mean_original_barycentre/len(landmarks_affine_apply)))\n",
    "    print(\"Affine: {:.3f}\".format(mean_affine_barycentre/len(landmarks_affine_apply)))\n",
    "    print(\"SyN: {:.3f}\".format(mean_ants_barycentre/len(landmarks_affine_apply)))\n",
    "            "
   ]
  },
  {
   "cell_type": "markdown",
   "id": "4150b396",
   "metadata": {},
   "source": [
    "Dices"
   ]
  },
  {
   "cell_type": "code",
   "execution_count": 8,
   "id": "f2667450",
   "metadata": {},
   "outputs": [
    {
     "name": "stdout",
     "output_type": "stream",
     "text": [
      "No registration\n",
      "Labels: Dice: 0.8880 / Haussdorf: 10.6292 / IoU: 0.8002 / Sens: 0.8953 / Spec: 0.9818\n",
      "--------------------\n",
      "Affine\n",
      "Labels: Dice: 0.9772 / Haussdorf: 8.7946 / IoU: 0.9299 / Sens: 0.9876 / Spec: 1.0205\n",
      "--------------------\n",
      "SyN\n",
      "Labels: Dice: 0.9884 / Haussdorf: 8.5734 / IoU: 0.9495 / Sens: 0.9970 / Spec: 1.0233\n",
      "--------------------\n"
     ]
    }
   ],
   "source": [
    "template_mask = os.path.join(\"dataset2\", \"Atlas\", \"Identity_Feminad_Template_Mask.nii.gz\")\n",
    "template_mask = torch.from_numpy(nib.load(template_mask).get_fdata().reshape(1,128,128,128))\n",
    "template_mask = AsDiscrete(threshold=0.5)(template_mask)\n",
    "template_mask = template_mask.cpu().numpy().squeeze()\n",
    "original_masks = sorted(glob(os.path.join(\"dataset2\", \"Feminad\", \"Mask_Resample_Identity\", \"*.nii.gz\")))\n",
    "affine_masks = sorted(glob(os.path.join(\"dataset2\", \"Feminad\", \"Mask_Resample_Identity_Affine\", \"*.nii.gz\")))\n",
    "ants_masks = sorted(glob(os.path.join(\"dataset2\", \"Feminad\", \"Mask_Resample_Identity_Deformable\", \"*.nii.gz\")))\n",
    "\n",
    "\n",
    "names = [\"No registration\", \"Affine\", \"SyN\"]\n",
    "masks_lists = [original_masks, affine_masks, ants_masks]\n",
    "dice = 0\n",
    "hausdorf = 0\n",
    "iou = 0\n",
    "sens = 0\n",
    "spec = 0\n",
    "for z, masks_list in enumerate(masks_lists):\n",
    "    for i in range(len(masks_list)):\n",
    "        print(i, end='\\r')\n",
    "        mask = torch.from_numpy(nib.load(masks_list[i]).get_fdata().reshape(1,128,128,128))\n",
    "        mask = AsDiscrete(threshold=0.5)(mask)\n",
    "        mask = mask.cpu().numpy().squeeze()\n",
    "\n",
    "        dice += evaluate(template_mask, mask, metric=\"DSC\") \n",
    "        hausdorf += evaluate(template_mask, mask, metric=\"AHD\")  \n",
    "        iou += evaluate(template_mask, mask, metric=\"IoU\")    \n",
    "        sens += evaluate(template_mask, mask, metric=\"SENS\")\n",
    "        spec += evaluate(template_mask, mask, metric=\"SPEC\")\n",
    "    dice /= len(masks_list)\n",
    "    hausdorf /= len(masks_list)\n",
    "    iou /= len(masks_list)\n",
    "    sens /= len(masks_list)\n",
    "    spec /= len(masks_list)\n",
    "    print(names[z])\n",
    "    print(\n",
    "        \"Labels: Dice: {:.4f} / Haussdorf: {:.4f} / IoU: {:.4f} / Sens: {:.4f} / Spec: {:.4f}\".format(\n",
    "            dice, hausdorf, iou, sens, spec\n",
    "        )\n",
    "    )\n",
    "    print('-'*20)"
   ]
  },
  {
   "cell_type": "code",
   "execution_count": null,
   "id": "1e1a6524",
   "metadata": {},
   "outputs": [],
   "source": []
  },
  {
   "cell_type": "markdown",
   "id": "1ca8c3d3",
   "metadata": {},
   "source": [
    "**Deep Learning Metrics**"
   ]
  },
  {
   "cell_type": "code",
   "execution_count": 2,
   "id": "50c1e213",
   "metadata": {
    "scrolled": true
   },
   "outputs": [
    {
     "name": "stderr",
     "output_type": "stream",
     "text": [
      "monai.networks.blocks.Warp: Using PyTorch native grid_sample.\n"
     ]
    },
    {
     "name": "stdout",
     "output_type": "stream",
     "text": [
      "=> Using Feminad affine registered dataset.\n"
     ]
    },
    {
     "name": "stderr",
     "output_type": "stream",
     "text": [
      "Loading dataset: 100%|██████████████████████████████████████████████████████████████████████████████████████████████████████| 33/33 [00:00<00:00, 159644.79it/s]\n",
      "Loading dataset: 100%|██████████████████████████████████████████████████████████████████████████████████████████████████████| 33/33 [00:00<00:00, 510745.51it/s]\n",
      "Loading dataset: 100%|██████████████████████████████████████████████████████████████████████████████████████████████████████| 33/33 [00:00<00:00, 388797.84it/s]\n"
     ]
    },
    {
     "name": "stdout",
     "output_type": "stream",
     "text": [
      "32\r"
     ]
    },
    {
     "name": "stderr",
     "output_type": "stream",
     "text": [
      "monai.networks.blocks.Warp: Using PyTorch native grid_sample.\n"
     ]
    },
    {
     "name": "stdout",
     "output_type": "stream",
     "text": [
      "base-0.1\n",
      "Loss: loss: 0.1401\n",
      "Labels: Dice: 0.9709 / Haussdorf: 8.0573 / IoU: 0.9437 / Sens: 0.9671 / Spec: 0.9962\n",
      "Landmarks: Mean: 1.3358 / Max: 2.3629 / Min: 0.6060\n",
      "Landmarks Barycenter: Mean: 0.9387\n",
      "--------------------\n",
      "=> Using Feminad affine registered dataset.\n"
     ]
    },
    {
     "name": "stderr",
     "output_type": "stream",
     "text": [
      "Loading dataset: 100%|██████████████████████████████████████████████████████████████████████████████████████████████████████| 33/33 [00:00<00:00, 396596.08it/s]\n",
      "Loading dataset: 100%|██████████████████████████████████████████████████████████████████████████████████████████████████████| 33/33 [00:00<00:00, 492569.51it/s]\n",
      "Loading dataset: 100%|██████████████████████████████████████████████████████████████████████████████████████████████████████| 33/33 [00:00<00:00, 109243.91it/s]\n"
     ]
    },
    {
     "name": "stdout",
     "output_type": "stream",
     "text": [
      "32\r"
     ]
    },
    {
     "name": "stderr",
     "output_type": "stream",
     "text": [
      "monai.networks.blocks.Warp: Using PyTorch native grid_sample.\n"
     ]
    },
    {
     "name": "stdout",
     "output_type": "stream",
     "text": [
      "base-8.0\n",
      "Loss: loss: 0.1390\n",
      "Labels: Dice: 0.9589 / Haussdorf: 8.4820 / IoU: 0.9215 / Sens: 0.9729 / Spec: 0.9914\n",
      "Landmarks: Mean: 1.2353 / Max: 2.1447 / Min: 0.6253\n",
      "Landmarks Barycenter: Mean: 1.0061\n",
      "--------------------\n",
      "=> Using Feminad affine registered dataset.\n"
     ]
    },
    {
     "name": "stderr",
     "output_type": "stream",
     "text": [
      "Loading dataset: 100%|██████████████████████████████████████████████████████████████████████████████████████████████████████| 33/33 [00:00<00:00, 270865.03it/s]\n",
      "Loading dataset: 100%|██████████████████████████████████████████████████████████████████████████████████████████████████████| 33/33 [00:00<00:00, 415651.75it/s]\n",
      "Loading dataset: 100%|██████████████████████████████████████████████████████████████████████████████████████████████████████| 33/33 [00:00<00:00, 378174.95it/s]\n"
     ]
    },
    {
     "name": "stdout",
     "output_type": "stream",
     "text": [
      "32\r"
     ]
    },
    {
     "name": "stderr",
     "output_type": "stream",
     "text": [
      "monai.networks.blocks.Warp: Using PyTorch native grid_sample.\n"
     ]
    },
    {
     "name": "stdout",
     "output_type": "stream",
     "text": [
      "affine-0.1\n",
      "Loss: loss: 0.1492\n",
      "Labels: Dice: 0.9740 / Haussdorf: 7.4006 / IoU: 0.9494 / Sens: 0.9682 / Spec: 0.9970\n",
      "Landmarks: Mean: 1.3451 / Max: 2.3593 / Min: 0.5665\n",
      "Landmarks Barycenter: Mean: 0.9929\n",
      "--------------------\n",
      "=> Using Feminad affine registered dataset.\n"
     ]
    },
    {
     "name": "stderr",
     "output_type": "stream",
     "text": [
      "Loading dataset: 100%|██████████████████████████████████████████████████████████████████████████████████████████████████████| 33/33 [00:00<00:00, 211316.08it/s]\n",
      "Loading dataset: 100%|██████████████████████████████████████████████████████████████████████████████████████████████████████| 33/33 [00:00<00:00, 163414.44it/s]\n",
      "Loading dataset: 100%|██████████████████████████████████████████████████████████████████████████████████████████████████████| 33/33 [00:00<00:00, 159277.37it/s]\n"
     ]
    },
    {
     "name": "stdout",
     "output_type": "stream",
     "text": [
      "affine-8.0\n",
      "Loss: loss: 0.1339\n",
      "Labels: Dice: 0.9591 / Haussdorf: 8.5658 / IoU: 0.9219 / Sens: 0.9748 / Spec: 0.9911\n",
      "Landmarks: Mean: 1.2158 / Max: 2.1326 / Min: 0.6025\n",
      "Landmarks Barycenter: Mean: 1.0335\n",
      "--------------------\n"
     ]
    }
   ],
   "source": [
    "z = 0\n",
    "names = [\n",
    "    \"base-0.1\",\n",
    "    \"base-8.0\",\n",
    "    \"affine-0.1\",\n",
    "    \"affine-8.0\",\n",
    "        ]\n",
    "for modelname in [\n",
    "        \"paper/local_overfit_feminad_old_1.0-0.0-0.1.pth\",\n",
    "        \"paper/local_overfit_feminad_old_1.0-0.0-8.0.pth\",\n",
    "        \"paper/local_overfit_feminad_old_affine_1.0-0.0-0.1.pth\",\n",
    "        \"paper/local_overfit_feminad_old_affine_1.0-0.0-8.0.pth\",\n",
    "]:\n",
    "    dataset = \"feminadaffine\"\n",
    "    batchsize = 1\n",
    "    registration_type = \"local\"\n",
    "    atlas=True\n",
    "    mask=False\n",
    "    torch.multiprocessing.set_sharing_strategy('file_system')\n",
    "    torch.backends.cudnn.benchmark = True\n",
    "    \n",
    "    set_determinism(seed=0)\n",
    "    logging.basicConfig(stream=sys.stdout, level=logging.INFO)\n",
    "    device = getDevice()\n",
    "    \n",
    "    \n",
    "    if \"ddf\" in modelname:\n",
    "        use_ddf = True\n",
    "    else:\n",
    "        use_ddf = False\n",
    "    if \"newmodel\" in modelname:\n",
    "        model = getRegistrationModel(registration_type, img_size=128, channels=32, extract=[0,1,2,3,4], use_ddf=use_ddf)\n",
    "        #print(model.summary())\n",
    "    else:\n",
    "        model = getRegistrationModel(registration_type, img_size=128, channels=16, extract=[0,1,2,3], use_ddf=use_ddf)\n",
    "    weights = loadExistingModel(model, None, ft=modelname, registration=True)\n",
    "    model.eval()\n",
    "\n",
    "    dataloaders, size = getRegistrationDataset(dataset=dataset,\n",
    "                                               batch=batchsize,\n",
    "                                               training=False,\n",
    "                                               augment=False,\n",
    "                                               eval_augment=False,\n",
    "                                               atlas=atlas,\n",
    "                                               mask=mask,\n",
    "                                               )\n",
    "\n",
    "    running_loss = 0.0\n",
    "    \n",
    "    running_dice = 0.0\n",
    "    running_hausdorf = 0.0\n",
    "    running_iou = 0.0\n",
    "    running_sens = 0.0\n",
    "    running_spec = 0.0\n",
    "    \n",
    "    running_meanl = 0.0\n",
    "    running_maxl = 0.0\n",
    "    running_minl = 0.0\n",
    "    \n",
    "    running_meanbary = 0.0\n",
    "    \n",
    "    phase=\"test\"\n",
    "    \n",
    "    mouses_df = pd.DataFrame()\n",
    "    with torch.no_grad():\n",
    "        pred_image_csvs = []\n",
    "        for i, data in enumerate(dataloaders[phase]):\n",
    "            print(i, end='\\r')\n",
    "            with torch.set_grad_enabled(phase == 'train'):\n",
    "                rtype = registration_type.lower()\n",
    "                if rtype == 'affine' or rtype == 'local':\n",
    "                    ddf, pred_image, pred_label, _ = model(data)\n",
    "                elif rtype == 'deformable':\n",
    "                    affine_ddf, ddf, pred_image, pred_label, affine_image, affine_label = model(data)\n",
    "\n",
    "                pred_image = pred_image.to(device, non_blocking=True)\n",
    "                pred_label = pred_label.to(device, non_blocking=True)\n",
    "                pred_mask = AsDiscrete(threshold=0.5)(pred_label)\n",
    "\n",
    "                fixed_image = data['fixed_image'].to(device, non_blocking=True)\n",
    "                fixed_label = data['fixed_label'].to(device, non_blocking=True)\n",
    "                fixed_mask = AsDiscrete(threshold=0.5)(fixed_label)\n",
    "                \n",
    "                \n",
    "                weights = [1, 0, 1] # to compare loss between methods\n",
    "                img_loss, lbl_loss, ddf_loss = get_deformable_registration_loss_from_weights(pred_image, pred_label,\n",
    "                                                                                                 fixed_image, fixed_label,\n",
    "                                                                                                 ddf, weights)\n",
    "                loss = img_loss + lbl_loss + ddf_loss\n",
    "                \n",
    "                ##################################\n",
    "                distances = compute_landmarks_distance_local(ddf, data)\n",
    "                \n",
    "                \n",
    "                ddf = ddf.permute(2,3,4,0,1)\n",
    "                cwd = os.path.abspath(\"/home/valentini/dev/Mousenet/\")\n",
    "                affine_csv_dir = os.path.join(cwd, \"dataset2\", \"Feminad\", \"Landmarks_Resample_Identity_Affine\")\n",
    "                mri_name = data['moving_image_meta_dict']['filename_or_obj'][0]\n",
    "                mri_name = mri_name.split('.')[0].split('_')\n",
    "\n",
    "                moving_image_csv = affine_csv_dir + \"/Affine_Identity_Landmarks_\" + mri_name[-2] + '_' + mri_name[-1] + '_apply_pos.csv'\n",
    "                fixed_image_csv = os.path.join(cwd, \"dataset2\", \"Atlas\", \"Identity_Feminad_Template_Landmarks_scipy.csv\")\n",
    "                pred_image_csv = apply_warp_to_landmarks_df(fixed_image_csv, ddf)  \n",
    "                pred_image_csvs.append(pred_image_csv)\n",
    "                \n",
    "                \n",
    "                pred_mask_np = pred_mask.cpu().numpy().squeeze()\n",
    "                fixed_mask_np = fixed_mask.cpu().numpy().squeeze()\n",
    "                \n",
    "                dice = evaluate(fixed_mask_np, pred_mask_np, metric=\"DSC\")   \n",
    "                hausdorf = evaluate(fixed_mask_np, pred_mask_np, metric=\"AHD\")  \n",
    "                iou = evaluate(fixed_mask_np, pred_mask_np, metric=\"IoU\")    \n",
    "                sens = evaluate(fixed_mask_np, pred_mask_np, metric=\"SENS\")\n",
    "                spec = evaluate(fixed_mask_np, pred_mask_np, metric=\"SPEC\")\n",
    "                \n",
    "                #mean_landmark = np.mean(distances[0:6])\n",
    "                mean_landmark = np.mean(distances[1:6])\n",
    "                max_landmark = np.max(distances[1:6])\n",
    "                min_landmark = np.min(distances[1:6])\n",
    "                ##################################      \n",
    "\n",
    "            running_loss += loss.item() * fixed_image.size(0)\n",
    "            \n",
    "            running_dice += dice.item() * fixed_image.size(0)\n",
    "            running_hausdorf += hausdorf.item() * fixed_image.size(0)\n",
    "            running_iou  += iou.item() * fixed_image.size(0)\n",
    "            running_sens += sens.item() * fixed_image.size(0)\n",
    "            running_spec += spec.item() * fixed_image.size(0)\n",
    "            \n",
    "            running_meanl += mean_landmark.item() * fixed_image.size(0)\n",
    "            running_maxl += max_landmark.item() * fixed_image.size(0)\n",
    "            running_minl += min_landmark.item() * fixed_image.size(0)\n",
    "            \n",
    "            row = {\n",
    "                    'mouse': data['moving_image_meta_dict']['filename_or_obj'][0].split('/')[-1],\n",
    "                    'distance1_'+str(names[z]): distances[0],\n",
    "                    'distance2_'+str(names[z]): distances[1],\n",
    "                    'distance3_'+str(names[z]): distances[2],\n",
    "                    'distance4_'+str(names[z]): distances[3],\n",
    "                    'distance5_'+str(names[z]): distances[4],\n",
    "                    'distance6_'+str(names[z]): distances[5],\n",
    "                    'meantre_'+str(names[z]): mean_landmark,\n",
    "                    'dsc_'+str(names[z]): dice,\n",
    "                    'ahd_'+str(names[z]): hausdorf,\n",
    "                    'iou_'+str(names[z]): iou,\n",
    "                    'sens_'+str(names[z]): sens,\n",
    "                    'spec_'+str(names[z]): spec,\n",
    "            }\n",
    "            mouse_df = pd.DataFrame(data=row, index=[0])\n",
    "            mouses_df = pd.concat([mouses_df, mouse_df], ignore_index=True)\n",
    "            \n",
    "        barycentre_csv = pd.DataFrame()\n",
    "        for i in range(len(pred_image_csvs[0])):\n",
    "            b_x = np.zeros(len(pred_image_csvs[0]))\n",
    "            b_y = np.zeros(len(pred_image_csvs[0]))\n",
    "            b_z = np.zeros(len(pred_image_csvs[0]))\n",
    "            for csv in pred_image_csvs:\n",
    "                b_x[i] += csv['x'][i]\n",
    "                b_y[i] += csv['y'][i]\n",
    "                b_z[i] += csv['z'][i]\n",
    "            b_x[i] /= len(pred_image_csvs)\n",
    "            b_y[i] /= len(pred_image_csvs)\n",
    "            b_z[i] /= len(pred_image_csvs)\n",
    "                \n",
    "                \n",
    "            t = pred_image_csvs[0]['t'][i]\n",
    "            label = pred_image_csvs[0]['label'][i]\n",
    "            mass = pred_image_csvs[0]['mass'][i]\n",
    "            volume = pred_image_csvs[0]['volume'][i]\n",
    "            count = pred_image_csvs[0]['count'][i]\n",
    "                \n",
    "            row = create_row_csv(b_x[i], b_y[i], b_z[i], t, label, mass, volume, count)\n",
    "            temp_df = pd.DataFrame(data=row, index=[0])\n",
    "            barycentre_csv = pd.concat([barycentre_csv, temp_df], ignore_index=True)\n",
    "            \n",
    "             \n",
    "        for i, data in enumerate(dataloaders[phase]):\n",
    "            print(i, end='\\r')\n",
    "            if rtype == 'affine' or rtype == 'local':\n",
    "                ddf, pred_image, pred_label, _ = model(data)\n",
    "            elif rtype == 'deformable':\n",
    "                affine_ddf, ddf, pred_image, pred_label, affine_image, affine_label = model(data)\n",
    "                \n",
    "            pred_image = pred_image.to(device, non_blocking=True)\n",
    "            pred_label = pred_label.to(device, non_blocking=True)\n",
    "            pred_mask = AsDiscrete(threshold=0.5)(pred_label)\n",
    "\n",
    "            fixed_image = data['fixed_image'].to(device, non_blocking=True)\n",
    "            fixed_label = data['fixed_label'].to(device, non_blocking=True)\n",
    "            fixed_mask = AsDiscrete(threshold=0.5)(fixed_label)                \n",
    "                \n",
    "            ddf = ddf.permute(2,3,4,0,1)\n",
    "\n",
    "            cwd = os.path.abspath(\"/home/valentini/dev/Mousenet/\")\n",
    "            affine_csv_dir = os.path.join(cwd, \"dataset2\", \"Feminad\", \"Landmarks_Resample_Identity_Affine\")\n",
    "            mri_name = data['moving_image_meta_dict']['filename_or_obj'][0]\n",
    "            mri_name = mri_name.split('.')[0].split('_')\n",
    "\n",
    "            fixed_image_csv = os.path.join(cwd, \"dataset2\", \"Atlas\", \"Identity_Feminad_Template_Landmarks_scipy.csv\")\n",
    "            pred_image_csv = apply_warp_to_landmarks_df(fixed_image_csv, ddf)\n",
    "            distances = compute_csv_distance(barycentre_csv, pred_image_csv)\n",
    "            \n",
    "            mean_bary = np.mean(distances)\n",
    "            running_meanbary += mean_bary.item()\n",
    "\n",
    "\n",
    "    sizelol = 33    \n",
    "    running_loss /= sizelol\n",
    "    running_dice /= sizelol\n",
    "    running_hausdorf /= sizelol\n",
    "    running_iou /= sizelol\n",
    "    running_sens /= sizelol\n",
    "    running_spec /= sizelol\n",
    "    running_meanl /= sizelol\n",
    "    running_maxl /= sizelol\n",
    "    running_minl /= sizelol\n",
    "    running_meanbary /= sizelol\n",
    "    #print(modelname)\n",
    "    print(names[z])\n",
    "    print(\n",
    "        \"Loss: loss: {:.4f}\".format(\n",
    "            running_loss, \n",
    "        )\n",
    "    )\n",
    "    print(\n",
    "        \"Labels: Dice: {:.4f} / Haussdorf: {:.4f} / IoU: {:.4f} / Sens: {:.4f} / Spec: {:.4f}\".format(\n",
    "            running_dice, running_hausdorf, running_iou, running_sens, running_spec\n",
    "        )\n",
    "    )\n",
    "    print(\n",
    "        \"Landmarks: Mean: {:.4f} / Max: {:.4f} / Min: {:.4f}\".format(\n",
    "            running_meanl, running_maxl, running_minl, \n",
    "        )\n",
    "    )\n",
    "    print(\n",
    "        \"Landmarks Barycenter: Mean: {:.4f}\".format(\n",
    "            running_meanbary,\n",
    "        )\n",
    "    )\n",
    "    \n",
    "    #print(mouses_df)\n",
    "    mouses_df.to_csv(\"models/\" + modelname.split('/')[-1].split('.pth')[0] + '.csv', index=False)\n",
    "    print('-'*20)    \n",
    "    z += 1"
   ]
  },
  {
   "cell_type": "code",
   "execution_count": 19,
   "id": "9a99cdfa",
   "metadata": {},
   "outputs": [],
   "source": [
    "# create original distance csvs\n",
    "atlas_csv = os.path.join(\"dataset2\", \"Atlas\", \"Identity_Feminad_Template_Landmarks_antss.csv\")\n",
    "original_csvs = sorted(glob(os.path.join(\"dataset2\", \"Feminad\", \"Landmarks_Resample_Identity\", \"*_antss.csv\")))\n",
    "\n",
    "names = [\n",
    "            \"Affine_Identity_Norm_Resampled_N4_12_6517.nii.gz\",\n",
    "            \"Affine_Identity_Norm_Resampled_N4_12_6518.nii.gz\",\n",
    "            \"Affine_Identity_Norm_Resampled_N4_12_6519.nii.gz\",\n",
    "            \"Affine_Identity_Norm_Resampled_N4_12_6522.nii.gz\",\n",
    "            \"Affine_Identity_Norm_Resampled_N4_12_6523.nii.gz\",\n",
    "            \"Affine_Identity_Norm_Resampled_N4_12_6524.nii.gz\",\n",
    "            \"Affine_Identity_Norm_Resampled_N4_12_6528.nii.gz\",\n",
    "            \"Affine_Identity_Norm_Resampled_N4_12_6529.nii.gz\",\n",
    "            \"Affine_Identity_Norm_Resampled_N4_12_6533.nii.gz\",\n",
    "            \"Affine_Identity_Norm_Resampled_N4_12_6535.nii.gz\",\n",
    "            \"Affine_Identity_Norm_Resampled_N4_12_6536.nii.gz\",\n",
    "            \"Affine_Identity_Norm_Resampled_N4_12_6538.nii.gz\",\n",
    "            \"Affine_Identity_Norm_Resampled_N4_12_6626.nii.gz\",\n",
    "            \"Affine_Identity_Norm_Resampled_N4_2_6516.nii.gz\",\n",
    "            \"Affine_Identity_Norm_Resampled_N4_2_6517.nii.gz\",\n",
    "            \"Affine_Identity_Norm_Resampled_N4_2_6518.nii.gz\",\n",
    "            \"Affine_Identity_Norm_Resampled_N4_2_6519.nii.gz\",\n",
    "            \"Affine_Identity_Norm_Resampled_N4_2_6520.nii.gz\",\n",
    "            \"Affine_Identity_Norm_Resampled_N4_2_6521.nii.gz\",\n",
    "            \"Affine_Identity_Norm_Resampled_N4_2_6522.nii.gz\",\n",
    "            \"Affine_Identity_Norm_Resampled_N4_2_6523.nii.gz\",\n",
    "            \"Affine_Identity_Norm_Resampled_N4_2_6524.nii.gz\",\n",
    "            \"Affine_Identity_Norm_Resampled_N4_2_6528.nii.gz\",\n",
    "            \"Affine_Identity_Norm_Resampled_N4_2_6529.nii.gz\",\n",
    "            \"Affine_Identity_Norm_Resampled_N4_2_6533.nii.gz\",\n",
    "            \"Affine_Identity_Norm_Resampled_N4_2_6535.nii.gz\",\n",
    "            \"Affine_Identity_Norm_Resampled_N4_2_6536.nii.gz\",\n",
    "            \"Affine_Identity_Norm_Resampled_N4_2_6537.nii.gz\",\n",
    "            \"Affine_Identity_Norm_Resampled_N4_2_6538.nii.gz\",\n",
    "            \"Affine_Identity_Norm_Resampled_N4_2_6539.nii.gz\",\n",
    "            \"Affine_Identity_Norm_Resampled_N4_2_6540.nii.gz\",\n",
    "            \"Affine_Identity_Norm_Resampled_N4_2_6541.nii.gz\",\n",
    "            \"Affine_Identity_Norm_Resampled_N4_2_6542.nii.gz\",\n",
    "        ]\n",
    "\n",
    "mouses_df = pd.DataFrame()\n",
    "for i, original_csv in enumerate(original_csvs):\n",
    "    distances = compute_csv_distance(original_csv, atlas_csv)\n",
    "    row = {\n",
    "        'mouse': names[i],\n",
    "        'distance1_original': distances[0],\n",
    "        'distance2_original': distances[1],\n",
    "        'distance3_original': distances[2],\n",
    "        'distance4_original': distances[3],\n",
    "        'distance5_original': distances[4],\n",
    "        'distance6_original': distances[5],\n",
    "        'meantre_original': np.mean(distances[1:6]),\n",
    "    }\n",
    "    mouse_df = pd.DataFrame(data=row, index=[0])\n",
    "    mouses_df = pd.concat([mouses_df, mouse_df], ignore_index=True)\n",
    "mouses_df.to_csv(\"models/template_original.csv\", index=False)"
   ]
  },
  {
   "cell_type": "code",
   "execution_count": 20,
   "id": "a9da4866",
   "metadata": {},
   "outputs": [],
   "source": [
    "# create affine + ants distance csvs\n",
    "atlas_csv = os.path.join(\"dataset2\", \"Atlas\", \"Identity_Feminad_Template_Landmarks_antss.csv\")\n",
    "ants_csvs = sorted(glob(os.path.join(\"dataset2\", \"Feminad\", \"Landmarks_Resample_Identity_Affine\", \"*_atlas_ants.csv\")))\n",
    "affine_csvs = sorted(glob(os.path.join(\"dataset2\", \"Feminad\", \"Landmarks_Resample_Identity_Affine\", \"*_apply.csv\")))\n",
    "\n",
    "names = [\n",
    "            \"Affine_Identity_Norm_Resampled_N4_12_6517.nii.gz\",\n",
    "            \"Affine_Identity_Norm_Resampled_N4_12_6518.nii.gz\",\n",
    "            \"Affine_Identity_Norm_Resampled_N4_12_6519.nii.gz\",\n",
    "            \"Affine_Identity_Norm_Resampled_N4_12_6522.nii.gz\",\n",
    "            \"Affine_Identity_Norm_Resampled_N4_12_6523.nii.gz\",\n",
    "            \"Affine_Identity_Norm_Resampled_N4_12_6524.nii.gz\",\n",
    "            \"Affine_Identity_Norm_Resampled_N4_12_6528.nii.gz\",\n",
    "            \"Affine_Identity_Norm_Resampled_N4_12_6529.nii.gz\",\n",
    "            \"Affine_Identity_Norm_Resampled_N4_12_6533.nii.gz\",\n",
    "            \"Affine_Identity_Norm_Resampled_N4_12_6535.nii.gz\",\n",
    "            \"Affine_Identity_Norm_Resampled_N4_12_6536.nii.gz\",\n",
    "            \"Affine_Identity_Norm_Resampled_N4_12_6538.nii.gz\",\n",
    "            \"Affine_Identity_Norm_Resampled_N4_12_6626.nii.gz\",\n",
    "            \"Affine_Identity_Norm_Resampled_N4_2_6516.nii.gz\",\n",
    "            \"Affine_Identity_Norm_Resampled_N4_2_6517.nii.gz\",\n",
    "            \"Affine_Identity_Norm_Resampled_N4_2_6518.nii.gz\",\n",
    "            \"Affine_Identity_Norm_Resampled_N4_2_6519.nii.gz\",\n",
    "            \"Affine_Identity_Norm_Resampled_N4_2_6520.nii.gz\",\n",
    "            \"Affine_Identity_Norm_Resampled_N4_2_6521.nii.gz\",\n",
    "            \"Affine_Identity_Norm_Resampled_N4_2_6522.nii.gz\",\n",
    "            \"Affine_Identity_Norm_Resampled_N4_2_6523.nii.gz\",\n",
    "            \"Affine_Identity_Norm_Resampled_N4_2_6524.nii.gz\",\n",
    "            \"Affine_Identity_Norm_Resampled_N4_2_6528.nii.gz\",\n",
    "            \"Affine_Identity_Norm_Resampled_N4_2_6529.nii.gz\",\n",
    "            \"Affine_Identity_Norm_Resampled_N4_2_6533.nii.gz\",\n",
    "            \"Affine_Identity_Norm_Resampled_N4_2_6535.nii.gz\",\n",
    "            \"Affine_Identity_Norm_Resampled_N4_2_6536.nii.gz\",\n",
    "            \"Affine_Identity_Norm_Resampled_N4_2_6537.nii.gz\",\n",
    "            \"Affine_Identity_Norm_Resampled_N4_2_6538.nii.gz\",\n",
    "            \"Affine_Identity_Norm_Resampled_N4_2_6539.nii.gz\",\n",
    "            \"Affine_Identity_Norm_Resampled_N4_2_6540.nii.gz\",\n",
    "            \"Affine_Identity_Norm_Resampled_N4_2_6541.nii.gz\",\n",
    "            \"Affine_Identity_Norm_Resampled_N4_2_6542.nii.gz\",\n",
    "        ]\n",
    "\n",
    "mouses_df = pd.DataFrame()\n",
    "for i, affine_csv in enumerate(affine_csvs):\n",
    "    distances = compute_csv_distance(affine_csv, atlas_csv)\n",
    "    row = {\n",
    "        'mouse': names[i],\n",
    "        'distance1_affine': distances[0],\n",
    "        'distance2_affine': distances[1],\n",
    "        'distance3_affine': distances[2],\n",
    "        'distance4_affine': distances[3],\n",
    "        'distance5_affine': distances[4],\n",
    "        'distance6_affine': distances[5],\n",
    "        'meantre_affine': np.mean(distances[1:6]),\n",
    "    }\n",
    "    mouse_df = pd.DataFrame(data=row, index=[0])\n",
    "    mouses_df = pd.concat([mouses_df, mouse_df], ignore_index=True)\n",
    "mouses_df.to_csv(\"models/template_affine.csv\", index=False)\n",
    "\n",
    "\n",
    "mouses_df = pd.DataFrame()\n",
    "for i, ants_csv in enumerate(ants_csvs):\n",
    "    distances = compute_csv_distance(affine_csvs[i], ants_csvs[i])\n",
    "    row = {\n",
    "        'mouse': names[i],\n",
    "        'distance1_ants': distances[0],\n",
    "        'distance2_ants': distances[1],\n",
    "        'distance3_ants': distances[2],\n",
    "        'distance4_ants': distances[3],\n",
    "        'distance5_ants': distances[4],\n",
    "        'distance6_ants': distances[5],\n",
    "        'meantre_ants': np.mean(distances[1:6]),\n",
    "    }\n",
    "    mouse_df = pd.DataFrame(data=row, index=[0])\n",
    "    mouses_df = pd.concat([mouses_df, mouse_df], ignore_index=True)\n",
    "mouses_df.to_csv(\"models/template_ants.csv\", index=False)\n"
   ]
  },
  {
   "cell_type": "code",
   "execution_count": 29,
   "id": "74c605a5",
   "metadata": {},
   "outputs": [],
   "source": [
    "csvs = sorted(glob(os.path.join(\"models\", \"*.csv\")))\n",
    "new_df = pd.DataFrame()\n",
    "for i, csv in enumerate(csvs):\n",
    "    df = pd.read_csv(csv, sep=',', header=0)\n",
    "    if i==0:\n",
    "        new_df = df\n",
    "    else:\n",
    "        new_df = pd.merge(new_df,df,on='mouse')\n",
    "new_df.to_csv(\"models/bigcsv2.csv\", index=False)"
   ]
  },
  {
   "cell_type": "code",
   "execution_count": 30,
   "id": "0937d267",
   "metadata": {
    "scrolled": false
   },
   "outputs": [
    {
     "data": {
      "image/png": "[encoded data removed]",
      "text/plain": [
       "<Figure size 1440x576 with 1 Axes>"
      ]
     },
     "metadata": {
      "needs_background": "light"
     },
     "output_type": "display_data"
    },
    {
     "data": {
      "image/png": "[encoded data removed]",
      "text/plain": [
       "<Figure size 1440x576 with 1 Axes>"
      ]
     },
     "metadata": {
      "needs_background": "light"
     },
     "output_type": "display_data"
    },
    {
     "data": {
      "image/png": "[encoded data removed]",
      "text/plain": [
       "<Figure size 1440x576 with 1 Axes>"
      ]
     },
     "metadata": {
      "needs_background": "light"
     },
     "output_type": "display_data"
    },
    {
     "data": {
      "image/png": "[encoded data removed]",
      "text/plain": [
       "<Figure size 1440x576 with 1 Axes>"
      ]
     },
     "metadata": {
      "needs_background": "light"
     },
     "output_type": "display_data"
    },
    {
     "data": {
      "image/png": "[encoded data removed]",
      "text/plain": [
       "<Figure size 1440x576 with 1 Axes>"
      ]
     },
     "metadata": {
      "needs_background": "light"
     },
     "output_type": "display_data"
    },
    {
     "data": {
      "image/png": "[encoded data removed]",
      "text/plain": [
       "<Figure size 1440x576 with 1 Axes>"
      ]
     },
     "metadata": {
      "needs_background": "light"
     },
     "output_type": "display_data"
    }
   ],
   "source": [
    "names = [\n",
    "        \"original\",\n",
    "        \"affine\",\n",
    "        \"ants\",\n",
    "        \"smoothloss-scenario1-1\",\n",
    "        \"smoothloss-scenario1-8\",\n",
    "        \"smoothloss-scenario2\",\n",
    "        \"smoothloss-scenario3-2\",\n",
    "        \"smoothloss-scenario3-6\",\n",
    "        \"smoothloss-scenario3-7\",\n",
    "        \"smoothloss-scenario4-jac\",\n",
    "        \"smoothloss-scenario4-fold\",\n",
    "        \"smoothloss-scenario4-old+affine\",\n",
    "        ]\n",
    "\n",
    "for i in range(1, 7):\n",
    "    columns = [\"distance\" + str(i) + \"_\" + z for z in names]\n",
    "    b_plot = new_df.boxplot(figsize=(20,8),column = columns) \n",
    "    plt.show()\n",
    "\n"
   ]
  },
  {
   "cell_type": "code",
   "execution_count": null,
   "id": "0e634160",
   "metadata": {},
   "outputs": [],
   "source": []
  }
 ],
 "metadata": {
  "kernelspec": {
   "display_name": "venv",
   "language": "python",
   "name": "venv"
  },
  "language_info": {
   "codemirror_mode": {
    "name": "ipython",
    "version": 3
   },
   "file_extension": ".py",
   "mimetype": "text/x-python",
   "name": "python",
   "nbconvert_exporter": "python",
   "pygments_lexer": "ipython3",
   "version": "3.8.10"
  }
 },
 "nbformat": 4,
 "nbformat_minor": 5
}
