{
 "cells": [
  {
   "cell_type": "code",
   "execution_count": 1,
   "id": "9458ae36",
   "metadata": {},
   "outputs": [],
   "source": [
    "from glob import glob\n",
    "import os\n",
    "import torch\n",
    "import torchmetrics\n",
    "import nibabel as nib\n",
    "import subprocess\n",
    "import numpy as np\n",
    "import torchmetrics\n",
    "import pandas as pd"
   ]
  },
  {
   "cell_type": "code",
   "execution_count": 2,
   "id": "22d4ff2d",
   "metadata": {},
   "outputs": [],
   "source": [
    "region_names = [\"bg\", \"hy\", \"mb\", \"hpf\", \"str\", \"ctx\", \"gp\", \"th\", \"cb\", \"olf\", \"bs\"]"
   ]
  },
  {
   "cell_type": "code",
   "execution_count": 4,
   "id": "0f8cda4c",
   "metadata": {},
   "outputs": [
    {
     "name": "stdout",
     "output_type": "stream",
     "text": [
      "{'name': 'M8876', 'type': 'MAP6', 'affine_dice_bg': 0.9863424301147461, 'affine_dice_hy': 0.8730332255363464, 'affine_dice_mb': 0.7889099717140198, 'affine_dice_hpf': 0.9112643003463745, 'affine_dice_str': 0.8847644925117493, 'affine_dice_ctx': 0.9180459976196289, 'affine_dice_gp': 0.583737850189209, 'affine_dice_th': 0.8953860402107239, 'affine_dice_cb': 0.8768171072006226, 'affine_dice_olf': 0.7747243046760559, 'affine_dice_bs': 0.0005834305775351822, 'ants_dice_bg': 0.9847813248634338, 'ants_dice_hy': 0.7967569231987, 'ants_dice_mb': 0.6946870684623718, 'ants_dice_hpf': 0.88236403465271, 'ants_dice_str': 0.882649302482605, 'ants_dice_ctx': 0.8955677151679993, 'ants_dice_gp': 0.6300283074378967, 'ants_dice_th': 0.8399363160133362, 'ants_dice_cb': 0.8964475393295288, 'ants_dice_olf': 0.7202816009521484, 'ants_dice_bs': 0.0002582311281003058, 'deep1_dice_bg': 0.9881812930107117, 'deep1_dice_hy': 0.8889620900154114, 'deep1_dice_mb': 0.8352956771850586, 'deep1_dice_hpf': 0.944869339466095, 'deep1_dice_str': 0.904273271560669, 'deep1_dice_ctx': 0.9377046823501587, 'deep1_dice_gp': 0.7707558870315552, 'deep1_dice_th': 0.9249392747879028, 'deep1_dice_cb': 0.9317358732223511, 'deep1_dice_olf': 0.8258277773857117, 'deep1_dice_bs': 0.0005859260563738644, 'deep2_dice_bg': 0.9862766861915588, 'deep2_dice_hy': 0.8686991333961487, 'deep2_dice_mb': 0.8281358480453491, 'deep2_dice_hpf': 0.9278554916381836, 'deep2_dice_str': 0.8848260641098022, 'deep2_dice_ctx': 0.9092354774475098, 'deep2_dice_gp': 0.6813579797744751, 'deep2_dice_th': 0.907416582107544, 'deep2_dice_cb': 0.9036232829093933, 'deep2_dice_olf': 0.7467672228813171, 'deep2_dice_bs': 0.0005801810184493661, 'deep3_dice_bg': 0.9878953099250793, 'deep3_dice_hy': 0.8774592280387878, 'deep3_dice_mb': 0.8338980078697205, 'deep3_dice_hpf': 0.9396985173225403, 'deep3_dice_str': 0.90276700258255, 'deep3_dice_ctx': 0.9331945776939392, 'deep3_dice_gp': 0.7630273103713989, 'deep3_dice_th': 0.923653244972229, 'deep3_dice_cb': 0.9281889796257019, 'deep3_dice_olf': 0.8048710823059082, 'deep3_dice_bs': 0.0005907721351832151, 'antsmean_dice_bg': 0.9895519018173218, 'antsmean_dice_hy': 0.9020960330963135, 'antsmean_dice_mb': 0.8472503423690796, 'antsmean_dice_hpf': 0.9517084360122681, 'antsmean_dice_str': 0.9073977470397949, 'antsmean_dice_ctx': 0.9533950686454773, 'antsmean_dice_gp': 0.7316769957542419, 'antsmean_dice_th': 0.9238727688789368, 'antsmean_dice_cb': 0.948805570602417, 'antsmean_dice_olf': 0.8614605069160461, 'antsmean_dice_bs': 0.0006262132665142417}\n"
     ]
    }
   ],
   "source": [
    "atlas_mask = \"dataset3/Atlas/P56_Annotation_128_norm_id_mask.nii.gz\"\n",
    "atlas_labels = \"dataset3/Atlas/Gin_LabelsFusion_MajorityVoting_deformablemean.nii.gz\"\n",
    "\n",
    "affine_labels = sorted(glob(os.path.join('dataset3', 'GIN', 'Labels', \"*_affine_convert.nii.gz\")))\n",
    "deep1_labels = sorted(glob(os.path.join('output', 'GIN', 'scenario1', 'Labels', '*.nii.gz')))\n",
    "deep2_labels = sorted(glob(os.path.join('output', 'GIN', 'scenario2', 'Labels', '*.nii.gz')))\n",
    "deep3_labels = sorted(glob(os.path.join('output', 'GIN', 'scenario3', 'Labels', '*.nii.gz')))\n",
    "ants_labels = sorted(glob(os.path.join('dataset3', 'GIN', 'Labels', \"*_deformable_convert.nii.gz\")))\n",
    "mean_labels = sorted(glob(os.path.join('dataset3', 'GIN_Mean', 'Labels', \"*_deformable_convert.nii.gz\")))\n",
    "\n",
    "dicemetric = torchmetrics.Dice(average=None, mdmc_average='global', num_classes=11)\n",
    "\n",
    "values_affine = [0,0,0,0,0,0,0,0,0,0,0]\n",
    "values_deep1 = [0,0,0,0,0,0,0,0,0,0,0]\n",
    "values_deep2 = [0,0,0,0,0,0,0,0,0,0,0]\n",
    "values_deep3 = [0,0,0,0,0,0,0,0,0,0,0]\n",
    "values_ants = [0,0,0,0,0,0,0,0,0,0,0]\n",
    "values_mean = [0,0,0,0,0,0,0,0,0,0,0]\n",
    "\n",
    "mapping_csv = \"dataset3/GIN/labels_mapping.csv\"\n",
    "data = pd.read_csv(mapping_csv)\n",
    "    \n",
    "map6 = torch.from_numpy(nib.load(atlas_labels).get_fdata().ravel()).type('torch.LongTensor')\n",
    "count = 0\n",
    "\n",
    "list_dict = []\n",
    "\n",
    "for i, _ in enumerate(ants_labels):  \n",
    "    count += 1\n",
    "    affine = torch.from_numpy(nib.load(affine_labels[i]).get_fdata().ravel()).type('torch.LongTensor')\n",
    "    affine[np.where(affine > 10)] = 0\n",
    "    deep1 = torch.from_numpy(nib.load(deep1_labels[i]).get_fdata().ravel()).type('torch.LongTensor')\n",
    "    deep1[np.where(deep1 > 10)] = 0\n",
    "    deep2 = torch.from_numpy(nib.load(deep2_labels[i]).get_fdata().ravel()).type('torch.LongTensor')\n",
    "    deep2[np.where(deep2 > 10)] = 0\n",
    "    deep3 = torch.from_numpy(nib.load(deep3_labels[i]).get_fdata().ravel()).type('torch.LongTensor')\n",
    "    deep3[np.where(deep3 > 10)] = 0\n",
    "    ants = torch.from_numpy(nib.load(ants_labels[i]).get_fdata().ravel()).type('torch.LongTensor')\n",
    "    ants[np.where(ants > 10)] = 0  \n",
    "    mean = torch.from_numpy(nib.load(mean_labels[i]).get_fdata().ravel()).type('torch.LongTensor')\n",
    "    mean[np.where(mean > 10)] = 0  \n",
    "\n",
    "    affine_values = dicemetric(affine,map6)\n",
    "    deep1_values = dicemetric(deep1,map6)\n",
    "    deep2_values = dicemetric(deep2,map6)\n",
    "    deep3_values = dicemetric(deep3,map6)\n",
    "    ants_values = dicemetric(ants,map6)    \n",
    "    mean_values = dicemetric(mean,map6)  \n",
    "    for j in range(len(deep1_values)):\n",
    "        values_affine[j] = affine_values[j].item()\n",
    "        values_deep1[j] = deep1_values[j].item()\n",
    "        values_deep2[j] = deep2_values[j].item()\n",
    "        values_deep3[j] = deep3_values[j].item()\n",
    "        values_ants[j] = ants_values[j].item()\n",
    "        values_mean[j] = mean_values[j].item()\n",
    "    name = ants_labels[i].split('/')[-1].split('_')[0]    \n",
    "    datatype = \"MAP6\" if \"M\" in name else \"SVBP\"    \n",
    "    affine_dict = {\"affine_dice_\" + str(region_names[k]): values_affine[k] for k in range(len(region_names))}\n",
    "    ants_dict = {\"ants_dice_\" + str(region_names[k]): values_ants[k] for k in range(len(region_names))}\n",
    "    deep1_dict = {\"deep1_dice_\" + str(region_names[k]): values_deep1[k] for k in range(len(region_names))}\n",
    "    deep2_dict = {\"deep2_dice_\" + str(region_names[k]): values_deep2[k] for k in range(len(region_names))}\n",
    "    deep3_dict = {\"deep3_dice_\" + str(region_names[k]): values_deep3[k] for k in range(len(region_names))}\n",
    "    mean_dict = {\"antsmean_dice_\" + str(region_names[k]): values_mean[k] for k in range(len(region_names))}\n",
    "    ith_dict = {\"name\": name, \"type\": datatype}\n",
    "    ith_dict.update(affine_dict)\n",
    "    ith_dict.update(ants_dict)\n",
    "    ith_dict.update(deep1_dict)\n",
    "    ith_dict.update(deep2_dict)\n",
    "    ith_dict.update(deep3_dict)\n",
    "    ith_dict.update(mean_dict)\n",
    "    list_dict.append(ith_dict)\n",
    "print(ith_dict)\n",
    "df = pd.DataFrame(list_dict)\n",
    "df.to_csv(\"dice_majoritydeformable_results.csv\")\n"
   ]
  },
  {
   "cell_type": "code",
   "execution_count": null,
   "id": "18e39c8a",
   "metadata": {},
   "outputs": [],
   "source": []
  }
 ],
 "metadata": {
  "kernelspec": {
   "display_name": "venv",
   "language": "python",
   "name": "venv"
  },
  "language_info": {
   "codemirror_mode": {
    "name": "ipython",
    "version": 3
   },
   "file_extension": ".py",
   "mimetype": "text/x-python",
   "name": "python",
   "nbconvert_exporter": "python",
   "pygments_lexer": "ipython3",
   "version": "3.8.10"
  }
 },
 "nbformat": 4,
 "nbformat_minor": 5
}
