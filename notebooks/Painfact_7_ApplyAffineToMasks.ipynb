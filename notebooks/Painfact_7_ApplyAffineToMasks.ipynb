{
 "cells": [
  {
   "cell_type": "code",
   "execution_count": 1,
   "id": "31f09caf",
   "metadata": {},
   "outputs": [],
   "source": [
    "from glob import glob\n",
    "import os\n",
    "import subprocess\n",
    "import SimpleITK as sitk\n",
    "import torch\n",
    "import nibabel as nib\n",
    "import numpy as np\n",
    "from monai.networks.blocks import Warp"
   ]
  },
  {
   "cell_type": "code",
   "execution_count": 2,
   "id": "1a01c706",
   "metadata": {},
   "outputs": [],
   "source": [
    "def applyAntsAffineTransform(mask, transform, data_dir):\n",
    "    mask_outname = data_dir + 'Mask_Resample_Affine_Template/Affine_' + mask.split('/')[-1]        \n",
    "    jacobian_command = \"antsApplyTransforms -d 3 -n NearestNeighbor -i \" + str(mask) + \" -o \" + str(mask_outname) + \" -r \" + str(mask) + \" -t \" + str(transform)\n",
    "    subprocess.call(jacobian_command.split(\" \"))\n",
    "    return"
   ]
  },
  {
   "cell_type": "code",
   "execution_count": 3,
   "id": "af2234d6",
   "metadata": {},
   "outputs": [],
   "source": [
    "def getAffineWarp(mask, transform, data_dir):\n",
    "    warp_outname = data_dir + 'MRI_N4_Resample_Norm_Identity_Affine_Deformable/WarpAffine_' + mask.split('/')[-1]        \n",
    "    jacobian_command = \"antsApplyTransforms -d 3 -n Linear -i \" + str(mask) + \" -o [\" + str(warp_outname) + \",1] -r \" + str(mask) + \" -t \" + str(transform)\n",
    "    subprocess.call(jacobian_command.split(\" \"))\n",
    "    return"
   ]
  },
  {
   "cell_type": "code",
   "execution_count": 4,
   "id": "867c2d3e",
   "metadata": {},
   "outputs": [
    {
     "name": "stdout",
     "output_type": "stream",
     "text": [
      "Neatex\n",
      "----------------------------------------\n"
     ]
    }
   ],
   "source": [
    "for dataset in [\"Neatex\", \n",
    "                #\"Feminad\", \n",
    "                #\"Painfact\", \n",
    "                #\"IRIS\",\n",
    "               ]:\n",
    "    print(dataset)\n",
    "    data_dir = os.path.join(\"/home/valentini/dev/Mousenet/dataset2/\" + str(dataset) + \"/\")\n",
    "    mris = sorted(glob(os.path.join(data_dir, 'MRI_N4_Resample_Norm_Identity_Affine', \"*.nii.gz\")))\n",
    "    mats = sorted(glob(os.path.join(data_dir, 'MRI_N4_Resample_Norm_Identity_Affine_Deformable', \"*.mat\")))\n",
    "    #masks = sorted(glob(os.path.join(data_dir, 'Mask_Resample', \"*.nii.gz\")))\n",
    "    if len(mats) == len(mris):\n",
    "        for i, mri in enumerate(mris):\n",
    "            print(str(i+1) + \"/\" + str(len(mris)), end=\"\\r\")\n",
    "            #applyAntsAffineTransform(mask, mats[i], data_dir)\n",
    "            getAffineWarp(mri, mats[i], data_dir)\n",
    "    print('-'*40)\n",
    "    break"
   ]
  },
  {
   "cell_type": "code",
   "execution_count": null,
   "id": "08acf2b0",
   "metadata": {},
   "outputs": [],
   "source": []
  },
  {
   "cell_type": "code",
   "execution_count": null,
   "id": "31ae2fc7",
   "metadata": {},
   "outputs": [],
   "source": []
  }
 ],
 "metadata": {
  "kernelspec": {
   "display_name": "venv",
   "language": "python",
   "name": "venv"
  },
  "language_info": {
   "codemirror_mode": {
    "name": "ipython",
    "version": 3
   },
   "file_extension": ".py",
   "mimetype": "text/x-python",
   "name": "python",
   "nbconvert_exporter": "python",
   "pygments_lexer": "ipython3",
   "version": "3.8.10"
  }
 },
 "nbformat": 4,
 "nbformat_minor": 5
}
