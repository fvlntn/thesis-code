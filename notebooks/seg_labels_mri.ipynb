{
 "cells": [
  {
   "cell_type": "code",
   "execution_count": null,
   "id": "suspended-harrison",
   "metadata": {},
   "outputs": [],
   "source": [
    "import argparse\n",
    "import logging\n",
    "import sys\n",
    "\n",
    "import monai\n",
    "import torch\n",
    "from torch.utils.tensorboard import SummaryWriter\n",
    "from monai.utils import set_determinism\n",
    "import numpy as np\n",
    "\n",
    "from seg_data import getDataset\n",
    "from seg_model import getUNetForSegmentation, getUNETRForSegmentation\n",
    "from transforms_dict import getSegmentationPostProcessingForLabel, getSegmentationPostProcessingForLabelOutput, getSegmentationPostProcessingForAllLabelsOutput\n",
    "from utils import compute_mean_dice, getReducePlateauScheduler, getAdamOptimizer, loadExistingModel\n",
    "from utils import print_model_output, check_model_name, getDevice"
   ]
  },
  {
   "cell_type": "code",
   "execution_count": null,
   "id": "instant-accommodation",
   "metadata": {},
   "outputs": [],
   "source": [
    "#Parameters\n",
    "mriname = \"000_M_I23.nii.gz\"\n",
    "outname = mriname.split('.')[0]\n",
    "N4 = False\n",
    "resample = False\n",
    "save_tmp = False\n",
    "get_largest_component = False"
   ]
  },
  {
   "cell_type": "code",
   "execution_count": null,
   "id": "fiscal-channel",
   "metadata": {},
   "outputs": [],
   "source": [
    "#Modelname and device\n",
    "\n",
    "model = getUNETRForSegmentation()\n",
    "modelname = \"labels/seg_labels_unetr_1.pth\"\n",
    "\n",
    "#model = getUNetForSegmentation()\n",
    "#modelname = \"labels/seg_labels_2.pth\"\n",
    "\n",
    "modelname = check_model_name(modelname)\n",
    "set_determinism(seed=0)\n",
    "logging.basicConfig(stream=sys.stdout, level=logging.INFO)\n",
    "device = getDevice()\n"
   ]
  },
  {
   "cell_type": "code",
   "execution_count": null,
   "id": "liable-emergency",
   "metadata": {},
   "outputs": [],
   "source": [
    "from monai.transforms import Activations, EnsureType, Compose\n",
    "from torch import nn\n",
    "from transforms_dict import getSegmentationEvalTransformsForMRI, getSegmentationPostProcessingForMaskOutput\n",
    "from transforms_dict import getSegmentationInverseTransformForLabels, SaveTransformForMRI"
   ]
  },
  {
   "cell_type": "code",
   "execution_count": null,
   "id": "proprietary-canvas",
   "metadata": {},
   "outputs": [],
   "source": [
    "#postprocessing\n",
    "device = getDevice()\n",
    "outputs_processing = getSegmentationPostProcessingForLabelOutput()\n",
    "all_outputs_processing = getSegmentationPostProcessingForAllLabelsOutput()\n",
    "labels_processing = getSegmentationPostProcessingForLabel()\n",
    "test_proba = Compose([\n",
    "    EnsureType(),\n",
    "    Activations(other=nn.Softmax(dim=1)),\n",
    "    #GetMaxChannelWise(),\n",
    "    EnsureType(data_type=\"tensor\", device=device)\n",
    "])\n",
    "\n",
    "#activations\n",
    "softmax = Activations(other=nn.Softmax(dim=1))"
   ]
  },
  {
   "cell_type": "code",
   "execution_count": null,
   "id": "7f570bb2",
   "metadata": {},
   "outputs": [],
   "source": [
    "#Model\n",
    "loadExistingModel(model, None, ft=modelname)\n",
    "model.eval()\n",
    "\n",
    "mri_preprocessing = getSegmentationEvalTransformsForMRI(N4=N4, outname=outname, save=save_tmp)\n",
    "\n",
    "with torch.no_grad():\n",
    "    inputs = mri_preprocessing(mriname).to(device)\n",
    "    outputs = model(inputs).cpu()  \n",
    "    \n",
    "    preds = outputs_processing(outputs)\n",
    "    all_preds = all_outputs_processing(outputs)\n",
    "    probs = test_proba(outputs)\n",
    "    \n",
    "    suffix = [\"background\", \"grey\", \"white\", \"csf\"]\n",
    "    for i in range(len(suffix)):\n",
    "        transform = getSegmentationInverseTransformForLabels(mriname, out_name=outname, suffix=suffix[i], save=True)\n",
    "        transform(preds[0, i, :, :, :])        \n",
    "    for i in range(len(suffix)):\n",
    "        transform = getSegmentationInverseTransformForLabels(mriname, out_name=outname, suffix=suffix[i]+'_prob', save=True)\n",
    "        transform(probs[0, i, :, :, :])\n",
    "    transform = getSegmentationInverseTransformForLabels(mriname, out_name=outname, suffix=None, save=True)\n",
    "    transform(all_preds[0,:,:,:])\n",
    "    \n",
    "                "
   ]
  },
  {
   "cell_type": "code",
   "execution_count": null,
   "id": "f5414538",
   "metadata": {},
   "outputs": [],
   "source": []
  }
 ],
 "metadata": {
  "kernelspec": {
   "display_name": "venv",
   "language": "python",
   "name": "venv"
  },
  "language_info": {
   "codemirror_mode": {
    "name": "ipython",
    "version": 3
   },
   "file_extension": ".py",
   "mimetype": "text/x-python",
   "name": "python",
   "nbconvert_exporter": "python",
   "pygments_lexer": "ipython3",
   "version": "3.8.10"
  }
 },
 "nbformat": 4,
 "nbformat_minor": 5
}
