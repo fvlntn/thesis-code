{
 "cells": [
  {
   "cell_type": "code",
   "execution_count": 1,
   "id": "1244a051",
   "metadata": {},
   "outputs": [],
   "source": [
    "from glob import glob\n",
    "import os\n",
    "import torch\n",
    "import torchmetrics\n",
    "import nibabel as nib\n",
    "import subprocess\n",
    "import numpy as np\n",
    "import torchmetrics\n",
    "import pandas as pd"
   ]
  },
  {
   "cell_type": "code",
   "execution_count": 9,
   "id": "da677314",
   "metadata": {},
   "outputs": [
    {
     "name": "stdout",
     "output_type": "stream",
     "text": [
      "OPNine\r"
     ]
    }
   ],
   "source": [
    "atlas_mask = \"dataset3/Atlas/P56_Annotation_128_norm_id_mask.nii.gz\"\n",
    "region_names = [\"brain\"]\n",
    "studies = [\"Affine\", \n",
    "           \"SyN\",\n",
    "           \"OP\",\n",
    "          ]\n",
    "\n",
    "method_labels = []\n",
    "method_labels.append(sorted(glob(os.path.join('dataset3', 'Femina3', 'Mask', \"*_affine.nii.gz\"))))\n",
    "method_labels.append(sorted(glob(os.path.join('dataset3', 'Femina3', 'Mask', \"*_affine_deformable.nii.gz\"))))\n",
    "method_labels.append(sorted(glob(os.path.join('output', 'Femina3', 'test', 'Mask', '*.nii.gz'))))\n",
    "\n",
    "dicemetric = torchmetrics.Dice(average=None, mdmc_average='global', num_classes=11)\n",
    "values = [0,0,0,0,0,0,0,0,0,0,0]\n",
    "\n",
    "list_dict = []\n",
    "for i in range(len(studies)):\n",
    "    method = studies[i]\n",
    "    print(method, end='\\r')\n",
    "    for j in range(len(method_labels[i])):\n",
    "        id = method_labels[i][j].split('/')[-1].split('_')[0] + '_' + method_labels[i][j].split('/')[-1].split('_')[1]     \n",
    "        labels = torch.from_numpy(nib.load(method_labels[i][j]).get_fdata().ravel()).type('torch.LongTensor')\n",
    "        struct = region_names[0]\n",
    "        volume = ((labels==1).sum().item())*(0.12**3)\n",
    "        line_dict = {\"method\": method, \"struct\": struct, \"mouse\": id, \"volume\": volume}\n",
    "        list_dict.append(line_dict)\n",
    "df = pd.DataFrame(list_dict)\n",
    "df.to_csv(\"dataset3/Femina3/feminad3_volume.csv\")"
   ]
  },
  {
   "cell_type": "code",
   "execution_count": null,
   "id": "039bf605",
   "metadata": {},
   "outputs": [],
   "source": []
  }
 ],
 "metadata": {
  "kernelspec": {
   "display_name": "venv",
   "language": "python",
   "name": "venv"
  },
  "language_info": {
   "codemirror_mode": {
    "name": "ipython",
    "version": 3
   },
   "file_extension": ".py",
   "mimetype": "text/x-python",
   "name": "python",
   "nbconvert_exporter": "python",
   "pygments_lexer": "ipython3",
   "version": "3.8.10"
  }
 },
 "nbformat": 4,
 "nbformat_minor": 5
}
