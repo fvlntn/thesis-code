{
 "cells": [
  {
   "cell_type": "code",
   "execution_count": 1,
   "id": "2249563a",
   "metadata": {},
   "outputs": [],
   "source": [
    "import os\n",
    "from glob import glob\n",
    "import nibabel as nib\n",
    "from scipy.spatial.distance import dice\n",
    "import numpy as np\n",
    "import itk\n",
    "import SimpleITK as sitk\n",
    "import scipy.ndimage\n",
    "import scipy\n",
    "import matplotlib.pyplot as plt\n",
    "import pandas as pd\n",
    "from nilearn.reporting import make_glm_report\n",
    "from nilearn.glm.second_level import SecondLevelModel\n",
    "from nilearn import plotting\n",
    "from nilearn.glm import threshold_stats_img"
   ]
  },
  {
   "cell_type": "code",
   "execution_count": 2,
   "id": "dc546a0e",
   "metadata": {},
   "outputs": [],
   "source": [
    "from nilearn.plotting import plot_design_matrix\n",
    "mouses_filename = os.path.join('dataset2', 'Feminad', 'feminad.csv')\n",
    "mouses_csv = pd.read_csv(mouses_filename)\n",
    "male = mouses_csv['sex'] == 'M'\n",
    "female = mouses_csv['sex'] == 'F'\n",
    "age1 = mouses_csv['age'] == '2mois'\n",
    "m2 = (male * age1)[:20]\n",
    "f2 = (female * age1)[:20]"
   ]
  },
  {
   "cell_type": "code",
   "execution_count": 3,
   "id": "0f1219a5",
   "metadata": {},
   "outputs": [
    {
     "name": "stdout",
     "output_type": "stream",
     "text": [
      "20\n"
     ]
    },
    {
     "data": {
      "image/png": "[encoded data removed]",
      "text/plain": [
       "<Figure size 105.12x221.76 with 1 Axes>"
      ]
     },
     "metadata": {
      "needs_background": "light"
     },
     "output_type": "display_data"
    }
   ],
   "source": [
    "design_matrix = pd.DataFrame(np.vstack((m2, f2)).T,\n",
    "                             columns=['m2', 'f2'])\n",
    "ax = plot_design_matrix(design_matrix)\n",
    "print(len(design_matrix))"
   ]
  },
  {
   "cell_type": "code",
   "execution_count": 4,
   "id": "720da08e",
   "metadata": {},
   "outputs": [
    {
     "name": "stdout",
     "output_type": "stream",
     "text": [
      "20\n",
      "['output/Feminad/ANTS/Log10Jacobian_Deformable/Log10JacobianDeformable_2_6516.nii.gz', 'output/Feminad/ANTS/Log10Jacobian_Deformable/Log10JacobianDeformable_2_6517.nii.gz', 'output/Feminad/ANTS/Log10Jacobian_Deformable/Log10JacobianDeformable_2_6518.nii.gz', 'output/Feminad/ANTS/Log10Jacobian_Deformable/Log10JacobianDeformable_2_6519.nii.gz', 'output/Feminad/ANTS/Log10Jacobian_Deformable/Log10JacobianDeformable_2_6520.nii.gz', 'output/Feminad/ANTS/Log10Jacobian_Deformable/Log10JacobianDeformable_2_6521.nii.gz', 'output/Feminad/ANTS/Log10Jacobian_Deformable/Log10JacobianDeformable_2_6522.nii.gz', 'output/Feminad/ANTS/Log10Jacobian_Deformable/Log10JacobianDeformable_2_6523.nii.gz', 'output/Feminad/ANTS/Log10Jacobian_Deformable/Log10JacobianDeformable_2_6524.nii.gz', 'output/Feminad/ANTS/Log10Jacobian_Deformable/Log10JacobianDeformable_2_6528.nii.gz', 'output/Feminad/ANTS/Log10Jacobian_Deformable/Log10JacobianDeformable_2_6529.nii.gz', 'output/Feminad/ANTS/Log10Jacobian_Deformable/Log10JacobianDeformable_2_6533.nii.gz', 'output/Feminad/ANTS/Log10Jacobian_Deformable/Log10JacobianDeformable_2_6535.nii.gz', 'output/Feminad/ANTS/Log10Jacobian_Deformable/Log10JacobianDeformable_2_6536.nii.gz', 'output/Feminad/ANTS/Log10Jacobian_Deformable/Log10JacobianDeformable_2_6537.nii.gz', 'output/Feminad/ANTS/Log10Jacobian_Deformable/Log10JacobianDeformable_2_6538.nii.gz', 'output/Feminad/ANTS/Log10Jacobian_Deformable/Log10JacobianDeformable_2_6539.nii.gz', 'output/Feminad/ANTS/Log10Jacobian_Deformable/Log10JacobianDeformable_2_6540.nii.gz', 'output/Feminad/ANTS/Log10Jacobian_Deformable/Log10JacobianDeformable_2_6541.nii.gz', 'output/Feminad/ANTS/Log10Jacobian_Deformable/Log10JacobianDeformable_2_6542.nii.gz']\n"
     ]
    }
   ],
   "source": [
    "log_filenames = sorted(glob(os.path.join('output', 'Feminad', 'ANTS', 'Log10Jacobian_Deformable', \"Log10JacobianDeformable_2*.nii.gz\")))\n",
    "print(len(log_filenames))\n",
    "print(log_filenames)"
   ]
  },
  {
   "cell_type": "code",
   "execution_count": 5,
   "id": "ce3e6fde",
   "metadata": {},
   "outputs": [
    {
     "data": {
      "text/plain": [
       "SecondLevelModel(mask_img=<nibabel.nifti1.Nifti1Image object at 0x7f31242dc190>,\n",
       "                 smoothing_fwhm=0.5)"
      ]
     },
     "execution_count": 5,
     "metadata": {},
     "output_type": "execute_result"
    }
   ],
   "source": [
    "#atlas_mri = os.path.join('dataset2', 'Atlas', 'Norm_Atlas_MRI_128.nii.gz')\n",
    "#mask_img = nib.load(os.path.join('dataset2', 'Atlas', 'Atlas_Mask_128.nii.gz'))\n",
    "atlas_mri = os.path.join('dataset2', 'Atlas', 'Identity_Feminad_Template.nii.gz')\n",
    "mask_img = nib.load(os.path.join('dataset2', 'Atlas', 'Identity_Feminad_Template_Mask.nii.gz'))\n",
    "second_level_model = SecondLevelModel(smoothing_fwhm=0.5, mask_img=mask_img)\n",
    "second_level_model.fit(log_filenames,\n",
    "                       design_matrix=design_matrix)"
   ]
  },
  {
   "cell_type": "code",
   "execution_count": 6,
   "id": "73f71e4b",
   "metadata": {},
   "outputs": [],
   "source": [
    "thresholds_dict = { \n",
    "                'fdr001': ('fdr', 0.01),\n",
    "                'fpr001': ('fpr', 0.01),  \n",
    "            }\n",
    "contrasts_dict = {\n",
    "    'sex'    : [-1, 1],\n",
    "}"
   ]
  },
  {
   "cell_type": "code",
   "execution_count": 7,
   "id": "cb0858ac",
   "metadata": {
    "scrolled": true
   },
   "outputs": [],
   "source": [
    "for heights, values in thresholds_dict.items():\n",
    "    report = make_glm_report(model=second_level_model,\n",
    "                             contrasts=contrasts_dict,\n",
    "                             bg_img=atlas_mri,\n",
    "                             height_control=values[0],\n",
    "                             alpha=values[1],\n",
    "                             display_mode='y',\n",
    "                             cut_coords=128,\n",
    "                             )\n",
    "    report.save_as_html(os.path.join('output', 'Feminad', 'ANTS', 'Reports-Deformable', 'report_deformable_feminad_' + str(heights) + '.html'))"
   ]
  },
  {
   "cell_type": "code",
   "execution_count": 8,
   "id": "74a76641",
   "metadata": {},
   "outputs": [],
   "source": [
    "for k,v in contrasts_dict.items(): \n",
    "    z_map = second_level_model.compute_contrast(second_level_contrast=v, output_type='z_score')\n",
    "    for heights, values in thresholds_dict.items():\n",
    "        threshold_mask, threshold = threshold_stats_img(z_map, alpha=values[1], height_control=values[0])    \n",
    "        nib.save(threshold_mask, os.path.join('output', 'Feminad', 'ANTS', 'Reports-Deformable', str(k) + '_' + str(heights) + '.nii.gz'))"
   ]
  },
  {
   "cell_type": "code",
   "execution_count": 9,
   "id": "99161282",
   "metadata": {},
   "outputs": [
    {
     "name": "stdout",
     "output_type": "stream",
     "text": [
      "<class 'nibabel.nifti1.Nifti1Image'>\n",
      "data shape (128, 128, 128)\n",
      "affine: \n",
      "[[1. 0. 0. 0.]\n",
      " [0. 1. 0. 0.]\n",
      " [0. 0. 1. 0.]\n",
      " [0. 0. 0. 1.]]\n",
      "metadata:\n",
      "<class 'nibabel.nifti1.Nifti1Header'> object, endian='<'\n",
      "sizeof_hdr      : 348\n",
      "data_type       : b''\n",
      "db_name         : b''\n",
      "extents         : 0\n",
      "session_error   : 0\n",
      "regular         : b''\n",
      "dim_info        : 0\n",
      "dim             : [  3 128 128 128   1   1   1   1]\n",
      "intent_p1       : 0.0\n",
      "intent_p2       : 0.0\n",
      "intent_p3       : 0.0\n",
      "intent_code     : none\n",
      "datatype        : float64\n",
      "bitpix          : 64\n",
      "slice_start     : 0\n",
      "pixdim          : [1. 1. 1. 1. 1. 1. 1. 1.]\n",
      "vox_offset      : 0.0\n",
      "scl_slope       : nan\n",
      "scl_inter       : nan\n",
      "slice_end       : 0\n",
      "slice_code      : unknown\n",
      "xyzt_units      : 0\n",
      "cal_max         : 0.0\n",
      "cal_min         : 0.0\n",
      "slice_duration  : 0.0\n",
      "toffset         : 0.0\n",
      "glmax           : 0\n",
      "glmin           : 0\n",
      "descrip         : b'z_score of contrast [-1, 1]'\n",
      "aux_file        : b''\n",
      "qform_code      : unknown\n",
      "sform_code      : aligned\n",
      "quatern_b       : 0.0\n",
      "quatern_c       : 0.0\n",
      "quatern_d       : 0.0\n",
      "qoffset_x       : 0.0\n",
      "qoffset_y       : 0.0\n",
      "qoffset_z       : 0.0\n",
      "srow_x          : [1. 0. 0. 0.]\n",
      "srow_y          : [0. 1. 0. 0.]\n",
      "srow_z          : [0. 0. 1. 0.]\n",
      "intent_name     : b''\n",
      "magic           : b'n+1'\n"
     ]
    }
   ],
   "source": [
    "print(z_map)"
   ]
  },
  {
   "cell_type": "code",
   "execution_count": 11,
   "id": "5ed9a377",
   "metadata": {},
   "outputs": [
    {
     "ename": "SyntaxError",
     "evalue": "broken PNG file (chunk b'\\x00\\x00\\x00\\x00') (<string>)",
     "output_type": "error",
     "traceback": [
      "Traceback \u001b[0;36m(most recent call last)\u001b[0m:\n",
      "  File \u001b[1;32m~/dev/Mousenet/venv/lib/python3.8/site-packages/IPython/core/interactiveshell.py:3361\u001b[0m in \u001b[1;35mrun_code\u001b[0m\n    exec(code_obj, self.user_global_ns, self.user_ns)\n",
      "  Input \u001b[1;32mIn [11]\u001b[0m in \u001b[1;35m<cell line: 8>\u001b[0m\n    img = io.imread(filename)\n",
      "  File \u001b[1;32m~/dev/Mousenet/venv/lib/python3.8/site-packages/imageio/__init__.py:86\u001b[0m in \u001b[1;35mimread\u001b[0m\n    return imread_v2(uri, format=format, **kwargs)\n",
      "  File \u001b[1;32m~/dev/Mousenet/venv/lib/python3.8/site-packages/imageio/v2.py:160\u001b[0m in \u001b[1;35mimread\u001b[0m\n    return file.read(index=0, **kwargs)\n",
      "  File \u001b[1;32m~/dev/Mousenet/venv/lib/python3.8/site-packages/imageio/core/legacy_plugin_wrapper.py:132\u001b[0m in \u001b[1;35mread\u001b[0m\n    reader = self.legacy_get_reader(**kwargs)\n",
      "  File \u001b[1;32m~/dev/Mousenet/venv/lib/python3.8/site-packages/imageio/core/legacy_plugin_wrapper.py:104\u001b[0m in \u001b[1;35mlegacy_get_reader\u001b[0m\n    return self._format.get_reader(self._request)\n",
      "  File \u001b[1;32m~/dev/Mousenet/venv/lib/python3.8/site-packages/imageio/core/format.py:190\u001b[0m in \u001b[1;35mget_reader\u001b[0m\n    return self.Reader(self, request)\n",
      "  File \u001b[1;32m~/dev/Mousenet/venv/lib/python3.8/site-packages/imageio/core/format.py:281\u001b[0m in \u001b[1;35m__init__\u001b[0m\n    self._open(**self.request.kwargs.copy())\n",
      "  File \u001b[1;32m~/dev/Mousenet/venv/lib/python3.8/site-packages/imageio/plugins/pillow_legacy.py:394\u001b[0m in \u001b[1;35m_open\u001b[0m\n    return PillowFormat.Reader._open(self, pilmode=pilmode, as_gray=as_gray)\n",
      "  File \u001b[1;32m~/dev/Mousenet/venv/lib/python3.8/site-packages/imageio/plugins/pillow_legacy.py:300\u001b[0m in \u001b[1;35m_open\u001b[0m\n    pil_try_read(self._im)\n",
      "  File \u001b[1;32m~/dev/Mousenet/venv/lib/python3.8/site-packages/imageio/plugins/pillow_legacy.py:654\u001b[0m in \u001b[1;35mpil_try_read\u001b[0m\n    im.getdata()[0]\n",
      "  File \u001b[1;32m~/dev/Mousenet/venv/lib/python3.8/site-packages/PIL/Image.py:1294\u001b[0m in \u001b[1;35mgetdata\u001b[0m\n    self.load()\n",
      "  File \u001b[1;32m~/dev/Mousenet/venv/lib/python3.8/site-packages/PIL/ImageFile.py:235\u001b[0m in \u001b[1;35mload\u001b[0m\n    s = read(self.decodermaxblock)\n",
      "  File \u001b[1;32m~/dev/Mousenet/venv/lib/python3.8/site-packages/PIL/PngImagePlugin.py:896\u001b[0m in \u001b[1;35mload_read\u001b[0m\n    cid, pos, length = self.png.read()\n",
      "\u001b[0;36m  File \u001b[0;32m~/dev/Mousenet/venv/lib/python3.8/site-packages/PIL/PngImagePlugin.py:166\u001b[0;36m in \u001b[0;35mread\u001b[0;36m\u001b[0m\n\u001b[0;31m    raise SyntaxError(f\"broken PNG file (chunk {repr(cid)})\")\u001b[0m\n",
      "\u001b[0;36m  File \u001b[0;32m<string>\u001b[0;36m\u001b[0m\n\u001b[0;31mSyntaxError\u001b[0m\u001b[0;31m:\u001b[0m broken PNG file (chunk b'\\x00\\x00\\x00\\x00')\n"
     ]
    }
   ],
   "source": [
    "import os\n",
    "import imageio as io\n",
    "\n",
    "\n",
    "png_filenames = sorted(glob(os.path.join('output', 'Feminad', 'ANTS', 'Reports-Deformable', \"*.png\")))\n",
    "\n",
    "\n",
    "for filename in png_filenames:    \n",
    "    img = io.imread(filename)\n",
    "    height, width, depth = img.shape\n",
    "    width_cutoff = width // 2\n",
    "    s1 = img[:, :width_cutoff]\n",
    "    s2 = img[:, width_cutoff:]\n",
    "    s3 = np.vstack((s1, s2))\n",
    "    print(s3.shape)\n",
    "    \n",
    "    outname = filename.split(\".\")[0] + \"_1.png\"\n",
    "    io.imwrite(outname, s3)"
   ]
  },
  {
   "cell_type": "code",
   "execution_count": null,
   "id": "1b6ee670",
   "metadata": {},
   "outputs": [],
   "source": []
  }
 ],
 "metadata": {
  "kernelspec": {
   "display_name": "venv",
   "language": "python",
   "name": "venv"
  },
  "language_info": {
   "codemirror_mode": {
    "name": "ipython",
    "version": 3
   },
   "file_extension": ".py",
   "mimetype": "text/x-python",
   "name": "python",
   "nbconvert_exporter": "python",
   "pygments_lexer": "ipython3",
   "version": "3.8.10"
  }
 },
 "nbformat": 4,
 "nbformat_minor": 5
}
