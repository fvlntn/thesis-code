{
 "cells": [
  {
   "cell_type": "code",
   "execution_count": 1,
   "id": "8bb4ca3c",
   "metadata": {},
   "outputs": [],
   "source": [
    "from glob import glob\n",
    "import os\n",
    "import subprocess\n",
    "import nibabel as nib\n",
    "import numpy as np\n",
    "import pandas as pd\n",
    "import utils\n",
    "import scipy.ndimage\n",
    "import scipy\n",
    "import torch"
   ]
  },
  {
   "cell_type": "code",
   "execution_count": 12,
   "id": "d634a35e",
   "metadata": {},
   "outputs": [
    {
     "name": "stdout",
     "output_type": "stream",
     "text": [
      "8\r"
     ]
    }
   ],
   "source": [
    "affine_masks   = sorted(glob(os.path.join(\"dataset2\", \"Neatin\", \"Mask_Resample_Identity_Affine\", \"*.nii.gz\")))\n",
    "affine_regions = sorted(glob(os.path.join(\"dataset2\", \"Neatin\", \"Label_Resample_Identity_Affine\", \"*.nii.gz\")))\n",
    "deformable_warps = sorted(glob(os.path.join(\"dataset2\", \"Neatin\", \"MRI_N4_Resample_Norm_Identity_Affine_Deformable\", \"*_1Warp.nii.gz\")))\n",
    "mats = sorted(glob(os.path.join(\"dataset2\", \"Neatin\", \"MRI_N4_Resample_Norm_Identity_Affine_Deformable\", \"*_0GenericAffine.mat\")))\n",
    "\n",
    "for i, warp in enumerate(deformable_warps):\n",
    "    print(i, end='\\r')\n",
    "    affine_mask = affine_masks[i]\n",
    "    outname = affine_mask.split('_MRI_')[-1].split('.nii.gz')[0]\n",
    "    deformable_mask = os.path.join(\"dataset2\", \"Neatin\", \"Mask_Resample_Identity_Affine_Deformable\", \"Mask_Deformable_\" + outname + \".nii.gz\")\n",
    "    mask_cmd = \"antsApplyTransforms -d 3 -n NearestNeighbor -i \" + str(affine_mask) + \" -o \" + str(deformable_mask) + \" -r \" + str(affine_mask) + \" -t \" + str(warp) + \" -t \" + str(mats[i])\n",
    "    subprocess.call(mask_cmd.split(\" \"))\n",
    "    \n",
    "    affine_region = affine_regions[i]\n",
    "    outname = affine_region.split('_MRI_')[-1].split('.nii.gz')[0]\n",
    "    deformable_region = os.path.join(\"dataset2\", \"Neatin\", \"Label_Resample_Identity_Affine_Deformable\", \"Label_Deformable_\" + outname + \".nii.gz\")\n",
    "    region_cmd = \"antsApplyTransforms -d 3 -n NearestNeighbor -i \" + str(affine_region) + \" -o \" + str(deformable_region) + \" -r \" + str(affine_region) + \" -t \" + str(warp) + \" -t \" + str(mats[i])\n",
    "    subprocess.call(region_cmd.split(\" \")) "
   ]
  },
  {
   "cell_type": "code",
   "execution_count": null,
   "id": "53984ccb",
   "metadata": {},
   "outputs": [],
   "source": []
  }
 ],
 "metadata": {
  "kernelspec": {
   "display_name": "venv",
   "language": "python",
   "name": "venv"
  },
  "language_info": {
   "codemirror_mode": {
    "name": "ipython",
    "version": 3
   },
   "file_extension": ".py",
   "mimetype": "text/x-python",
   "name": "python",
   "nbconvert_exporter": "python",
   "pygments_lexer": "ipython3",
   "version": "3.8.10"
  }
 },
 "nbformat": 4,
 "nbformat_minor": 5
}
