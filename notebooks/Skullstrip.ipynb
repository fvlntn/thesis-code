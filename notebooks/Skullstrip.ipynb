{
 "cells": [
  {
   "cell_type": "code",
   "execution_count": 5,
   "id": "93b9380e",
   "metadata": {},
   "outputs": [],
   "source": [
    "from glob import glob\n",
    "import os\n",
    "import shutil\n",
    "import nibabel as nib\n",
    "from scipy import ndimage\n",
    "from seg_brain_mri import main as get_mask"
   ]
  },
  {
   "cell_type": "code",
   "execution_count": 6,
   "id": "d01a7aa1",
   "metadata": {},
   "outputs": [],
   "source": [
    "data_dir = os.path.join('dataset3/test/')\n",
    "mris = sorted(glob(os.path.join(data_dir, \"*_MRI.nii.gz\")))\n",
    "for i in range(len(mris)):    \n",
    "    outname = os.path.join(data_dir, mris[i].split('/')[-1].split('.')[0])\n",
    "    get_mask(\"final/seg/brain_resample_irisfeminad.pth\", mris[i], outname, False, False, False, True)"
   ]
  },
  {
   "cell_type": "code",
   "execution_count": null,
   "id": "0c474749",
   "metadata": {},
   "outputs": [],
   "source": []
  },
  {
   "cell_type": "code",
   "execution_count": null,
   "id": "bdda1cf4",
   "metadata": {},
   "outputs": [],
   "source": []
  },
  {
   "cell_type": "code",
   "execution_count": null,
   "id": "59cc5a41",
   "metadata": {},
   "outputs": [],
   "source": [
    "def get_largest_component(seg):\n",
    "    mask = seg\n",
    "    data = mask.get_fdata()\n",
    "    label_im, nb_labels = ndimage.label(data)\n",
    "    sizes = ndimage.sum(data, label_im, range(nb_labels + 1))\n",
    "    data = sizes == max(sizes)\n",
    "    binary_img = data[label_im]\n",
    "    new_mask = nib.Nifti1Image(binary_img, mask.affine, mask.header)\n",
    "    return new_mask"
   ]
  },
  {
   "cell_type": "code",
   "execution_count": null,
   "id": "7af3622b",
   "metadata": {},
   "outputs": [],
   "source": [
    "masks = sorted(glob(os.path.join(data_dir, 'label*')))\n",
    "for i in range(len(mris)):\n",
    "    mask = nib.load(masks[i])\n",
    "    mask_largestcomponent = get_largest_component(mask)\n",
    "    outname = masks[i].split('\\\\')[-1].split('.')[0] + '_largest.nii.gz'\n",
    "    nib.save(mask_largestcomponent, os.path.join(data_dir, outname))"
   ]
  },
  {
   "cell_type": "code",
   "execution_count": null,
   "id": "faf51df9",
   "metadata": {},
   "outputs": [],
   "source": [
    "masks = sorted(glob(os.path.join(data_dir, \"*_largest.nii.gz\")))\n",
    "for i in range(len(mris)):\n",
    "    mri = nib.load(mris[i])\n",
    "    mask = nib.load(masks[i])\n",
    "    mask = get_largest_component(mask)\n",
    "    \n",
    "    mri_data = mri.get_fdata().copy()\n",
    "    mask_data = mask.get_fdata().copy()\n",
    "    mriskullstripped_data = mri_data * mask_data\n",
    "    \n",
    "    header = mri.header.copy()\n",
    "    affine = mri.affine.copy()\n",
    "    mriskullstripped = nib.Nifti1Image(mriskullstripped_data, affine, header)\n",
    "    outname = mris[i].split('\\\\')[-1].split('.')[0] + '_skullstripped.nii.gz'\n",
    "    nib.save(mriskullstripped, os.path.join(data_dir, outname))\n",
    "    "
   ]
  },
  {
   "cell_type": "code",
   "execution_count": null,
   "id": "c46d4148",
   "metadata": {},
   "outputs": [],
   "source": []
  }
 ],
 "metadata": {
  "kernelspec": {
   "display_name": "venv",
   "language": "python",
   "name": "venv"
  },
  "language_info": {
   "codemirror_mode": {
    "name": "ipython",
    "version": 3
   },
   "file_extension": ".py",
   "mimetype": "text/x-python",
   "name": "python",
   "nbconvert_exporter": "python",
   "pygments_lexer": "ipython3",
   "version": "3.8.10"
  }
 },
 "nbformat": 4,
 "nbformat_minor": 5
}
