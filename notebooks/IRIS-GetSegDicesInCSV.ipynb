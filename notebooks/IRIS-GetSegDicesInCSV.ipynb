{
 "cells": [
  {
   "cell_type": "code",
   "execution_count": 2,
   "id": "89438453",
   "metadata": {},
   "outputs": [],
   "source": [
    "from glob import glob\n",
    "import os\n",
    "import shutil\n",
    "import nibabel as nib\n",
    "from scipy import ndimage\n",
    "from seg_brain_mri import main as get_mask\n",
    "import torchmetrics\n",
    "import torch\n",
    "import numpy as np"
   ]
  },
  {
   "cell_type": "code",
   "execution_count": 14,
   "id": "9a02d43e",
   "metadata": {},
   "outputs": [
    {
     "name": "stdout",
     "output_type": "stream",
     "text": [
      "IRIS - iris : 18.1705 - 11.6843\n",
      "Feminad - iris : 15.8917 - 2.9075\n",
      "GIN - iris : 15.6264 - 11.7600\n",
      "IRIS - feminad : 28.8673 - 13.5095\n",
      "Feminad - feminad : 18.5578 - 3.8439\n",
      "GIN - feminad : 20.4041 - 7.9469\n",
      "IRIS - irisfeminad : 20.2339 - 13.0273\n",
      "Feminad - irisfeminad : 19.2270 - 8.2456\n",
      "GIN - irisfeminad : 15.1778 - 11.8386\n"
     ]
    }
   ],
   "source": [
    "#from torchmetrics.segmentation import HausdorffDistance\n",
    "#from torchmetrics.functional.segmentation.hausdorff_distance import hausdorff_distance\n",
    "from monai.metrics import compute_hausdorff_distance\n",
    "\n",
    "data_dir = os.path.join('dataset3/test/')\n",
    "mris = sorted(glob(os.path.join(data_dir, \"*.nii.gz\")))\n",
    "outdatasets = ['IRIS', \n",
    "               'Feminad', \n",
    "                'GIN', \n",
    "              ]\n",
    "models = [\n",
    "         'old_final/seg/brain_resample_iris.pth',\n",
    "         'old_final/seg/brain_resample_feminad.pth',\n",
    "         'old_final/seg/brain_resample_irisfeminad.pth',\n",
    "         ]\n",
    "\n",
    "#dicemetric = torchmetrics.Dice(average=None, mdmc_average='global', num_classes=2)\n",
    "dicemetric = torchmetrics.JaccardIndex(task='multiclass', average=None, mdmc_average='global', num_classes=2)\n",
    "\n",
    "\n",
    "for i, model in enumerate(models): \n",
    "    for outdataset in outdatasets:    \n",
    "        \n",
    "        mris_raw = sorted(glob(os.path.join('dataset3', outdataset, 'MRI', \"*_id.nii.gz\")))\n",
    "        truths = sorted(glob(os.path.join('dataset3', outdataset, 'Mask', \"*_id.nii.gz\")))  \n",
    "        bigdice = []\n",
    "        num_int = 0\n",
    "        for j, mri in enumerate(mris_raw):\n",
    "            if outdataset == 'GIN' or (outdataset == 'Feminad' and j > 20+6) or (outdataset == 'IRIS' and j > 248+82) or (outdataset == 'Painfact' and j > 169+56):\n",
    "                pred = torch.from_numpy(get_mask(model, mri, \"\", False, False, False, False).numpy()).type('torch.LongTensor').unsqueeze(0).unsqueeze(0)\n",
    "                truth = torch.from_numpy(nib.load(truths[j]).get_fdata()).type('torch.LongTensor').unsqueeze(0).unsqueeze(0)\n",
    "                #dice = dicemetric(pred, truth)\n",
    "                dice = compute_hausdorff_distance(pred, truth).item()\n",
    "                #print(dice)\n",
    "                #dice = dice[1].item()\n",
    "                #dice = dice.item()\n",
    "                bigdice.append(dice)\n",
    "                num_int += 1\n",
    "        mean = np.mean(bigdice)\n",
    "        std = np.std(bigdice) \n",
    "        print(outdataset + ' - ' + model.split('_')[-1].split('.')[0] + \" : {:.4f} - {:.4f}\".format(mean, std))"
   ]
  },
  {
   "cell_type": "markdown",
   "id": "e5720caf",
   "metadata": {},
   "source": [
    "dice:\n",
    "\n",
    "IRIS - iris : 0.9651 - 0.0172\n",
    "Feminad - iris : 0.9586 - 0.0206\n",
    "GIN - iris : 0.9452 - 0.0206\n",
    "IRIS - feminad : 0.8938 - 0.0731\n",
    "Feminad - feminad : 0.9511 - 0.0121\n",
    "GIN - feminad : 0.9267 - 0.0316\n",
    "IRIS - irisfeminad : 0.9660 - 0.0166\n",
    "Feminad - irisfeminad : 0.9589 - 0.0164\n",
    "GIN - irisfeminad : 0.9581 - 0.0131\n",
    "\n",
    "iou:\n",
    "IRIS - iris : 0.9331 - 0.0308\n",
    "Feminad - iris : 0.9212 - 0.0368\n",
    "GIN - iris : 0.8967 - 0.0361\n",
    "IRIS - feminad : 0.8155 - 0.1123\n",
    "Feminad - feminad : 0.9069 - 0.0216\n",
    "GIN - feminad : 0.8650 - 0.0537\n",
    "IRIS - irisfeminad : 0.9346 - 0.0300\n",
    "Feminad - irisfeminad : 0.9215 - 0.0297\n",
    "GIN - irisfeminad : 0.9199 - 0.0234\n",
    "\n",
    "hausdorff:\n",
    "IRIS - iris : 18.1705 - 11.6843\n",
    "Feminad - iris : 15.8917 - 2.9075\n",
    "GIN - iris : 15.6264 - 11.7600\n",
    "\n",
    "IRIS - feminad : 28.8673 - 13.5095\n",
    "Feminad - feminad : 18.5578 - 3.8439\n",
    "GIN - feminad : 20.4041 - 7.9469\n",
    "\n",
    "IRIS - irisfeminad : 20.2339 - 13.0273\n",
    "Feminad - irisfeminad : 19.2270 - 8.2456\n",
    "GIN - irisfeminad : 15.1778 - 11.8386\n",
    "\n",
    "\n"
   ]
  },
  {
   "cell_type": "code",
   "execution_count": 15,
   "id": "bf691188",
   "metadata": {},
   "outputs": [
    {
     "name": "stdout",
     "output_type": "stream",
     "text": [
      "0.0087\n"
     ]
    }
   ],
   "source": [
    "def iou(dice):\n",
    "    iou = dice / (2 - dice)\n",
    "    return iou\n",
    "\n",
    "print(\"{:.4f}\".format(iou(0.0172)))"
   ]
  },
  {
   "cell_type": "code",
   "execution_count": null,
   "id": "8263e68b",
   "metadata": {},
   "outputs": [],
   "source": [
    "data_dir = os.path.join('dataset3/test/')\n",
    "mris = sorted(glob(os.path.join(data_dir, \"*.nii.gz\")))\n",
    "outdatasets = ['GIN', \n",
    "               'Feminad', \n",
    "               'IRIS', \n",
    "               #'Painfact',\n",
    "              ]\n",
    "models = [#'final/seg/brain_resample_painfactirisfeminad.pth',\n",
    "         'final/seg/brain_resample_iris.pth',\n",
    "         'final/seg/brain_resample_feminad.pth',\n",
    "         'final/seg/brain_resample_irisfeminad.pth',\n",
    "         #'final/seg/brain_resample_painfact.pth',\n",
    "         ]\n",
    "\n",
    "dicemetric = torchmetrics.Dice(average=None, mdmc_average='global', num_classes=2)\n",
    "\n",
    "for outdataset in outdatasets:\n",
    "    for i, model in enumerate(models):     \n",
    "        \n",
    "        mris_raw = sorted(glob(os.path.join('dataset3', outdataset, 'MRI', \"*_id.nii.gz\")))\n",
    "        truths = sorted(glob(os.path.join('dataset3', outdataset, 'Mask', \"*_id.nii.gz\")))  \n",
    "        bigdice = []\n",
    "        num_int = 0\n",
    "        for j, mri in enumerate(mris_raw):\n",
    "            if outdataset == 'GIN' or (outdataset == 'Feminad' and j > 20+6) or (outdataset == 'IRIS' and j > 248+82) or (outdataset == 'Painfact' and j > 169+56):\n",
    "                pred = torch.from_numpy(get_mask(model, mri, \"\", False, False, False, False).numpy().ravel()).type('torch.LongTensor')\n",
    "                truth = torch.from_numpy(nib.load(truths[j]).get_fdata().ravel()).type('torch.LongTensor')\n",
    "                dice = dicemetric(pred, truth)[1].item()\n",
    "                bigdice.append(dice)\n",
    "                num_int += 1\n",
    "        mean = np.mean(bigdice)\n",
    "        std = np.std(bigdice) \n",
    "        print(\"{:.4f} - {:.4f} : {:.4f} - {:.4f}\".format(outdataset, model.split('_')[-1], mean, std))\n",
    "        print(outdataset + ' - ' + model.split('_')[-1] + ' : ' + str(mean) + ' - ' + str(std))"
   ]
  },
  {
   "cell_type": "code",
   "execution_count": null,
   "id": "b5eaf47b",
   "metadata": {},
   "outputs": [],
   "source": [
    "GIN - iris.pth :            0.9451652610743487 - 0.020613108146719464\n",
    "GIN - feminad.pth :         0.9266778252742909 - 0.03159560840199229\n",
    "GIN - irisfeminad.pth :     0.9581366954026399 - 0.01307884589202915\n",
    "Feminad - iris.pth :        0.9586123724778494 - 0.020581658353281594\n",
    "Feminad - feminad.pth :     0.9510500927766165 - 0.01205309508080402\n",
    "Feminad - irisfeminad.pth : 0.9588670333226522 - 0.01643535535143678\n",
    "IRIS - iris.pth :           0.9651128193478525 - 0.01715841335326685\n",
    "IRIS - feminad.pth :        0.8938481174869302 - 0.07306338569929116\n",
    "IRIS - irisfeminad.pth :    0.965963097266209  - 0.016616582535859833"
   ]
  },
  {
   "cell_type": "code",
   "execution_count": null,
   "id": "0640949f",
   "metadata": {},
   "outputs": [],
   "source": [
    "GIN - painfactirisfeminad.pth : 0.9612319381148727\n",
    "GIN - iris.pth : 0.9451652610743487\n",
    "GIN - irisfeminad.pth : 0.9581366954026399\n",
    "GIN - feminad.pth : 0.9266778252742909\n",
    "GIN - painfact.pth : 0.9396339588695102\n",
    "Feminad - painfactirisfeminad.pth : 0.9605755011240641\n",
    "Feminad - iris.pth : 0.9586123724778494\n",
    "Feminad - irisfeminad.pth : 0.9588670333226522\n",
    "Feminad - feminad.pth : 0.9510500927766165\n",
    "Feminad - painfact.pth : 0.9536308745543162\n",
    "IRIS - painfactirisfeminad.pth : 0.9637849455998267\n",
    "IRIS - iris.pth : 0.9651128193478525\n",
    "IRIS - irisfeminad.pth : 0.965963097266209\n",
    "IRIS - feminad.pth : 0.8938481174869302\n",
    "IRIS - painfact.pth : 0.9117101857691635\n",
    "Painfact - painfactirisfeminad.pth : 0.9796699821949005\n",
    "Painfact - iris.pth : 0.9644888246059418\n",
    "Painfact - irisfeminad.pth : 0.9716401553153992\n",
    "Painfact - feminad.pth : 0.9687978184223175\n",
    "Painfact - painfact.pth : 0.9813210034370422"
   ]
  },
  {
   "cell_type": "code",
   "execution_count": null,
   "id": "a988f1fa",
   "metadata": {},
   "outputs": [],
   "source": []
  }
 ],
 "metadata": {
  "kernelspec": {
   "display_name": "venv",
   "language": "python",
   "name": "venv"
  },
  "language_info": {
   "codemirror_mode": {
    "name": "ipython",
    "version": 3
   },
   "file_extension": ".py",
   "mimetype": "text/x-python",
   "name": "python",
   "nbconvert_exporter": "python",
   "pygments_lexer": "ipython3",
   "version": "3.8.10"
  }
 },
 "nbformat": 4,
 "nbformat_minor": 5
}
