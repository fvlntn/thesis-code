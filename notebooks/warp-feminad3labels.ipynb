{
 "cells": [
  {
   "cell_type": "code",
   "execution_count": 2,
   "id": "e32fff05",
   "metadata": {},
   "outputs": [],
   "source": [
    "import os\n",
    "import subprocess\n",
    "import shutil\n",
    "from glob import glob\n",
    "import nibabel as nib\n",
    "import numpy as np\n",
    "import torch\n",
    "import os"
   ]
  },
  {
   "cell_type": "code",
   "execution_count": 3,
   "id": "5d20b319",
   "metadata": {},
   "outputs": [
    {
     "name": "stdout",
     "output_type": "stream",
     "text": [
      "135\n",
      "135\n",
      "135\n"
     ]
    }
   ],
   "source": [
    "affine_warps = sorted(glob(os.path.join('dataset3', 'Femina3', 'MRI', \"*_affine.mat\")))\n",
    "print(len(affine_warps))\n",
    "deformable_warps = sorted(glob(os.path.join('dataset3', 'Femina3', 'MRI', \"*_warp.nii.gz\")))\n",
    "print(len(deformable_warps))\n",
    "labels = sorted(glob(os.path.join('dataset3', 'Femina3', 'Labels2', \"*_id.nii.gz\")))\n",
    "print(len(labels))\n",
    "atlas = os.path.join('dataset3', 'Atlas', 'P56_Atlas_128_norm_id.nii.gz')\n",
    "\n",
    "for i, label in enumerate(labels):\n",
    "    # Apply .mat to Labels to get AFFINE LABELS          \n",
    "    command = ['antsApplyTransforms']\n",
    "    command.extend(['-d', '3'])\n",
    "    command.extend(['-i', '<Moving>'])\n",
    "    command.extend(['-r', '<Fixed>'])\n",
    "    command.extend(['-o', '<Output>'])\n",
    "    command.extend(['-n', '<Interpolation>'])\n",
    "    command.extend(['-t', '<AffineTransform>'])\n",
    "\n",
    "    for j, cmd in enumerate(command):\n",
    "        cmd = cmd.replace(\"<Fixed>\", atlas)\n",
    "        cmd = cmd.replace(\"<Moving>\", labels[i])\n",
    "        cmd = cmd.replace(\"<Output>\", labels[i].replace(\"_id.nii\", \"_id_affine.nii\"))            \n",
    "        cmd = cmd.replace(\"<Interpolation>\", \"MultiLabel\")\n",
    "        cmd = cmd.replace(\"<AffineTransform>\", affine_warps[i])  \n",
    "        command[j] = cmd\n",
    "\n",
    "    subprocess.call(command) \n",
    "\n",
    "    # Apply .mat and warp to Labels to get DEFORMABLE LABELS                          \n",
    "    command = ['antsApplyTransforms']\n",
    "    command.extend(['-d', '3'])\n",
    "    command.extend(['-i', '<Moving>'])\n",
    "    command.extend(['-r', '<Fixed>'])\n",
    "    command.extend(['-o', '<Output>'])\n",
    "    command.extend(['-n', '<Interpolation>'])\n",
    "    command.extend(['-t', '<DeformableTransform>'])\n",
    "    command.extend(['-t', '<AffineTransform>'])\n",
    "\n",
    "    for j, cmd in enumerate(command):\n",
    "        cmd = cmd.replace(\"<Fixed>\", atlas)\n",
    "        cmd = cmd.replace(\"<Moving>\", labels[i])\n",
    "        cmd = cmd.replace(\"<Output>\", labels[i].replace(\"_id.nii\", \"_id_affine_deformable.nii\"))            \n",
    "        cmd = cmd.replace(\"<Interpolation>\", \"MultiLabel\")\n",
    "        cmd = cmd.replace(\"<DeformableTransform>\", deformable_warps[i])  \n",
    "        cmd = cmd.replace(\"<AffineTransform>\", affine_warps[i])  \n",
    "        command[j] = cmd\n",
    "\n",
    "    subprocess.call(command) "
   ]
  },
  {
   "cell_type": "code",
   "execution_count": null,
   "id": "3d58a728",
   "metadata": {},
   "outputs": [],
   "source": []
  }
 ],
 "metadata": {
  "kernelspec": {
   "display_name": "venv",
   "language": "python",
   "name": "venv"
  },
  "language_info": {
   "codemirror_mode": {
    "name": "ipython",
    "version": 3
   },
   "file_extension": ".py",
   "mimetype": "text/x-python",
   "name": "python",
   "nbconvert_exporter": "python",
   "pygments_lexer": "ipython3",
   "version": "3.8.10"
  }
 },
 "nbformat": 4,
 "nbformat_minor": 5
}
