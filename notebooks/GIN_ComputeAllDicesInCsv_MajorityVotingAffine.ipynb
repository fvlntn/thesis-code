{
 "cells": [
  {
   "cell_type": "code",
   "execution_count": 1,
   "id": "9458ae36",
   "metadata": {},
   "outputs": [],
   "source": [
    "from glob import glob\n",
    "import os\n",
    "import torch\n",
    "import torchmetrics\n",
    "import nibabel as nib\n",
    "import subprocess\n",
    "import numpy as np\n",
    "import torchmetrics\n",
    "import pandas as pd"
   ]
  },
  {
   "cell_type": "code",
   "execution_count": 2,
   "id": "22d4ff2d",
   "metadata": {},
   "outputs": [],
   "source": [
    "region_names = [\"bg\", \"hy\", \"mb\", \"hpf\", \"str\", \"ctx\", \"gp\", \"th\", \"cb\", \"olf\", \"bs\"]"
   ]
  },
  {
   "cell_type": "code",
   "execution_count": 3,
   "id": "0f8cda4c",
   "metadata": {},
   "outputs": [
    {
     "name": "stdout",
     "output_type": "stream",
     "text": [
      "{'name': 'M8876', 'type': 'MAP6', 'affine_dice_bg': 0.9879671931266785, 'affine_dice_hy': 0.8749484419822693, 'affine_dice_mb': 0.788844645023346, 'affine_dice_hpf': 0.9268980026245117, 'affine_dice_str': 0.9074997305870056, 'affine_dice_ctx': 0.9358503222465515, 'affine_dice_gp': 0.7292057275772095, 'affine_dice_th': 0.9165790677070618, 'affine_dice_cb': 0.9164120554924011, 'affine_dice_olf': 0.8384580016136169, 'affine_dice_bs': 0.0007000758196227252, 'ants_dice_bg': 0.9844911694526672, 'ants_dice_hy': 0.8069013357162476, 'ants_dice_mb': 0.6978312134742737, 'ants_dice_hpf': 0.870882511138916, 'ants_dice_str': 0.8695815205574036, 'ants_dice_ctx': 0.8945319652557373, 'ants_dice_gp': 0.7004662156105042, 'ants_dice_th': 0.855911135673523, 'ants_dice_cb': 0.8781678080558777, 'ants_dice_olf': 0.6789211630821228, 'ants_dice_bs': 0.0002582144516054541, 'deep1_dice_bg': 0.9865360856056213, 'deep1_dice_hy': 0.8805505633354187, 'deep1_dice_mb': 0.7940173745155334, 'deep1_dice_hpf': 0.9225494861602783, 'deep1_dice_str': 0.8869796991348267, 'deep1_dice_ctx': 0.9269864559173584, 'deep1_dice_gp': 0.7552715539932251, 'deep1_dice_th': 0.9071998000144958, 'deep1_dice_cb': 0.8974575400352478, 'deep1_dice_olf': 0.832350492477417, 'deep1_dice_bs': 0.0005858917138539255, 'deep2_dice_bg': 0.9861640930175781, 'deep2_dice_hy': 0.868536651134491, 'deep2_dice_mb': 0.8094252943992615, 'deep2_dice_hpf': 0.9062031507492065, 'deep2_dice_str': 0.878469705581665, 'deep2_dice_ctx': 0.9028599858283997, 'deep2_dice_gp': 0.7742331027984619, 'deep2_dice_th': 0.9111829996109009, 'deep2_dice_cb': 0.9164677262306213, 'deep2_dice_olf': 0.8101205229759216, 'deep2_dice_bs': 0.0006961768376640975, 'deep3_dice_bg': 0.9864053726196289, 'deep3_dice_hy': 0.8730190992355347, 'deep3_dice_mb': 0.7949666380882263, 'deep3_dice_hpf': 0.915753960609436, 'deep3_dice_str': 0.8855876922607422, 'deep3_dice_ctx': 0.9211101531982422, 'deep3_dice_gp': 0.7600767612457275, 'deep3_dice_th': 0.9080362319946289, 'deep3_dice_cb': 0.8987705707550049, 'deep3_dice_olf': 0.8339616656303406, 'deep3_dice_bs': 0.000590737268794328, 'antsmean_dice_bg': 0.986606776714325, 'antsmean_dice_hy': 0.8713029623031616, 'antsmean_dice_mb': 0.7924545407295227, 'antsmean_dice_hpf': 0.9179970622062683, 'antsmean_dice_str': 0.8884204030036926, 'antsmean_dice_ctx': 0.9320212006568909, 'antsmean_dice_gp': 0.8135810494422913, 'antsmean_dice_th': 0.9027116298675537, 'antsmean_dice_cb': 0.8957101702690125, 'antsmean_dice_olf': 0.803753137588501, 'antsmean_dice_bs': 0.0006261740927584469}\n"
     ]
    }
   ],
   "source": [
    "atlas_mask = \"dataset3/Atlas/P56_Annotation_128_norm_id_mask.nii.gz\"\n",
    "atlas_labels = \"dataset3/Atlas/GIN_LabelsFusion_MajorityVoting_affine.nii.gz\"\n",
    "\n",
    "affine_labels = sorted(glob(os.path.join('dataset3', 'GIN', 'Labels', \"*_affine_convert.nii.gz\")))\n",
    "deep1_labels = sorted(glob(os.path.join('output', 'GIN', 'scenario1', 'Labels', '*.nii.gz')))\n",
    "deep2_labels = sorted(glob(os.path.join('output', 'GIN', 'scenario2', 'Labels', '*.nii.gz')))\n",
    "deep3_labels = sorted(glob(os.path.join('output', 'GIN', 'scenario3', 'Labels', '*.nii.gz')))\n",
    "ants_labels = sorted(glob(os.path.join('dataset3', 'GIN', 'Labels', \"*_deformable_convert.nii.gz\")))\n",
    "mean_labels = sorted(glob(os.path.join('dataset3', 'GIN_Mean', 'Labels', \"*_deformable_convert.nii.gz\")))\n",
    "\n",
    "dicemetric = torchmetrics.Dice(average=None, mdmc_average='global', num_classes=11)\n",
    "\n",
    "values_affine = [0,0,0,0,0,0,0,0,0,0,0]\n",
    "values_deep1 = [0,0,0,0,0,0,0,0,0,0,0]\n",
    "values_deep2 = [0,0,0,0,0,0,0,0,0,0,0]\n",
    "values_deep3 = [0,0,0,0,0,0,0,0,0,0,0]\n",
    "values_ants = [0,0,0,0,0,0,0,0,0,0,0]\n",
    "values_mean = [0,0,0,0,0,0,0,0,0,0,0]\n",
    "\n",
    "mapping_csv = \"dataset3/GIN/labels_mapping.csv\"\n",
    "data = pd.read_csv(mapping_csv)\n",
    "    \n",
    "map6 = torch.from_numpy(nib.load(atlas_labels).get_fdata().ravel()).type('torch.LongTensor')\n",
    "count = 0\n",
    "\n",
    "list_dict = []\n",
    "\n",
    "for i, _ in enumerate(ants_labels):  \n",
    "    count += 1\n",
    "    affine = torch.from_numpy(nib.load(affine_labels[i]).get_fdata().ravel()).type('torch.LongTensor')\n",
    "    affine[np.where(affine > 10)] = 0\n",
    "    deep1 = torch.from_numpy(nib.load(deep1_labels[i]).get_fdata().ravel()).type('torch.LongTensor')\n",
    "    deep1[np.where(deep1 > 10)] = 0\n",
    "    deep2 = torch.from_numpy(nib.load(deep2_labels[i]).get_fdata().ravel()).type('torch.LongTensor')\n",
    "    deep2[np.where(deep2 > 10)] = 0\n",
    "    deep3 = torch.from_numpy(nib.load(deep3_labels[i]).get_fdata().ravel()).type('torch.LongTensor')\n",
    "    deep3[np.where(deep3 > 10)] = 0\n",
    "    ants = torch.from_numpy(nib.load(ants_labels[i]).get_fdata().ravel()).type('torch.LongTensor')\n",
    "    ants[np.where(ants > 10)] = 0  \n",
    "    mean = torch.from_numpy(nib.load(mean_labels[i]).get_fdata().ravel()).type('torch.LongTensor')\n",
    "    mean[np.where(mean > 10)] = 0  \n",
    "\n",
    "    affine_values = dicemetric(affine,map6)\n",
    "    deep1_values = dicemetric(deep1,map6)\n",
    "    deep2_values = dicemetric(deep2,map6)\n",
    "    deep3_values = dicemetric(deep3,map6)\n",
    "    ants_values = dicemetric(ants,map6)    \n",
    "    mean_values = dicemetric(mean,map6)  \n",
    "    for j in range(len(deep1_values)):\n",
    "        values_affine[j] = affine_values[j].item()\n",
    "        values_deep1[j] = deep1_values[j].item()\n",
    "        values_deep2[j] = deep2_values[j].item()\n",
    "        values_deep3[j] = deep3_values[j].item()\n",
    "        values_ants[j] = ants_values[j].item()\n",
    "        values_mean[j] = mean_values[j].item()\n",
    "    name = ants_labels[i].split('/')[-1].split('_')[0]    \n",
    "    datatype = \"MAP6\" if \"M\" in name else \"SVBP\"    \n",
    "    affine_dict = {\"affine_dice_\" + str(region_names[k]): values_affine[k] for k in range(len(region_names))}\n",
    "    ants_dict = {\"ants_dice_\" + str(region_names[k]): values_ants[k] for k in range(len(region_names))}\n",
    "    deep1_dict = {\"deep1_dice_\" + str(region_names[k]): values_deep1[k] for k in range(len(region_names))}\n",
    "    deep2_dict = {\"deep2_dice_\" + str(region_names[k]): values_deep2[k] for k in range(len(region_names))}\n",
    "    deep3_dict = {\"deep3_dice_\" + str(region_names[k]): values_deep3[k] for k in range(len(region_names))}\n",
    "    mean_dict = {\"antsmean_dice_\" + str(region_names[k]): values_mean[k] for k in range(len(region_names))}\n",
    "    ith_dict = {\"name\": name, \"type\": datatype}\n",
    "    ith_dict.update(affine_dict)\n",
    "    ith_dict.update(ants_dict)\n",
    "    ith_dict.update(deep1_dict)\n",
    "    ith_dict.update(deep2_dict)\n",
    "    ith_dict.update(deep3_dict)\n",
    "    ith_dict.update(mean_dict)\n",
    "    list_dict.append(ith_dict)\n",
    "print(ith_dict)\n",
    "df = pd.DataFrame(list_dict)\n",
    "df.to_csv(\"dice_majorityaffine_results.csv\")\n"
   ]
  },
  {
   "cell_type": "code",
   "execution_count": null,
   "id": "18e39c8a",
   "metadata": {},
   "outputs": [],
   "source": []
  }
 ],
 "metadata": {
  "kernelspec": {
   "display_name": "venv",
   "language": "python",
   "name": "venv"
  },
  "language_info": {
   "codemirror_mode": {
    "name": "ipython",
    "version": 3
   },
   "file_extension": ".py",
   "mimetype": "text/x-python",
   "name": "python",
   "nbconvert_exporter": "python",
   "pygments_lexer": "ipython3",
   "version": "3.8.10"
  }
 },
 "nbformat": 4,
 "nbformat_minor": 5
}
