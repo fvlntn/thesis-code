{
 "cells": [
  {
   "cell_type": "code",
   "execution_count": 1,
   "id": "cdca146d",
   "metadata": {},
   "outputs": [],
   "source": [
    "import os\n",
    "from glob import glob\n",
    "from utils import compute_mean_dice\n",
    "import nibabel as nib\n",
    "from scipy.spatial.distance import dice\n",
    "import numpy as np\n",
    "import itk\n",
    "import SimpleITK as sitk\n",
    "import scipy.ndimage\n",
    "import scipy\n",
    "import matplotlib.pyplot as plt\n",
    "import scipy.interpolate\n",
    "from transforms_dict import getRegistrationEvalInverseTransformForMRI, SaveTransformForMRI\n",
    "from tqdm import tqdm\n",
    "import monai\n",
    "import subprocess"
   ]
  },
  {
   "cell_type": "code",
   "execution_count": 1,
   "id": "167ce72e",
   "metadata": {},
   "outputs": [],
   "source": [
    "def interpolateWarp(warp, outwarp, step=8):\n",
    "    mri = nib.load(warp)\n",
    "    mri_data = mri.get_fdata()\n",
    "    ptx = mri_data[step//2::step,step//2::step,step//2::step,:,:].squeeze()\n",
    "    \n",
    "    x = np.arange(step//2, mri_data.shape[0], step)\n",
    "    y = np.arange(step//2, mri_data.shape[1], step)\n",
    "    z = np.arange(step//2, mri_data.shape[2], step)   \n",
    "    # xg, yg ,zg = np.meshgrid(x, y, z, indexing='ij', sparse=True)\n",
    "    \n",
    "    interp = scipy.interpolate.RegularGridInterpolator((x, y, z), ptx[:,:,:,:], \n",
    "                                                       bounds_error=False, \n",
    "                                                       fill_value=0, \n",
    "                                                       method=\"linear\")\n",
    "    \n",
    "    xg = np.arange(0, mri_data.shape[0], 1)\n",
    "    yg = np.arange(0, mri_data.shape[1], 1)\n",
    "    zg = np.arange(0, mri_data.shape[2], 1)  \n",
    "    X, Y, Z = np.meshgrid(xg, yg, zg, indexing='ij') \n",
    "    \n",
    "\n",
    "    out = interp((X,Y,Z))\n",
    "    \n",
    "    out = out.reshape(mri_data.shape)\n",
    "    \n",
    "    affine = mri.affine\n",
    "    header = mri.header \n",
    "    \n",
    "    new_img = nib.Nifti1Image(out, affine, header)\n",
    "    nib.save(new_img, outwarp)    "
   ]
  },
  {
   "cell_type": "code",
   "execution_count": 2,
   "id": "d470f039",
   "metadata": {},
   "outputs": [
    {
     "ename": "NameError",
     "evalue": "name 'glob' is not defined",
     "output_type": "error",
     "traceback": [
      "\u001B[0;31m---------------------------------------------------------------------------\u001B[0m",
      "\u001B[0;31mNameError\u001B[0m                                 Traceback (most recent call last)",
      "Input \u001B[0;32mIn [2]\u001B[0m, in \u001B[0;36m<cell line: 2>\u001B[0;34m()\u001B[0m\n\u001B[1;32m      1\u001B[0m mridir \u001B[38;5;241m=\u001B[39m \u001B[38;5;124m'\u001B[39m\u001B[38;5;124moutput/Feminad/DL_TestDef5/\u001B[39m\u001B[38;5;124m'\u001B[39m\n\u001B[0;32m----> 2\u001B[0m deformable_warps \u001B[38;5;241m=\u001B[39m \u001B[38;5;28msorted\u001B[39m(\u001B[43mglob\u001B[49m(os\u001B[38;5;241m.\u001B[39mpath\u001B[38;5;241m.\u001B[39mjoin(mridir, \u001B[38;5;124m'\u001B[39m\u001B[38;5;124mDeformableWarp\u001B[39m\u001B[38;5;124m'\u001B[39m, \u001B[38;5;124m\"\u001B[39m\u001B[38;5;124m*.nii.gz\u001B[39m\u001B[38;5;124m\"\u001B[39m)))\n\u001B[1;32m      3\u001B[0m \u001B[38;5;28;01mfor\u001B[39;00m i, warp \u001B[38;5;129;01min\u001B[39;00m \u001B[38;5;28menumerate\u001B[39m(deformable_warps):\n\u001B[1;32m      4\u001B[0m     outname \u001B[38;5;241m=\u001B[39m mridir \u001B[38;5;241m+\u001B[39m \u001B[38;5;124m\"\u001B[39m\u001B[38;5;124mDeformableWarpInterpolate/\u001B[39m\u001B[38;5;124m\"\u001B[39m \u001B[38;5;241m+\u001B[39m warp\u001B[38;5;241m.\u001B[39msplit(\u001B[38;5;124m'\u001B[39m\u001B[38;5;124m/\u001B[39m\u001B[38;5;124m'\u001B[39m)[\u001B[38;5;241m-\u001B[39m\u001B[38;5;241m1\u001B[39m]\u001B[38;5;241m.\u001B[39msplit(\u001B[38;5;124m'\u001B[39m\u001B[38;5;124m.\u001B[39m\u001B[38;5;124m'\u001B[39m)[\u001B[38;5;241m0\u001B[39m] \u001B[38;5;241m+\u001B[39m \u001B[38;5;124m\"\u001B[39m\u001B[38;5;124m.nii.gz\u001B[39m\u001B[38;5;124m\"\u001B[39m\n",
      "\u001B[0;31mNameError\u001B[0m: name 'glob' is not defined"
     ]
    }
   ],
   "source": [
    "mridir = 'output/Feminad/DL_TestDef5/'\n",
    "deformable_warps = sorted(glob(os.path.join(mridir, 'DeformableWarp', \"*.nii.gz\")))\n",
    "for i, warp in enumerate(deformable_warps):\n",
    "    outname = mridir + \"DeformableWarpInterpolate/\" + warp.split('/')[-1].split('.')[0] + \".nii.gz\"\n",
    "    interpolateWarp(deformable_warps[0], outname)    \n",
    "    print(i, end='\\r')"
   ]
  },
  {
   "cell_type": "code",
   "execution_count": null,
   "id": "6c0c2876",
   "metadata": {},
   "outputs": [],
   "source": []
  },
  {
   "cell_type": "code",
   "execution_count": null,
   "id": "9c0e133b",
   "metadata": {},
   "outputs": [],
   "source": []
  }
 ],
 "metadata": {
  "kernelspec": {
   "display_name": "venv",
   "language": "python",
   "name": "venv"
  },
  "language_info": {
   "codemirror_mode": {
    "name": "ipython",
    "version": 3
   },
   "file_extension": ".py",
   "mimetype": "text/x-python",
   "name": "python",
   "nbconvert_exporter": "python",
   "pygments_lexer": "ipython3",
   "version": "3.8.10"
  }
 },
 "nbformat": 4,
 "nbformat_minor": 5
}
