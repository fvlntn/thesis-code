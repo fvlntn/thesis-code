{
 "cells": [
  {
   "cell_type": "code",
   "execution_count": 7,
   "id": "fe5329c8",
   "metadata": {},
   "outputs": [],
   "source": [
    "import reg_mri\n",
    "import os\n",
    "from glob import glob\n",
    "from utils import compute_mean_dice\n",
    "import nibabel as nib\n",
    "from scipy.spatial.distance import dice\n",
    "import numpy as np\n",
    "import itk\n",
    "import SimpleITK as sitk\n",
    "import scipy.ndimage\n",
    "import scipy\n",
    "import matplotlib.pyplot as plt\n",
    "from transforms_dict import getRegistrationEvalInverseTransformForMRI, SaveTransformForMRI\n",
    "from tqdm import tqdm\n",
    "import monai\n",
    "import subprocess\n",
    "import torch"
   ]
  },
  {
   "cell_type": "code",
   "execution_count": 2,
   "id": "e532d13d",
   "metadata": {},
   "outputs": [],
   "source": [
    "def getJacobian_deformable_ants(warp_img, outfolder, outdataset):\n",
    "    outdir = os.path.join('output', outdataset, outfolder, 'ANTSJacobian_Deformable')\n",
    "    outname = outdir + '/ANTSJacobianDeformable_' + warp_img.split('/')[-1].split('Warp')[0] + '.nii.gz'\n",
    "    jacobian_command = \"CreateJacobianDeterminantImage 3 \" + str(warp_img) + \" \" + str(outname) + \" 0 0\"\n",
    "    subprocess.call(jacobian_command.split(\" \"))"
   ]
  },
  {
   "cell_type": "code",
   "execution_count": 29,
   "id": "44145db0",
   "metadata": {},
   "outputs": [],
   "source": [
    "def JacobianDet(y_pred):\n",
    "    imgshape = (128,128,128)\n",
    "    x = np.arange(imgshape[0])\n",
    "    y = np.arange(imgshape[1])\n",
    "    z = np.arange(imgshape[2])\n",
    "    grid = np.array(np.meshgrid(x, y, z))\n",
    "    grid = np.reshape(grid, (1,3,128,128,128))\n",
    "    grid = torch.from_numpy(grid).float().cpu()\n",
    "    \n",
    "    J = y_pred + grid\n",
    "    dx = J[:, :, 1:, :-1, :-1] - J[:, :, :-1, :-1, :-1]\n",
    "    dy = J[:, :, :-1, 1:, :-1] - J[:, :, :-1, :-1, :-1]\n",
    "    dz = J[:, :, :-1, :-1, 1:] - J[:, :, :-1, :-1, :-1]\n",
    "    \n",
    "    #= dx/x * (dy/y * dz/z - dy/z * dz/y)\n",
    "    #+ dx/y * (dy/z * dz/x - dy/x * dz/z)\n",
    "    #+ dx/z * (dy/x * dz/y - dy/y * dz/x)\n",
    "\n",
    "    Jdet0 = dx[:,0,:,:,:] * (dy[:,1,:,:,:] * dz[:,2,:,:,:] - dy[:,2,:,:,:] * dz[:,1,:,:,:])\n",
    "    Jdet1 = dx[:,1,:,:,:] * (dy[:,2,:,:,:] * dz[:,0,:,:,:] - dy[:,0,:,:,:] * dz[:,2,:,:,:])\n",
    "    Jdet2 = dx[:,2,:,:,:] * (dy[:,0,:,:,:] * dz[:,1,:,:,:] - dy[:,1,:,:,:] * dz[:,0,:,:,:])\n",
    "\n",
    "    Jdet = Jdet0 - Jdet1 + Jdet2\n",
    "\n",
    "    return Jdet"
   ]
  },
  {
   "cell_type": "code",
   "execution_count": 30,
   "id": "a8c21195",
   "metadata": {},
   "outputs": [
    {
     "name": "stderr",
     "output_type": "stream",
     "text": [
      "monai.networks.blocks.Warp: Using PyTorch native grid_sample.\n"
     ]
    },
    {
     "name": "stdout",
     "output_type": "stream",
     "text": [
      "=> Saved to output/Feminad/TestJacobian/MRI_N4_Registration_Deformable/Affine_Identity_Norm_Resampled_N4_12_6517_MRI.nii.gz\n",
      "=> Saved to output/Feminad/TestJacobian/MRI_N4_Registration_Deformable/Affine_Identity_Norm_Resampled_N4_12_6517_Resample.nii.gz\n",
      "=> Saved to output/Feminad/TestJacobian/MRI_N4_Registration_Deformable/Affine_Identity_Norm_Resampled_N4_12_6517_Resample_Reg.nii.gz\n",
      "=> Saved to output/Feminad/TestJacobian/MRI_N4_Registration_Deformable/Affine_Identity_Norm_Resampled_N4_12_6517_Reg.nii.gz\n",
      "1.80523005900001\n"
     ]
    }
   ],
   "source": [
    "models = [\n",
    "    \"scenario-108-freeze/template_local_scenario4_painfact_finetune_newmodel_freeze2_1.0-0.0-8.0.pth\",      \n",
    "         ]\n",
    "\n",
    "outfolders = [\n",
    "            \"TestJacobian\",\n",
    "         ]\n",
    "for i, model in enumerate(models):\n",
    "    outdataset = 'Feminad'\n",
    "    #outdataset = 'Painfact'\n",
    "    outfolder = outfolders[i]\n",
    "    mris = sorted(glob(os.path.join('dataset2', outdataset, 'MRI_N4_Resample_Norm_Identity_Affine', \"*.nii.gz\")))\n",
    "    atlas_name = \"dataset2/Atlas/Identity_Feminad_Template.nii.gz\"\n",
    "    affine = nib.load(atlas_name).affine\n",
    "    header = nib.load(atlas_name).header \n",
    "\n",
    "    for i, mri in enumerate(mris):\n",
    "        outname = \"output/\" + outdataset + \"/\" + outfolder + \"/MRI_N4_Registration_Deformable/\" + mri.split('/')[-1].split('.')[0]\n",
    "        pred_image, ddfs = reg_mri.main(model, mri, outname, False, True, \"local\", newmodel=True)\n",
    "    \n",
    "        moving_image = ddfs[0].cpu()\n",
    "    \n",
    "        deformable_ddf = ddfs[1].cpu()\n",
    "        ddf_jacdet = JacobianDet(deformable_ddf).unsqueeze(0)\n",
    "        ddf_jacdet = ddf_jacdet.cpu().numpy()\n",
    "        ddf_jacdet = np.transpose(ddf_jacdet, (2, 3, 4, 0, 1))\n",
    "        deformable_ddf = deformable_ddf.cpu().numpy()\n",
    "        deformable_ddf = np.transpose(deformable_ddf, (2, 3, 4, 0, 1))\n",
    "        #deformable_ddf = scipy.ndimage.gaussian_filter(deformable_ddf, sigma=1.0)            \n",
    "        \n",
    "        deformable_image = nib.Nifti1Image(deformable_ddf, affine, header)\n",
    "        outname_deformable = \"output/\" + outdataset + \"/\" + outfolder + \"/DeformableWarp/\" + mri.split('/')[-1].split('.')[0] + \".nii.gz\"\n",
    "        nib.save(deformable_image, outname_deformable)        \n",
    "        \n",
    "        ddf_jacdet_image = nib.Nifti1Image(ddf_jacdet, affine, header)\n",
    "        outname_jacdet = \"output/\" + outdataset + \"/\" + outfolder + \"/TorchJacobian_Deformable/TorchJacobian_\" + mri.split('/')[-1].split('.')[0] + \".nii.gz\"\n",
    "        nib.save(ddf_jacdet_image, outname_jacdet)    \n",
    "        break\n",
    "        \n",
    "    mridir = 'output/' + outdataset + '/' + outfolder + '/'\n",
    "    affine_warps = sorted(glob(os.path.join(mridir, 'AffineWarp', \"*.nii.gz\")))\n",
    "    deformable_warps = sorted(glob(os.path.join(mridir, 'DeformableWarp', \"*.nii.gz\")))\n",
    "    for i in range(len(deformable_warps)): \n",
    "        getJacobian_deformable_ants(deformable_warps[i], outfolder, outdataset)  "
   ]
  },
  {
   "cell_type": "code",
   "execution_count": null,
   "id": "046932fd",
   "metadata": {},
   "outputs": [],
   "source": []
  }
 ],
 "metadata": {
  "kernelspec": {
   "display_name": "venv",
   "language": "python",
   "name": "venv"
  },
  "language_info": {
   "codemirror_mode": {
    "name": "ipython",
    "version": 3
   },
   "file_extension": ".py",
   "mimetype": "text/x-python",
   "name": "python",
   "nbconvert_exporter": "python",
   "pygments_lexer": "ipython3",
   "version": "3.8.10"
  }
 },
 "nbformat": 4,
 "nbformat_minor": 5
}
