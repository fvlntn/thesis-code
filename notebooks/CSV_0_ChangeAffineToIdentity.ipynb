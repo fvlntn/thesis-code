{
 "cells": [
  {
   "cell_type": "code",
   "execution_count": 12,
   "id": "344533be",
   "metadata": {},
   "outputs": [],
   "source": [
    "from glob import glob\n",
    "import os\n",
    "import subprocess\n",
    "import nibabel as nib\n",
    "import numpy as np\n",
    "import pandas as pd\n",
    "import utils\n",
    "import scipy.ndimage\n",
    "import scipy\n",
    "import torch"
   ]
  },
  {
   "cell_type": "code",
   "execution_count": 13,
   "id": "cba3016a",
   "metadata": {},
   "outputs": [],
   "source": [
    "identity_affine = np.diag((1, 1, 1, 0))"
   ]
  },
  {
   "cell_type": "code",
   "execution_count": 14,
   "id": "4804daf8",
   "metadata": {
    "scrolled": false
   },
   "outputs": [
    {
     "name": "stdout",
     "output_type": "stream",
     "text": [
      "[[1 0 0 0]\n",
      " [0 1 0 0]\n",
      " [0 0 1 0]\n",
      " [0 0 0 0]]\n",
      "Atlas\n",
      "----------------------------------------\n"
     ]
    }
   ],
   "source": [
    "print(identity_affine)\n",
    "dataset = \"Atlas\"\n",
    "print(dataset)\n",
    "data_dir = os.path.join(\"/home/valentini/dev/Mousenet/dataset2/\" + str(dataset) + \"/\")\n",
    "mris = sorted(glob(os.path.join(data_dir, \"*.nii.gz\")))\n",
    "outfolder = os.path.join(data_dir)    \n",
    "for i, mri in enumerate(mris):\n",
    "    if not \"Identity\" in mri:\n",
    "        outname = os.path.join(outfolder, 'Identity_' + mri.split('/')[-1])\n",
    "        mri_nib = nib.load(mri)  \n",
    "        mri_nib_identity = nib.Nifti1Image(mri_nib.get_fdata(), identity_affine, mri_nib.header)\n",
    "        nib.save(mri_nib_identity, outname)        \n",
    "print('-'*40)"
   ]
  },
  {
   "cell_type": "code",
   "execution_count": null,
   "id": "9d0c9c84",
   "metadata": {},
   "outputs": [],
   "source": [
    "atlas = os.path.join(\"/home/valentini/dev/Mousenet/dataset2/Atlas/Identity_Feminad_Template.nii.gz\")\n",
    "outfolder = os.path.join(\"/home/valentini/dev/Mousenet/dataset2/Atlas/Identity_Feminad_Template.nii.gz\")\n",
    "for i, mri in enumerate(mris):\n",
    "    if not \"Identity\" in mri:\n",
    "        outname = os.path.join(outfolder, 'Identity_' + mri.split('/')[-1])\n",
    "        mri_nib = nib.load(mri)  \n",
    "        mri_nib_identity = nib.Nifti1Image(mri_nib.get_fdata(), identity_affine, mri_nib.header)\n",
    "        nib.save(mri_nib_identity, outname)        \n",
    "print('-'*40)"
   ]
  },
  {
   "cell_type": "code",
   "execution_count": 15,
   "id": "4321af16",
   "metadata": {
    "scrolled": true
   },
   "outputs": [
    {
     "name": "stdout",
     "output_type": "stream",
     "text": [
      "Feminad\n",
      "----------------------------------------\n"
     ]
    }
   ],
   "source": [
    "for dataset in [\n",
    "                \"Feminad\", \n",
    "                #\"Painfact\", \n",
    "                #\"IRIS\"\n",
    "               ]:\n",
    "    print(dataset)\n",
    "    data_dir = os.path.join(\"/home/valentini/dev/Mousenet/dataset2/\" + str(dataset) + \"/\")\n",
    "    mris = sorted(glob(os.path.join(data_dir, 'MRI_N4_Resample_Norm', \"*.nii.gz\")))\n",
    "    outfolder_mris = os.path.join(data_dir, 'MRI_N4_Resample_Norm_Identity')    \n",
    "    try:\n",
    "        os.mkdir(outfolder_mris)\n",
    "    except Exception:\n",
    "        pass        \n",
    "    for i, mri in enumerate(mris):\n",
    "        outname = os.path.join(outfolder_mris, 'Identity_' + mri.split('/')[-1])\n",
    "        mri_nib = nib.load(mri)  \n",
    "        mri_nib_identity = nib.Nifti1Image(mri_nib.get_fdata(), identity_affine, mri_nib.header)\n",
    "        nib.save(mri_nib_identity, outname)\n",
    "        \n",
    "    masks = sorted(glob(os.path.join(data_dir, 'Mask_Resample', \"*.nii.gz\")))\n",
    "    outfolder_masks = os.path.join(data_dir, 'Mask_Resample_Identity')    \n",
    "    try:\n",
    "        os.mkdir(outfolder_masks)\n",
    "    except Exception:\n",
    "        pass  \n",
    "    for i, mask in enumerate(masks):\n",
    "        outname = os.path.join(outfolder_masks, 'Identity_' + mask.split('/')[-1])\n",
    "        mask_nib = nib.load(mask)  \n",
    "        mask_nib_identity = nib.Nifti1Image(mask_nib.get_fdata().astype(np.uint8), identity_affine, mask_nib.header)\n",
    "        nib.save(mask_nib_identity, outname)\n",
    "    print('-'*40)"
   ]
  },
  {
   "cell_type": "code",
   "execution_count": 16,
   "id": "d016cffb",
   "metadata": {},
   "outputs": [
    {
     "name": "stdout",
     "output_type": "stream",
     "text": [
      "Feminad\n",
      "/home/valentini/dev/Mousenet/dataset2/Feminad/Landmarks_Resample_Identity/Identity_Landmarks_12_6517.nii.gz\n",
      "/home/valentini/dev/Mousenet/dataset2/Feminad/Landmarks_Resample_Identity/Identity_Landmarks_12_6518.nii.gz\n",
      "/home/valentini/dev/Mousenet/dataset2/Feminad/Landmarks_Resample_Identity/Identity_Landmarks_12_6519.nii.gz\n",
      "/home/valentini/dev/Mousenet/dataset2/Feminad/Landmarks_Resample_Identity/Identity_Landmarks_12_6522.nii.gz\n",
      "/home/valentini/dev/Mousenet/dataset2/Feminad/Landmarks_Resample_Identity/Identity_Landmarks_12_6523.nii.gz\n",
      "/home/valentini/dev/Mousenet/dataset2/Feminad/Landmarks_Resample_Identity/Identity_Landmarks_12_6524.nii.gz\n",
      "/home/valentini/dev/Mousenet/dataset2/Feminad/Landmarks_Resample_Identity/Identity_Landmarks_12_6528.nii.gz\n",
      "/home/valentini/dev/Mousenet/dataset2/Feminad/Landmarks_Resample_Identity/Identity_Landmarks_12_6529.nii.gz\n",
      "/home/valentini/dev/Mousenet/dataset2/Feminad/Landmarks_Resample_Identity/Identity_Landmarks_12_6533.nii.gz\n",
      "/home/valentini/dev/Mousenet/dataset2/Feminad/Landmarks_Resample_Identity/Identity_Landmarks_12_6535.nii.gz\n",
      "/home/valentini/dev/Mousenet/dataset2/Feminad/Landmarks_Resample_Identity/Identity_Landmarks_12_6536.nii.gz\n",
      "/home/valentini/dev/Mousenet/dataset2/Feminad/Landmarks_Resample_Identity/Identity_Landmarks_12_6538.nii.gz\n",
      "/home/valentini/dev/Mousenet/dataset2/Feminad/Landmarks_Resample_Identity/Identity_Landmarks_12_6626.nii.gz\n",
      "/home/valentini/dev/Mousenet/dataset2/Feminad/Landmarks_Resample_Identity/Identity_Landmarks_2_6516.nii.gz\n",
      "/home/valentini/dev/Mousenet/dataset2/Feminad/Landmarks_Resample_Identity/Identity_Landmarks_2_6517.nii.gz\n",
      "/home/valentini/dev/Mousenet/dataset2/Feminad/Landmarks_Resample_Identity/Identity_Landmarks_2_6518.nii.gz\n",
      "/home/valentini/dev/Mousenet/dataset2/Feminad/Landmarks_Resample_Identity/Identity_Landmarks_2_6519.nii.gz\n",
      "/home/valentini/dev/Mousenet/dataset2/Feminad/Landmarks_Resample_Identity/Identity_Landmarks_2_6520.nii.gz\n",
      "/home/valentini/dev/Mousenet/dataset2/Feminad/Landmarks_Resample_Identity/Identity_Landmarks_2_6521.nii.gz\n",
      "/home/valentini/dev/Mousenet/dataset2/Feminad/Landmarks_Resample_Identity/Identity_Landmarks_2_6522.nii.gz\n",
      "/home/valentini/dev/Mousenet/dataset2/Feminad/Landmarks_Resample_Identity/Identity_Landmarks_2_6523.nii.gz\n",
      "/home/valentini/dev/Mousenet/dataset2/Feminad/Landmarks_Resample_Identity/Identity_Landmarks_2_6524.nii.gz\n",
      "/home/valentini/dev/Mousenet/dataset2/Feminad/Landmarks_Resample_Identity/Identity_Landmarks_2_6528.nii.gz\n",
      "/home/valentini/dev/Mousenet/dataset2/Feminad/Landmarks_Resample_Identity/Identity_Landmarks_2_6529.nii.gz\n",
      "/home/valentini/dev/Mousenet/dataset2/Feminad/Landmarks_Resample_Identity/Identity_Landmarks_2_6533.nii.gz\n",
      "/home/valentini/dev/Mousenet/dataset2/Feminad/Landmarks_Resample_Identity/Identity_Landmarks_2_6535.nii.gz\n",
      "/home/valentini/dev/Mousenet/dataset2/Feminad/Landmarks_Resample_Identity/Identity_Landmarks_2_6536.nii.gz\n",
      "/home/valentini/dev/Mousenet/dataset2/Feminad/Landmarks_Resample_Identity/Identity_Landmarks_2_6537.nii.gz\n",
      "/home/valentini/dev/Mousenet/dataset2/Feminad/Landmarks_Resample_Identity/Identity_Landmarks_2_6538.nii.gz\n",
      "/home/valentini/dev/Mousenet/dataset2/Feminad/Landmarks_Resample_Identity/Identity_Landmarks_2_6539.nii.gz\n",
      "/home/valentini/dev/Mousenet/dataset2/Feminad/Landmarks_Resample_Identity/Identity_Landmarks_2_6540.nii.gz\n",
      "/home/valentini/dev/Mousenet/dataset2/Feminad/Landmarks_Resample_Identity/Identity_Landmarks_2_6541.nii.gz\n",
      "/home/valentini/dev/Mousenet/dataset2/Feminad/Landmarks_Resample_Identity/Identity_Landmarks_2_6542.nii.gz\n",
      "----------------------------------------\n"
     ]
    }
   ],
   "source": [
    "for dataset in [\n",
    "                \"Feminad\", \n",
    "               ]:\n",
    "    print(dataset)\n",
    "    data_dir = os.path.join(\"/home/valentini/dev/Mousenet/dataset2/\" + str(dataset) + \"/\")\n",
    "    mris = sorted(glob(os.path.join(data_dir, 'Landmarks_Resample', \"*.nii.gz\")))\n",
    "    outfolder_mris = os.path.join(data_dir, 'Landmarks_Resample_Identity')  \n",
    "    try:\n",
    "        os.mkdir(outfolder_mris)\n",
    "    except Exception:\n",
    "        pass        \n",
    "    for i, mri in enumerate(mris):\n",
    "        outname = os.path.join(outfolder_mris, 'Identity_' + mri.split('/')[-1])\n",
    "        mri_nib = nib.load(mri)  \n",
    "        mri_nib_identity = nib.Nifti1Image(mri_nib.get_fdata().astype(np.uint8), identity_affine, mri_nib.header)\n",
    "        nib.save(mri_nib_identity, outname)\n",
    "        print(outname)\n",
    "    print('-'*40)"
   ]
  },
  {
   "cell_type": "code",
   "execution_count": null,
   "id": "b7690488",
   "metadata": {},
   "outputs": [],
   "source": []
  },
  {
   "cell_type": "code",
   "execution_count": null,
   "id": "9625d6ad",
   "metadata": {},
   "outputs": [],
   "source": []
  }
 ],
 "metadata": {
  "kernelspec": {
   "display_name": "venv",
   "language": "python",
   "name": "venv"
  },
  "language_info": {
   "codemirror_mode": {
    "name": "ipython",
    "version": 3
   },
   "file_extension": ".py",
   "mimetype": "text/x-python",
   "name": "python",
   "nbconvert_exporter": "python",
   "pygments_lexer": "ipython3",
   "version": "3.8.10"
  }
 },
 "nbformat": 4,
 "nbformat_minor": 5
}
