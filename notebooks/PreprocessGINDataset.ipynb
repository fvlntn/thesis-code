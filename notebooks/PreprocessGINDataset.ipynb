{
 "cells": [
  {
   "cell_type": "code",
   "execution_count": 5,
   "id": "90fb4479",
   "metadata": {},
   "outputs": [],
   "source": [
    "import os\n",
    "import subprocess\n",
    "from glob import glob\n",
    "import nibabel as nib\n",
    "import matplotlib.pyplot as plt\n",
    "import SimpleITK as sitk\n",
    "import numpy as np\n",
    "import shutil\n",
    "from skimage import io\n",
    "import pandas as pd\n",
    "import tifffile\n",
    "import imio"
   ]
  },
  {
   "cell_type": "code",
   "execution_count": 2,
   "id": "f6169d02",
   "metadata": {},
   "outputs": [
    {
     "name": "stdout",
     "output_type": "stream",
     "text": [
      "12\n",
      "16\n"
     ]
    }
   ],
   "source": [
    "MAP6_mice = sorted(glob(os.path.join('raw', 'MAP6_mice', 'T1_flash_nifti', \"*.nii\")))\n",
    "SVBP_mice = sorted(glob(os.path.join('raw', 'SVBP_mice', 'SVBP_mice_nifti', \"*.nii\")))\n",
    "print(len(MAP6_mice))\n",
    "print(len(SVBP_mice))"
   ]
  },
  {
   "cell_type": "code",
   "execution_count": 3,
   "id": "06887c1a",
   "metadata": {},
   "outputs": [
    {
     "ename": "KeyError",
     "evalue": "16",
     "output_type": "error",
     "traceback": [
      "\u001B[1;31m---------------------------------------------------------------------------\u001B[0m",
      "\u001B[1;31mValueError\u001B[0m                                Traceback (most recent call last)",
      "File \u001B[1;32m~\\AppData\\Local\\Programs\\Python\\Python39\\lib\\site-packages\\pandas\\core\\indexes\\range.py:391\u001B[0m, in \u001B[0;36mRangeIndex.get_loc\u001B[1;34m(self, key, method, tolerance)\u001B[0m\n\u001B[0;32m    390\u001B[0m \u001B[38;5;28;01mtry\u001B[39;00m:\n\u001B[1;32m--> 391\u001B[0m     \u001B[38;5;28;01mreturn\u001B[39;00m \u001B[38;5;28;43mself\u001B[39;49m\u001B[38;5;241;43m.\u001B[39;49m\u001B[43m_range\u001B[49m\u001B[38;5;241;43m.\u001B[39;49m\u001B[43mindex\u001B[49m\u001B[43m(\u001B[49m\u001B[43mnew_key\u001B[49m\u001B[43m)\u001B[49m\n\u001B[0;32m    392\u001B[0m \u001B[38;5;28;01mexcept\u001B[39;00m \u001B[38;5;167;01mValueError\u001B[39;00m \u001B[38;5;28;01mas\u001B[39;00m err:\n",
      "\u001B[1;31mValueError\u001B[0m: 16 is not in range",
      "\nThe above exception was the direct cause of the following exception:\n",
      "\u001B[1;31mKeyError\u001B[0m                                  Traceback (most recent call last)",
      "Cell \u001B[1;32mIn[3], line 11\u001B[0m\n\u001B[0;32m      9\u001B[0m i\u001B[38;5;241m=\u001B[39m\u001B[38;5;241m0\u001B[39m\n\u001B[0;32m     10\u001B[0m \u001B[38;5;28;01mwhile\u001B[39;00m not_found:\n\u001B[1;32m---> 11\u001B[0m     \u001B[38;5;28;01mif\u001B[39;00m \u001B[43mtest\u001B[49m\u001B[43m[\u001B[49m\u001B[38;5;124;43m'\u001B[39;49m\u001B[38;5;124;43mnew\u001B[39;49m\u001B[38;5;124;43m'\u001B[39;49m\u001B[43m]\u001B[49m\u001B[43m[\u001B[49m\u001B[43mi\u001B[49m\u001B[43m]\u001B[49m \u001B[38;5;129;01min\u001B[39;00m tif\u001B[38;5;241m.\u001B[39mreplace(\u001B[38;5;124m\"\u001B[39m\u001B[38;5;124m.labels\u001B[39m\u001B[38;5;124m\"\u001B[39m, \u001B[38;5;124m\"\u001B[39m\u001B[38;5;124m\"\u001B[39m):\n\u001B[0;32m     12\u001B[0m         not_found \u001B[38;5;241m=\u001B[39m \u001B[38;5;28;01mFalse\u001B[39;00m\n\u001B[0;32m     13\u001B[0m     \u001B[38;5;28;01melse\u001B[39;00m:\n",
      "File \u001B[1;32m~\\AppData\\Local\\Programs\\Python\\Python39\\lib\\site-packages\\pandas\\core\\series.py:981\u001B[0m, in \u001B[0;36mSeries.__getitem__\u001B[1;34m(self, key)\u001B[0m\n\u001B[0;32m    978\u001B[0m     \u001B[38;5;28;01mreturn\u001B[39;00m \u001B[38;5;28mself\u001B[39m\u001B[38;5;241m.\u001B[39m_values[key]\n\u001B[0;32m    980\u001B[0m \u001B[38;5;28;01melif\u001B[39;00m key_is_scalar:\n\u001B[1;32m--> 981\u001B[0m     \u001B[38;5;28;01mreturn\u001B[39;00m \u001B[38;5;28;43mself\u001B[39;49m\u001B[38;5;241;43m.\u001B[39;49m\u001B[43m_get_value\u001B[49m\u001B[43m(\u001B[49m\u001B[43mkey\u001B[49m\u001B[43m)\u001B[49m\n\u001B[0;32m    983\u001B[0m \u001B[38;5;28;01mif\u001B[39;00m is_hashable(key):\n\u001B[0;32m    984\u001B[0m     \u001B[38;5;66;03m# Otherwise index.get_value will raise InvalidIndexError\u001B[39;00m\n\u001B[0;32m    985\u001B[0m     \u001B[38;5;28;01mtry\u001B[39;00m:\n\u001B[0;32m    986\u001B[0m         \u001B[38;5;66;03m# For labels that don't resolve as scalars like tuples and frozensets\u001B[39;00m\n",
      "File \u001B[1;32m~\\AppData\\Local\\Programs\\Python\\Python39\\lib\\site-packages\\pandas\\core\\series.py:1089\u001B[0m, in \u001B[0;36mSeries._get_value\u001B[1;34m(self, label, takeable)\u001B[0m\n\u001B[0;32m   1086\u001B[0m     \u001B[38;5;28;01mreturn\u001B[39;00m \u001B[38;5;28mself\u001B[39m\u001B[38;5;241m.\u001B[39m_values[label]\n\u001B[0;32m   1088\u001B[0m \u001B[38;5;66;03m# Similar to Index.get_value, but we do not fall back to positional\u001B[39;00m\n\u001B[1;32m-> 1089\u001B[0m loc \u001B[38;5;241m=\u001B[39m \u001B[38;5;28;43mself\u001B[39;49m\u001B[38;5;241;43m.\u001B[39;49m\u001B[43mindex\u001B[49m\u001B[38;5;241;43m.\u001B[39;49m\u001B[43mget_loc\u001B[49m\u001B[43m(\u001B[49m\u001B[43mlabel\u001B[49m\u001B[43m)\u001B[49m\n\u001B[0;32m   1090\u001B[0m \u001B[38;5;28;01mreturn\u001B[39;00m \u001B[38;5;28mself\u001B[39m\u001B[38;5;241m.\u001B[39mindex\u001B[38;5;241m.\u001B[39m_get_values_for_loc(\u001B[38;5;28mself\u001B[39m, loc, label)\n",
      "File \u001B[1;32m~\\AppData\\Local\\Programs\\Python\\Python39\\lib\\site-packages\\pandas\\core\\indexes\\range.py:393\u001B[0m, in \u001B[0;36mRangeIndex.get_loc\u001B[1;34m(self, key, method, tolerance)\u001B[0m\n\u001B[0;32m    391\u001B[0m         \u001B[38;5;28;01mreturn\u001B[39;00m \u001B[38;5;28mself\u001B[39m\u001B[38;5;241m.\u001B[39m_range\u001B[38;5;241m.\u001B[39mindex(new_key)\n\u001B[0;32m    392\u001B[0m     \u001B[38;5;28;01mexcept\u001B[39;00m \u001B[38;5;167;01mValueError\u001B[39;00m \u001B[38;5;28;01mas\u001B[39;00m err:\n\u001B[1;32m--> 393\u001B[0m         \u001B[38;5;28;01mraise\u001B[39;00m \u001B[38;5;167;01mKeyError\u001B[39;00m(key) \u001B[38;5;28;01mfrom\u001B[39;00m \u001B[38;5;21;01merr\u001B[39;00m\n\u001B[0;32m    394\u001B[0m \u001B[38;5;28mself\u001B[39m\u001B[38;5;241m.\u001B[39m_check_indexing_error(key)\n\u001B[0;32m    395\u001B[0m \u001B[38;5;28;01mraise\u001B[39;00m \u001B[38;5;167;01mKeyError\u001B[39;00m(key)\n",
      "\u001B[1;31mKeyError\u001B[0m: 16"
     ]
    }
   ],
   "source": [
    "ab = sorted(glob(os.path.join('SVBP_reworked', 'Labels_brain_regions', \"*.tif\")))\n",
    "bc = sorted(glob(os.path.join('SVBP_reworked', 'Labels_brain_total', \"*.tif\")))\n",
    "cd = sorted(glob(os.path.join('SVBP_reworked', 'Labels_tracts_and_ventricles', \"*.tif\")))\n",
    "code = os.path.join('raw', 'SVBP_mice', 'Fiji_segmentation', 'map.csv')\n",
    "test = pd.read_csv(code, delimiter=';')\n",
    "for direct in [ab, bc, cd]:\n",
    "    for tif in direct:\n",
    "        not_found = True\n",
    "        i=0\n",
    "        while not_found:\n",
    "            if test['new'][i] in tif.replace(\".labels\", \"\"):\n",
    "                not_found = False\n",
    "            else:\n",
    "                i = i+1\n",
    "        print(tif)\n",
    "        out = tif.replace(\".labels\", \"\").replace(test['new'][i], test['old'][i])\n",
    "        print(out)\n",
    "        print('-'*10)\n",
    "        #os.rename(tif, out)"
   ]
  },
  {
   "cell_type": "code",
   "execution_count": 21,
   "id": "b48347cd",
   "metadata": {},
   "outputs": [],
   "source": [
    "mris = sorted(glob(os.path.join('SVBP_reworked', 'MRI', \"*.nii\")))\n",
    "t1s = sorted(glob(os.path.join('SVBP_reworked', 'T1', \"*.tif\")))\n",
    "labels_brain = sorted(glob(os.path.join('SVBP_reworked', 'Labels_brain_total', \"*.tif\")))\n",
    "labels_regions = sorted(glob(os.path.join('SVBP_reworked', 'Labels_brain_regions', \"*.tif\")))\n",
    "labels_tracts = sorted(glob(os.path.join('SVBP_reworked', 'Labels_tracts_and_ventricles', \"*.tif\")))\n",
    "for direct in [t1s, labels_brain, labels_regions, labels_tracts]:\n",
    "    for i in range(len(direct)):\n",
    "        img = imio.load.load_any(direct[i])\n",
    "        out = direct[i].replace('.tif', '.nii.gz')\n",
    "        imio.save.to_nii(img, out)\n",
    "for mri in mris:\n",
    "    img = nib.load(mri).get_fdata()\n",
    "    affine_transform = np.eye(4)\n",
    "    img = nib.Nifti1Image(img, affine_transform)\n",
    "    out = mri.replace('.nii', '.nii.gz')    \n",
    "    nib.save(img, out)\n"
   ]
  },
  {
   "cell_type": "code",
   "execution_count": 23,
   "id": "02cbb798",
   "metadata": {},
   "outputs": [],
   "source": [
    "mris = sorted(glob(os.path.join('MAP6_reworked', 'MRI', \"*.nii\")))\n",
    "t1s = sorted(glob(os.path.join('MAP6_reworked', 'T1', \"*.tif\")))\n",
    "labels_brain = sorted(glob(os.path.join('MAP6_reworked', 'Labels_brain_total', \"*.tif\")))\n",
    "labels_regions = sorted(glob(os.path.join('MAP6_reworked', 'Labels_brain_regions', \"*.tif\")))\n",
    "for direct in [t1s, labels_brain, labels_regions]:\n",
    "    for i in range(len(direct)):\n",
    "        img = imio.load.load_any(direct[i])\n",
    "        out = direct[i].replace('.tif', '.nii.gz')\n",
    "        imio.save.to_nii(img, out)\n",
    "for mri in mris:\n",
    "    img = nib.load(mri).get_fdata()\n",
    "    affine_transform = np.eye(4)\n",
    "    img = nib.Nifti1Image(img, affine_transform)\n",
    "    out = mri.replace('.nii', '.nii.gz')    \n",
    "    nib.save(img, out)\n"
   ]
  },
  {
   "cell_type": "code",
   "execution_count": null,
   "id": "937e613a",
   "metadata": {},
   "outputs": [],
   "source": []
  },
  {
   "cell_type": "code",
   "execution_count": null,
   "id": "37374bbf",
   "metadata": {},
   "outputs": [],
   "source": []
  },
  {
   "cell_type": "code",
   "execution_count": null,
   "id": "3ee08547",
   "metadata": {},
   "outputs": [],
   "source": []
  },
  {
   "cell_type": "code",
   "execution_count": null,
   "id": "fee94b79",
   "metadata": {},
   "outputs": [],
   "source": []
  },
  {
   "cell_type": "code",
   "execution_count": null,
   "id": "df2b7f4e",
   "metadata": {},
   "outputs": [],
   "source": []
  },
  {
   "cell_type": "code",
   "execution_count": null,
   "id": "c04bf5b8",
   "metadata": {},
   "outputs": [],
   "source": []
  },
  {
   "cell_type": "code",
   "execution_count": null,
   "id": "c16b5432",
   "metadata": {},
   "outputs": [],
   "source": []
  },
  {
   "cell_type": "code",
   "execution_count": null,
   "id": "5f9b5f7f",
   "metadata": {},
   "outputs": [],
   "source": []
  }
 ],
 "metadata": {
  "kernelspec": {
   "display_name": "Python 3 (ipykernel)",
   "language": "python",
   "name": "python3"
  },
  "language_info": {
   "codemirror_mode": {
    "name": "ipython",
    "version": 3
   },
   "file_extension": ".py",
   "mimetype": "text/x-python",
   "name": "python",
   "nbconvert_exporter": "python",
   "pygments_lexer": "ipython3",
   "version": "3.8.10"
  }
 },
 "nbformat": 4,
 "nbformat_minor": 5
}
