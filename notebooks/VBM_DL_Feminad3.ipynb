{
 "cells": [
  {
   "cell_type": "code",
   "execution_count": 13,
   "id": "2249563a",
   "metadata": {},
   "outputs": [],
   "source": [
    "import os\n",
    "from glob import glob\n",
    "import nibabel as nib\n",
    "from scipy.spatial.distance import dice\n",
    "import numpy as np\n",
    "import itk\n",
    "import SimpleITK as sitk\n",
    "import scipy.ndimage\n",
    "import scipy\n",
    "import matplotlib.pyplot as plt\n",
    "import pandas as pd\n",
    "from nilearn.reporting import make_glm_report\n",
    "from nilearn.glm.second_level import SecondLevelModel\n",
    "from nilearn import plotting\n",
    "from nilearn.glm import threshold_stats_img"
   ]
  },
  {
   "cell_type": "code",
   "execution_count": 14,
   "id": "dc546a0e",
   "metadata": {},
   "outputs": [],
   "source": [
    "from nilearn.plotting import plot_design_matrix\n",
    "mouses_filename = os.path.join('dataset3', 'Femina3', 'femina3.csv')\n",
    "mouses_csv = pd.read_csv(mouses_filename)\n",
    "\n",
    "male = mouses_csv['sex'] == 'M'\n",
    "female = mouses_csv['sex'] == 'F'\n",
    "age1 = mouses_csv['age'] == '2mois'\n",
    "age2 = mouses_csv['age'] == '4mois'\n",
    "dki = mouses_csv['group'] == 'dki'\n",
    "wt = mouses_csv['group'] == 'wt'\n",
    "\n",
    "m_wt_2 = male * age1 * wt\n",
    "f_wt_2 = female * age1 * wt\n",
    "m_dk_2 = male * age1 * dki\n",
    "f_dk_2 = female * age1* dki\n",
    "\n",
    "m_wt_4 = male * age2 * wt\n",
    "f_wt_4 = female * age2 * wt\n",
    "m_dk_4 = male * age2 * dki\n",
    "f_dk_4 = female * age2 * dki\n",
    "\n",
    "design_matrix = pd.DataFrame(np.vstack((male, female, age1, age2, ).T,\n",
    "                             columns=['m_wt_2', 'f_wt_2', 'm_dk_2', 'f_dk_2', 'm_wt_4', 'f_wt_4', 'm_dk_4', 'f_dk_4'])\n",
    "ax = plot_design_matrix(design_matrix)\n",
    "print(len(design_matrix))\n",
    "design_matrix.to_csv(\"dataset3/Femina3/design_matrix.csv\")"
   ]
  },
  {
   "cell_type": "code",
   "execution_count": 16,
   "id": "b54e9364",
   "metadata": {},
   "outputs": [
    {
     "name": "stdout",
     "output_type": "stream",
     "text": [
      "134\n"
     ]
    },
    {
     "data": {
      "image/png": "[encoded data removed]",
      "text/plain": [
       "<Figure size 204.48x720 with 1 Axes>"
      ]
     },
     "metadata": {
      "needs_background": "light"
     },
     "output_type": "display_data"
    }
   ],
   "source": [
    "design_matrix = pd.DataFrame(np.vstack((m_wt_2, f_wt_2, m_dk_2, f_dk_2, m_wt_4, f_wt_4, m_dk_4, f_dk_4)).T,\n",
    "                             columns=['m_wt_2', 'f_wt_2', 'm_dk_2', 'f_dk_2', 'm_wt_4', 'f_wt_4', 'm_dk_4', 'f_dk_4'])\n",
    "ax = plot_design_matrix(design_matrix)\n",
    "print(len(design_matrix))\n",
    "design_matrix.to_csv(\"dataset3/Femina3/design_matrix.csv\")"
   ]
  },
  {
   "cell_type": "code",
   "execution_count": 9,
   "id": "e60ffbdb",
   "metadata": {},
   "outputs": [],
   "source": [
    "thresholds_dict = { \n",
    "                #'fdr005': ('fdr', 0.05),\n",
    "                'fpr001': ('fpr', 0.01), \n",
    "                #'fpr0001': ('fpr', 0.001),  \n",
    "                #'fpr0005': ('fpr', 0.005),\n",
    "            }\n",
    "\n",
    "contrasts_dict = {\n",
    "    'a_2m': [1, -1, 0, 0, 0, 0, 0, 0],\n",
    "    'a_4m': [0, 0, 0, 0, 1, -1, 0, 0],\n",
    "    'b_2m': [0, 1, 0, -1, 0, 0, 0, 0],\n",
    "    'b_4m': [0, 0, 0, 0, 0, 1, 0, -1],\n",
    "    'c_2m': [1, 0, -1, 0, 0, 0, 0, 0],\n",
    "    'c_4m': [0, 0, 0, 0, 1, 0, -1, 0],\n",
    "    'd_2m': [0, 0, 1, -1, 0, 0, 0, 0],\n",
    "    'd_4m': [0, 0, 0, 0, 0, 0, 1, -1],\n",
    "    \n",
    "    #'age'    : [-1, -1, -1, -1, 1, 1, 1, 1],\n",
    "    #'age-M'  : [-1, 0, -1, 0, 1, 0, 1, 0],\n",
    "    #'age-F'  : [0, -1, 0, -1, 0, 1, 0, 1],\n",
    "    #'age-wt' : [-1, -1, 0, 0, 1, 1, 0, 0],\n",
    "    #'age-dki': [0, 0, -1, -1, 0, 0, 1, 1],    \n",
    "    #'sex'    : [1, -1, 1, -1, 1, -1, 1, -1],\n",
    "    #'sex-2m' : [1, -1, 1, -1, 0, 0, 0, 0],\n",
    "    #'sex-4m' : [0, 0, 0, 0, 1, -1, 1, -1],\n",
    "    #'sex-wt' : [1, -1, 0, 0, 1, -1, 0, 0],\n",
    "    #'sex-dki': [0, 0, 1, -1, 0, 0, 1, -1],\n",
    "    #'group'  : [1, 1, -1, -1, 1, 1, -1, -1],\n",
    "    #'group-M'  : [1, 0, -1, 0, 1, 0, -1, 0],\n",
    "    #'group-F'  : [0, 1, 0, -1, 0, 1, 0, -1],\n",
    "    #'group-2m'  : [1, 1, -1, -1, 0, 0, 0, 0],\n",
    "    #'group-4m'  : [0, 0, 0, 0, 1, 1, -1, -1],    \n",
    "}"
   ]
  },
  {
   "cell_type": "code",
   "execution_count": 11,
   "id": "d5f10119",
   "metadata": {},
   "outputs": [],
   "source": [
    "# Il faut supprimer 2mois_7436 ! Fait à la main"
   ]
  },
  {
   "cell_type": "code",
   "execution_count": 10,
   "id": "ce3e6fde",
   "metadata": {},
   "outputs": [],
   "source": [
    "atlas_mri = os.path.join('dataset3', 'Atlas', 'P56_Atlas_128_norm_id.nii.gz')\n",
    "mask_img = nib.load(os.path.join('dataset3', 'Atlas', 'P56_Annotation_128_norm_id_mask.nii.gz'))\n",
    "outfolders = [\n",
    "            'test',\n",
    "]\n",
    "for outfolder in outfolders:\n",
    "    log_filenames = sorted(glob(os.path.join('output', 'Femina3', outfolder, 'Log10Jacobian_Deformable', \"*.nii.gz\")))\n",
    "    #print(log_filenames)\n",
    "    second_level_model = SecondLevelModel(smoothing_fwhm=4.0, mask_img=mask_img)\n",
    "    second_level_model.fit(log_filenames,\n",
    "                           design_matrix=design_matrix)\n",
    "    \n",
    "    for heights, values in thresholds_dict.items():\n",
    "        report = make_glm_report(model=second_level_model,\n",
    "                                     contrasts=contrasts_dict,\n",
    "                                     bg_img=atlas_mri,\n",
    "                                     height_control=values[0],\n",
    "                                     alpha=values[1],\n",
    "                                     display_mode='y'\n",
    "                                     )\n",
    "        report.save_as_html(os.path.join('output', 'Femina3', outfolder, 'Reports-Deformable', 'report_deformable_femina3_' + str(heights) + '.html'))\n",
    "    \n",
    "    for k,v in contrasts_dict.items(): \n",
    "        z_map = second_level_model.compute_contrast(second_level_contrast=v, output_type='z_score')\n",
    "        for heights, values in thresholds_dict.items():\n",
    "            threshold_mask, threshold = threshold_stats_img(z_map, alpha=values[1], height_control=values[0])    \n",
    "            nib.save(threshold_mask, os.path.join('output', 'Femina3', outfolder, 'Reports-Deformable', str(k) + '_' + str(heights) + '.nii.gz'))"
   ]
  },
  {
   "cell_type": "code",
   "execution_count": null,
   "id": "9b7d47e5",
   "metadata": {},
   "outputs": [],
   "source": []
  },
  {
   "cell_type": "code",
   "execution_count": null,
   "id": "c5b18a7e",
   "metadata": {},
   "outputs": [],
   "source": []
  }
 ],
 "metadata": {
  "kernelspec": {
   "display_name": "venv",
   "language": "python",
   "name": "venv"
  },
  "language_info": {
   "codemirror_mode": {
    "name": "ipython",
    "version": 3
   },
   "file_extension": ".py",
   "mimetype": "text/x-python",
   "name": "python",
   "nbconvert_exporter": "python",
   "pygments_lexer": "ipython3",
   "version": "3.8.10"
  }
 },
 "nbformat": 4,
 "nbformat_minor": 5
}
