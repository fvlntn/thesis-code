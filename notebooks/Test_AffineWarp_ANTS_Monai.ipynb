{
 "cells": [
  {
   "cell_type": "code",
   "execution_count": 1,
   "id": "b288627f",
   "metadata": {},
   "outputs": [],
   "source": [
    "from glob import glob\n",
    "import os\n",
    "import subprocess\n",
    "import SimpleITK as sitk\n",
    "import torch\n",
    "import nibabel as nib\n",
    "import numpy as np\n",
    "from monai.networks.blocks import Warp"
   ]
  },
  {
   "cell_type": "code",
   "execution_count": 2,
   "id": "078d477e",
   "metadata": {},
   "outputs": [],
   "source": [
    "def convertWarpFromPhysicalToVoxel(warp):\n",
    "    affine = warp.affine\n",
    "    header = warp.header\n",
    "    inv_affine = np.linalg.inv(affine)\n",
    "    inv_affine[:3,3] = 0\n",
    "    inv_affine[:3,:3] = inv_affine[:3,:3] * np.diag((-1,-1,1)) \n",
    "        \n",
    "    trans_array = torch.from_numpy(warp.get_fdata()).squeeze()\n",
    "    warp_voxel = nib.affines.apply_affine(inv_affine, trans_array)\n",
    "    warp_voxel = torch.from_numpy(warp_voxel).unsqueeze(dim=3).permute(3,4,0,1,2)     \n",
    "    warp_voxel = nib.Nifti1Image(warp_voxel.numpy(), affine, header)\n",
    "    \n",
    "    return warp_voxel"
   ]
  },
  {
   "cell_type": "code",
   "execution_count": 3,
   "id": "c3466054",
   "metadata": {},
   "outputs": [],
   "source": [
    "def convertWarpFromVoxelToPhysical(warp):\n",
    "    affine = warp.affine\n",
    "    header = warp.header\n",
    "    affine[:3,3] = 0\n",
    "    affine[:3,:3] = affine[:3,:3] * np.diag((-1,-1,1)) \n",
    "        \n",
    "    trans_array = torch.from_numpy(warp.get_fdata()).squeeze().permute(1,2,3,0)\n",
    "    warp_voxel = nib.affines.apply_affine(affine, trans_array)\n",
    "    warp_voxel = torch.from_numpy(warp_voxel).unsqueeze(dim=3)\n",
    "    warp_voxel = nib.Nifti1Image(warp_voxel.numpy(), affine, header)\n",
    "    \n",
    "    return warp_voxel"
   ]
  },
  {
   "cell_type": "code",
   "execution_count": 4,
   "id": "7596ca6c",
   "metadata": {},
   "outputs": [],
   "source": [
    "def applyMonaiWarp(mri, transform, ref):     \n",
    "    \n",
    "    warp = Warp(\"bilinear\", \"border\")\n",
    "    \n",
    "    warp_ants = nib.load(transform)    \n",
    "    warp_voxel = convertWarpFromPhysicalToVoxel(warp_ants)   \n",
    "    warp_voxel = torch.from_numpy(warp_voxel.get_fdata())\n",
    "    \n",
    "    \n",
    "    print(warp_ants.shape)\n",
    "    print(warp_ants.get_fdata()[53,44,101,0,:])\n",
    "    print(warp_voxel.shape)\n",
    "    print(warp_voxel[0,:,53,44,101])\n",
    "    \n",
    "    image = torch.from_numpy(nib.load(mri).get_fdata()).unsqueeze(dim=0).unsqueeze(dim=0)   \n",
    "    warped_mri = warp(image, warp_voxel)\n",
    "    \n",
    "    affine = nib.load(ref).affine\n",
    "    header = nib.load(ref).header\n",
    "    warped_mri_nib = nib.Nifti1Image(warped_mri.squeeze().numpy(), affine, header)\n",
    "    \n",
    "    return warped_mri_nib"
   ]
  },
  {
   "cell_type": "code",
   "execution_count": 27,
   "id": "9117bc85",
   "metadata": {},
   "outputs": [],
   "source": [
    "import scipy\n",
    "def interpolate_warp(warp_data, point):\n",
    "    x_range = np.arange(0, warp_data.shape[0], 1)\n",
    "    y_range = np.arange(0, warp_data.shape[1], 1)\n",
    "    z_range = np.arange(0, warp_data.shape[2], 1) \n",
    "    \n",
    "    x = point[0]\n",
    "    y = point[1]\n",
    "    z = point[2]\n",
    "    \n",
    "    interp_x = scipy.interpolate.RegularGridInterpolator((x_range, y_range, z_range), warp_data[:,:,:,0], fill_value=0)\n",
    "    dx = interp_x(point)\n",
    "    \n",
    "    interp_y = scipy.interpolate.RegularGridInterpolator((x_range, y_range, z_range), warp_data[:,:,:,1], fill_value=0)\n",
    "    dy = interp_y(point)\n",
    "    \n",
    "    interp_z = scipy.interpolate.RegularGridInterpolator((x_range, y_range, z_range), warp_data[:,:,:,2], fill_value=0)\n",
    "    dz = interp_z(point)\n",
    "    \n",
    "    \n",
    "    return dx, dy, dz"
   ]
  },
  {
   "cell_type": "code",
   "execution_count": 29,
   "id": "3d356daf",
   "metadata": {
    "scrolled": true
   },
   "outputs": [
    {
     "name": "stdout",
     "output_type": "stream",
     "text": [
      "Feminad\n",
      "/home/valentini/dev/Mousenet/dataset2/Feminad/MRI_N4_Resample_Norm_Deformable/Deformable_Norm_Resampled_N4_2_6516131InverseWarp.nii.gz\n",
      "/home/valentini/dev/Mousenet/dataset2/Feminad/MRI_N4_Resample_Norm_Deformable/Deformable_Norm_Resampled_N4_2_6516131Warp.nii.gz\n",
      "/home/valentini/dev/Mousenet/output/Feminad/DL_Localnet_Reg/DeformableWarp/Affine_template0Norm_Resampled_N4_2_651613WarpedToTemplate.nii.gz\n",
      "/home/valentini/dev/Mousenet/dataset2/Feminad/MRI_N4_Resample_Norm/Norm_Resampled_N4_2_6516.nii.gz\n",
      "/home/valentini/dev/Mousenet/dataset2/Feminad/test_Affine/Affine_Norm_Resampled_N4_2_6516.nii.gz\n",
      "(128, 128, 128, 1, 3)\n",
      "(51.5, 43.0, 89.5)\n",
      "(array(-0.01639375), array(0.10580799), array(0.06736265))\n",
      "(array(0.02296625), array(-0.10385632), array(-0.07041248))\n",
      "(array(-0.0454352), array(3.13162197), array(-0.24716698))\n",
      "----------------------------------------\n"
     ]
    }
   ],
   "source": [
    "ref = \"/home/valentini/dev/Mousenet/dataset2/Atlas/Deformable_Feminad_template0_sameaffine.nii.gz\"\n",
    "for dataset in [\"Feminad\", \"Painfact\", \"IRIS\"]:\n",
    "    print(dataset)\n",
    "    data_dir = os.path.join(\"/home/valentini/dev/Mousenet/dataset2/\" + str(dataset) + \"/\")\n",
    "    out_dir = os.path.join(\"/home/valentini/dev/Mousenet/output/Feminad/DL_Localnet_Reg/\")\n",
    "    mris = sorted(glob(os.path.join(data_dir, 'MRI_N4_Resample_Norm', \"*.nii.gz\")))\n",
    "    warps_ants = sorted(glob(os.path.join(data_dir, 'MRI_N4_Resample_Norm_Deformable', \"*Warp.nii.gz\")))\n",
    "    warps_deep = sorted(glob(os.path.join(out_dir, 'DeformableWarp', \"*.nii.gz\")))\n",
    "    for i, mri in enumerate(mris):\n",
    "        if \"2_6516\" in mri:\n",
    "            print(str(i) + \"/\" + str(len(mris)), end=\"\\r\") \n",
    "            print(warps_ants[2*i])\n",
    "            print(warps_ants[2*i+1])\n",
    "            print(warps_deep[i])\n",
    "            print(mris[i])\n",
    "            outname = data_dir + 'test_Affine/Affine_' + mri.split('/')[-1]\n",
    "            print(outname)\n",
    "            \n",
    "            warp_inv_ants = torch.from_numpy(nib.load(warps_ants[2*i]).get_fdata()).numpy()\n",
    "            print(warp_inv_ants.shape)\n",
    "            warp_ants = torch.from_numpy(nib.load(warps_ants[2*i+1]).get_fdata()).numpy()\n",
    "            warp_deep = torch.from_numpy(nib.load(warps_deep[i]).get_fdata()).numpy()\n",
    "            print(point)\n",
    "            print(interpolate_warp(warp_inv_ants[:,:,:,0,:], point))\n",
    "            print(interpolate_warp(warp_ants[:,:,:,0,:], point))\n",
    "            \n",
    "            point = (51.94,41.54,88.95)\n",
    "            print(interpolate_warp(warp_deep[:,:,:,0,:], point))\n",
    "            \n",
    "            #affine_mri_nib = applyMonaiWarp(mris[i], warps[i], ref)\n",
    "            #nib.save(affine_mri_nib, outname)\n",
    "            break\n",
    "    print('-'*40)\n",
    "    break"
   ]
  },
  {
   "cell_type": "code",
   "execution_count": null,
   "id": "b3b4772a",
   "metadata": {},
   "outputs": [],
   "source": []
  }
 ],
 "metadata": {
  "kernelspec": {
   "display_name": "venv",
   "language": "python",
   "name": "venv"
  },
  "language_info": {
   "codemirror_mode": {
    "name": "ipython",
    "version": 3
   },
   "file_extension": ".py",
   "mimetype": "text/x-python",
   "name": "python",
   "nbconvert_exporter": "python",
   "pygments_lexer": "ipython3",
   "version": "3.8.10"
  }
 },
 "nbformat": 4,
 "nbformat_minor": 5
}
