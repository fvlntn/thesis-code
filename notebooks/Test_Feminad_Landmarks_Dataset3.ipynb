{
 "cells": [
  {
   "cell_type": "code",
   "execution_count": 1,
   "id": "c1e57182",
   "metadata": {},
   "outputs": [],
   "source": [
    "from glob import glob\n",
    "import os\n",
    "import subprocess\n",
    "import nibabel as nib\n",
    "import numpy as np\n",
    "import pandas as pd\n",
    "import utils\n",
    "import scipy.ndimage\n",
    "import scipy\n",
    "import torch\n",
    "from skimage.measure import regionprops\n",
    "from monai.networks.blocks import Warp"
   ]
  },
  {
   "cell_type": "code",
   "execution_count": 2,
   "id": "3a36a1e9",
   "metadata": {},
   "outputs": [],
   "source": [
    "def getRegionsAsCSV_antss(mask, out):\n",
    "    ants_command = \"ImageMath 3 \" + str(out) + \" LabelStats \" + str(mask) + \" \" + str(mask)\n",
    "    subprocess.call(ants_command.split(\" \"))  \n",
    "    \n",
    "def getRegionsAsCSV_scipy(mask, out):    \n",
    "    img = nib.load(mask).get_fdata().astype(np.uint8)\n",
    "    regions = regionprops(img)\n",
    "    df = pd.DataFrame()\n",
    "    for i, props in enumerate(regions):\n",
    "        x, y, z = props.centroid\n",
    "        x = x # + 1 # +1 because ITK-Snap is between 1-128 and Python 0-127\n",
    "        y = y # + 1\n",
    "        z = z # + 1\n",
    "        t = 0\n",
    "        label = props.label\n",
    "        mass = props.area\n",
    "        volume = props.area\n",
    "        count = len(props.coords)\n",
    "        row = {\n",
    "            'x': x,\n",
    "            'y': y,\n",
    "            'z': z,\n",
    "            't': t,\n",
    "            'label': label,\n",
    "            'mass': mass,\n",
    "            'volume': volume,\n",
    "            'count': count,\n",
    "        }\n",
    "        temp_df = pd.DataFrame(data=row, index=[0])\n",
    "        df = pd.concat([df, temp_df], ignore_index=True)\n",
    "    df.to_csv(out, index=False)\n",
    "    \n",
    "def get_csv_positive(csv, out):\n",
    "    df = pd.read_csv(csv, sep=',', header=0)\n",
    "    df_out = pd.DataFrame()\n",
    "    for i in range(len(df)):\n",
    "        row = {\n",
    "            'x': np.abs(df['x'][i]),\n",
    "            'y': np.abs(df['y'][i]),\n",
    "            'z': np.abs(df['z'][i]),\n",
    "            't': df['t'][i],\n",
    "            'label': df['label'][i],\n",
    "            'mass': df['mass'][i],\n",
    "            'volume': df['volume'][i],\n",
    "            'count': df['count'][i],\n",
    "        }  \n",
    "        temp_df = pd.DataFrame(data=row, index=[0])\n",
    "        df_out = pd.concat([df_out, temp_df], ignore_index=True)\n",
    "    df_out.to_csv(out, index=False)\n"
   ]
  },
  {
   "cell_type": "code",
   "execution_count": 3,
   "id": "3bf33030",
   "metadata": {},
   "outputs": [],
   "source": [
    "out_atlas_ants = os.path.join(\"dataset3\", \"Atlas\", \"P56_Atlas_landmarks_FV_id_ants.csv\")\n",
    "out_atlas_scipy = os.path.join(\"dataset3\", \"Atlas\", \"P56_Atlas_landmarks_FV_id_scipy.csv\")\n",
    "atlas_landmark = os.path.join(\"dataset3\", \"Atlas\", \"P56_Atlas_landmarks_FV_id.nii.gz\")\n",
    "#getRegionsAsCSV_antss(atlas_landmark, out_atlas_ants)       \n",
    "#getRegionsAsCSV_scipy(atlas_landmark, out_atlas_scipy) "
   ]
  },
  {
   "cell_type": "code",
   "execution_count": 7,
   "id": "85f0c166",
   "metadata": {},
   "outputs": [
    {
     "name": "stdout",
     "output_type": "stream",
     "text": [
      "32\r"
     ]
    }
   ],
   "source": [
    "data_dir = os.path.join(\"/home/valentini/dev/Mousenet/dataset3/Feminad_Mean/\") \n",
    "landmarks = sorted(glob(os.path.join(data_dir, \"Landmarks\", \"*.nii.gz\")))\n",
    "landmarks_id = sorted(glob(os.path.join(data_dir, \"Landmarks\", \"*_id.nii.gz\")))\n",
    "aff_mats = sorted(glob(os.path.join(data_dir, 'MRI', \"*.mat\")))\n",
    "def_warps = sorted(glob(os.path.join(data_dir, 'MRI', \"*_warp.nii.gz\")))\n",
    "def_invwarps = sorted(glob(os.path.join(data_dir, 'MRI', \"*_warp_inverse.nii.gz\")))\n",
    "for i in range(len(landmarks)):\n",
    "    print(i, end='\\r')\n",
    "    out_id_ants = os.path.join(data_dir, \"Landmarks\", landmarks[i].split('/')[-1].split('.')[0] + '_og.csv')\n",
    "    out_idpos_ants = os.path.join(data_dir, \"Landmarks\", landmarks[i].split('/')[-1].split('.')[0] + '_ogpos.csv')\n",
    "    getRegionsAsCSV_antss(landmarks[i], out_id_ants)  \n",
    "    get_csv_positive(out_id_ants, out_idpos_ants)\n",
    "\n",
    "    name = landmarks[i].split('/')[-1].split('.')[0]\n",
    "    name = name.split('_')[0] + '_' + name.split('_')[1] + '_'\n",
    "\n",
    "    aff_mat = aff_mats[i]\n",
    "    def_warp = def_warps[i] \n",
    "    def_invwarp = def_invwarps[i]\n",
    "    \n",
    "    out_affine_csv = os.path.join(data_dir, \"Landmarks\", landmarks_id[i].split('/')[-1].split('.')[0] + '_aff.csv')\n",
    "    ants_command = \"antsApplyTransformsToPoints -d 3 -i \" + str(out_id_ants) + \" -o \" + str(out_affine_csv) + \" -t [\" + str(aff_mat) + \",1]\"\n",
    "    subprocess.call(ants_command.split(\" \"))  \n",
    "    out_affinepos_csv = os.path.join(data_dir, \"Landmarks\", landmarks_id[i].split('/')[-1].split('.')[0] + '_affpos.csv')\n",
    "    get_csv_positive(out_affine_csv, out_affinepos_csv)\n",
    "\n",
    "    out_atlas_def = os.path.join(data_dir, \"Landmarks\", landmarks_id[i].split('/')[-1].split('.')[0] + '_atlasfvdef.csv')\n",
    "    ants_command = \"antsApplyTransformsToPoints -d 3 -i \" + str(out_atlas_ants) + \" -o \" + str(out_atlas_def) + \" -t \" + str(def_warp)\n",
    "    subprocess.call(ants_command.split(\" \"))\n",
    "\n",
    "    out_atlas_defpos = os.path.join(data_dir, \"Landmarks\", landmarks_id[i].split('/')[-1].split('.')[0] + '_atlasfvdefpos.csv')\n",
    "    get_csv_positive(out_atlas_def, out_atlas_defpos)\n"
   ]
  },
  {
   "cell_type": "code",
   "execution_count": null,
   "id": "547db51b",
   "metadata": {},
   "outputs": [],
   "source": []
  },
  {
   "cell_type": "code",
   "execution_count": null,
   "id": "16fd54f3",
   "metadata": {},
   "outputs": [],
   "source": []
  },
  {
   "cell_type": "code",
   "execution_count": null,
   "id": "b18f21c9",
   "metadata": {},
   "outputs": [],
   "source": [
    "x = 0.0000000000\n",
    "if not x:\n",
    "    print('xd')"
   ]
  },
  {
   "cell_type": "code",
   "execution_count": null,
   "id": "e193207c",
   "metadata": {},
   "outputs": [],
   "source": []
  }
 ],
 "metadata": {
  "kernelspec": {
   "display_name": "venv",
   "language": "python",
   "name": "venv"
  },
  "language_info": {
   "codemirror_mode": {
    "name": "ipython",
    "version": 3
   },
   "file_extension": ".py",
   "mimetype": "text/x-python",
   "name": "python",
   "nbconvert_exporter": "python",
   "pygments_lexer": "ipython3",
   "version": "3.8.10"
  }
 },
 "nbformat": 4,
 "nbformat_minor": 5
}
