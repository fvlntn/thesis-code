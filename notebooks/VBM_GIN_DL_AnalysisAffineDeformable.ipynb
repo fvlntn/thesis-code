{
 "cells": [
  {
   "cell_type": "code",
   "execution_count": 1,
   "id": "2249563a",
   "metadata": {},
   "outputs": [],
   "source": [
    "import os\n",
    "from glob import glob\n",
    "import nibabel as nib\n",
    "from scipy.spatial.distance import dice\n",
    "import numpy as np\n",
    "import itk\n",
    "import SimpleITK as sitk\n",
    "import scipy.ndimage\n",
    "import scipy\n",
    "import matplotlib.pyplot as plt\n",
    "import pandas as pd\n",
    "from nilearn.reporting import make_glm_report\n",
    "from nilearn.glm.second_level import SecondLevelModel\n",
    "from nilearn import plotting\n",
    "from nilearn.glm import threshold_stats_img"
   ]
  },
  {
   "cell_type": "code",
   "execution_count": 2,
   "id": "dc546a0e",
   "metadata": {},
   "outputs": [],
   "source": [
    "from nilearn.plotting import plot_design_matrix\n",
    "mouses_filename = os.path.join('dataset3', 'GIN', 'gin.csv')\n",
    "mouses_csv = pd.read_csv(mouses_filename)\n",
    "svbp = mouses_csv['study'] == 'SVBP'\n",
    "map6 = mouses_csv['study'] == 'MAP6'\n",
    "wt = mouses_csv['type'] == 'WT'\n",
    "ko = mouses_csv['type'] == 'KO'\n",
    "svbp_wt = svbp * wt\n",
    "svbp_ko = svbp * ko\n",
    "map6_wt = map6 * wt\n",
    "map6_ko = map6 * ko"
   ]
  },
  {
   "cell_type": "code",
   "execution_count": 3,
   "id": "0f1219a5",
   "metadata": {},
   "outputs": [
    {
     "name": "stdout",
     "output_type": "stream",
     "text": [
      "27\n"
     ]
    },
    {
     "data": {
      "image/png": "[encoded data removed]",
      "text/plain": [
       "<Figure size 138.24x286.56 with 1 Axes>"
      ]
     },
     "metadata": {
      "needs_background": "light"
     },
     "output_type": "display_data"
    }
   ],
   "source": [
    "design_matrix = pd.DataFrame(np.vstack((svbp_wt, svbp_ko, map6_wt, map6_ko)).T,\n",
    "                             columns=['svbp_wt', 'svbp_ko', 'map6_wt', 'map6_ko'])\n",
    "ax = plot_design_matrix(design_matrix)\n",
    "print(len(design_matrix))"
   ]
  },
  {
   "cell_type": "code",
   "execution_count": 4,
   "id": "e60ffbdb",
   "metadata": {},
   "outputs": [],
   "source": [
    "thresholds_dict = { \n",
    "                'fdr005': ('fdr', 0.05),\n",
    "                'fpr0001': ('fpr', 0.001),  \n",
    "                'fpr0005': ('fpr', 0.005),\n",
    "            }\n",
    "\n",
    "contrasts_dict = {\n",
    "    #'study'     : [-1, -1, 1, 1],\n",
    "    #'study-KO'  : [0, -1, 0, 1],\n",
    "    #'study-WT'  : [-1, 0, 1, 0],\n",
    "    #'type'      : [-1, 1, -1, 1],\n",
    "    'type-SVBP' : [-1, 1, 0, 0],\n",
    "    'type-MAP6' : [0, 0, -1, 1],\n",
    "}"
   ]
  },
  {
   "cell_type": "code",
   "execution_count": 5,
   "id": "ce3e6fde",
   "metadata": {},
   "outputs": [
    {
     "name": "stderr",
     "output_type": "stream",
     "text": [
      "The given float value must not exceed 2.8966136015077004. But, you have given threshold=inf \n",
      "empty mask\n",
      "The given float value must not exceed 2.8966136015077004. But, you have given threshold=inf \n",
      "Attention: No clusters with stat higher than inf\n",
      "The given float value must not exceed 2.8966136015077004. But, you have given threshold=3.2905267314918945 \n",
      "empty mask\n",
      "The given float value must not exceed 2.8966136015077004. But, you have given threshold=3.2905267314918945 \n",
      "Attention: No clusters with stat higher than 3.2905267314918945\n",
      "The given float value must not exceed 2.8966136015077004. But, you have given threshold=inf \n",
      "The given float value must not exceed 2.8966136015077004. But, you have given threshold=3.2905267314918945 \n"
     ]
    }
   ],
   "source": [
    "atlas_mri = os.path.join('dataset3', 'Atlas', 'P56_Atlas_128_norm_id.nii.gz')\n",
    "mask_img = nib.load(os.path.join('dataset3', 'Atlas', 'P56_Annotation_128_norm_id_mask.nii.gz'))\n",
    "outfolders = [\n",
    "            #\"scenario1\",\n",
    "            #\"scenario2\",\n",
    "            \"scenario3\",\n",
    "]\n",
    "for outfolder in outfolders:\n",
    "    log_filenames = sorted(glob(os.path.join('output', 'GIN', outfolder, 'Log10Jacobian_AffineDeformable', \"*.nii.gz\")))\n",
    "    second_level_model = SecondLevelModel(smoothing_fwhm=4.0, mask_img=mask_img)\n",
    "    second_level_model.fit(log_filenames,\n",
    "                           design_matrix=design_matrix)\n",
    "\n",
    "    for heights, values in thresholds_dict.items():\n",
    "        report = make_glm_report(model=second_level_model,\n",
    "                                     contrasts=contrasts_dict,\n",
    "                                     bg_img=atlas_mri,\n",
    "                                     height_control=values[0],\n",
    "                                     alpha=values[1],\n",
    "                                     display_mode='z',\n",
    "                                     cut_coords=(50,55,60,65,70,75,80),\n",
    "                                     )\n",
    "        report.save_as_html(os.path.join('output', 'GIN', outfolder, 'Reports-AffineDeformable', 'report_affinedeformable_gin_' + str(heights) + '.html'))\n",
    "\n",
    "    for k,v in contrasts_dict.items(): \n",
    "        z_map = second_level_model.compute_contrast(second_level_contrast=v, output_type='z_score')        \n",
    "        nib.save(z_map, os.path.join('output', 'GIN', outfolder, 'Reports-AffineDeformable', str(k) + '_zmap.nii.gz'))\n",
    "        for heights, values in thresholds_dict.items():\n",
    "            threshold_mask, threshold = threshold_stats_img(z_map, alpha=values[1], height_control=values[0])    \n",
    "            nib.save(threshold_mask, os.path.join('output', 'GIN', outfolder, 'Reports-AffineDeformable', str(k) + '_' + str(heights) + '.nii.gz'))"
   ]
  },
  {
   "cell_type": "code",
   "execution_count": null,
   "id": "b84fd78e",
   "metadata": {},
   "outputs": [],
   "source": []
  },
  {
   "cell_type": "code",
   "execution_count": null,
   "id": "9b7d47e5",
   "metadata": {},
   "outputs": [],
   "source": []
  },
  {
   "cell_type": "code",
   "execution_count": null,
   "id": "c5b18a7e",
   "metadata": {},
   "outputs": [],
   "source": []
  }
 ],
 "metadata": {
  "kernelspec": {
   "display_name": "venv",
   "language": "python",
   "name": "venv"
  },
  "language_info": {
   "codemirror_mode": {
    "name": "ipython",
    "version": 3
   },
   "file_extension": ".py",
   "mimetype": "text/x-python",
   "name": "python",
   "nbconvert_exporter": "python",
   "pygments_lexer": "ipython3",
   "version": "3.8.10"
  }
 },
 "nbformat": 4,
 "nbformat_minor": 5
}
