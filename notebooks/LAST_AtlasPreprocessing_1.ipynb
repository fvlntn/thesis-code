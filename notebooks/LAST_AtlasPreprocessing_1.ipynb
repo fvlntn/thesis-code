{
 "cells": [
  {
   "cell_type": "code",
   "execution_count": 12,
   "id": "9a747cce",
   "metadata": {},
   "outputs": [
    {
     "name": "stdout",
     "output_type": "stream",
     "text": [
      "MONAI version: 1.3.0\n",
      "Numpy version: 1.21.6\n",
      "Pytorch version: 1.13.0+cu117\n",
      "MONAI flags: HAS_EXT = False, USE_COMPILED = False, USE_META_DICT = False\n",
      "MONAI rev id: 865972f7a791bf7b42efbcd87c8402bd865b329e\n",
      "MONAI __file__: /home/<username>/.local/lib/python3.8/site-packages/monai/__init__.py\n",
      "\n",
      "Optional dependencies:\n",
      "Pytorch Ignite version: NOT INSTALLED or UNKNOWN VERSION.\n",
      "ITK version: NOT INSTALLED or UNKNOWN VERSION.\n",
      "Nibabel version: 5.1.0\n",
      "scikit-image version: 0.21.0\n",
      "scipy version: 1.8.0\n",
      "Pillow version: 9.5.0\n",
      "Tensorboard version: 2.8.0\n",
      "gdown version: NOT INSTALLED or UNKNOWN VERSION.\n",
      "TorchVision version: NOT INSTALLED or UNKNOWN VERSION.\n",
      "tqdm version: 4.64.1\n",
      "lmdb version: NOT INSTALLED or UNKNOWN VERSION.\n",
      "psutil version: 5.9.0\n",
      "pandas version: 1.4.2\n",
      "einops version: 0.4.1\n",
      "transformers version: 4.24.0\n",
      "mlflow version: NOT INSTALLED or UNKNOWN VERSION.\n",
      "pynrrd version: 1.0.0\n",
      "clearml version: NOT INSTALLED or UNKNOWN VERSION.\n",
      "\n",
      "For details about installing the optional dependencies, please visit:\n",
      "    https://docs.monai.io/en/latest/installation.html#installing-the-recommended-dependencies\n",
      "\n"
     ]
    }
   ],
   "source": [
    "import os\n",
    "import subprocess\n",
    "import shutil\n",
    "from glob import glob\n",
    "import nibabel as nib\n",
    "import nibabel.processing\n",
    "import numpy as np\n",
    "import monai\n",
    "import torch\n",
    "monai.config.print_config()"
   ]
  },
  {
   "cell_type": "markdown",
   "id": "a57bdb89",
   "metadata": {},
   "source": [
    "# Resample Allen Atlas to 128^3 and Origin with MONAI"
   ]
  },
  {
   "cell_type": "markdown",
   "id": "10421cdc",
   "metadata": {},
   "source": [
    "Atlas downloaded from https://scalablebrainatlas.incf.org/mouse/ABA_v3#downloads"
   ]
  },
  {
   "cell_type": "code",
   "execution_count": 14,
   "id": "fd8b6322",
   "metadata": {},
   "outputs": [
    {
     "name": "stdout",
     "output_type": "stream",
     "text": [
      "[[ 0.12  0.    0.   -7.68]\n",
      " [ 0.    0.12  0.   -7.68]\n",
      " [ 0.    0.    0.12 -7.68]\n",
      " [ 0.    0.    0.    1.  ]]\n"
     ]
    }
   ],
   "source": [
    "target_affine = np.array([\n",
    "        [ 0.1200,  0.0000,  0.0000, -7.6800],\n",
    "        [ 0.0000,  0.1200,  0.0000, -7.6800],\n",
    "        [ 0.0000,  0.0000,  0.1200, -7.6800],\n",
    "        [ 0.0000,  0.0000,  0.0000,  1.0000],\n",
    "])\n",
    "print(target_affine)\n",
    "atlas_mri = os.path.join('Atlas', 'P56_Atlas_downsample2.nii.gz')\n",
    "atlas_label = os.path.join('Atlas', 'P56_Annotation.nii.gz')\n",
    "\n",
    "#transform_mask = monai.transforms.SpatialResample(mode=\"nearest\")\n",
    "#transform_mri = monai.transforms.SpatialResample(mode=\"bilinear\")\n",
    "\n",
    "mri = nib.load(atlas_mri)\n",
    "mri_out = nib.processing.resample_from_to(mri, ((128,128,128), target_affine))\n",
    "nib.save(mri_out, atlas_mri.replace('.nii.gz', '_test.nii.gz'))\n",
    "\n",
    "#loader = monai.transforms.LoadImage(ensure_channel_first=True)\n",
    "#saver = monai.transforms.SaveImage(output_dir='Atlas', output_postfix='_int128', separate_folder=False) \n",
    "#\n",
    "#transform_mri = monai.transforms.SpatialResample(mode=5)\n",
    "#tensor = loader(atlas_mri)\n",
    "#out_mri = transform_mri(tensor, target_affine, spatial_size=(128,128,128))\n",
    "#saver(out_mri)\n",
    "#\n",
    "#ensure_mask = monai.transforms.AsDiscrete(threshold=0.5)\n",
    "#ensure_label = monai.transforms.AsDiscrete(rounding=\"torchrounding\")\n",
    "#\n",
    "#label = loader(atlas_label)\n",
    "#out_label = transform_mask(label, target_affine, spatial_size=(128,128,128))\n",
    "#out_label = ensure_label(out_label)\n",
    "#saver(out_label)\n",
    "#print('yes')"
   ]
  },
  {
   "cell_type": "code",
   "execution_count": 8,
   "id": "15be9ae3",
   "metadata": {},
   "outputs": [
    {
     "name": "stdout",
     "output_type": "stream",
     "text": [
      "2023-11-08 15:32:34,300 INFO image_writer.py:197 - writing: Atlas/P56_Atlas_128_norm.nii.gz\n",
      "yes\n"
     ]
    }
   ],
   "source": [
    "target_affine = torch.tensor([\n",
    "        [ 0.1200,  0.0000,  0.0000, -7.6800],\n",
    "        [ 0.0000,  0.1200,  0.0000, -7.6800],\n",
    "        [ 0.0000,  0.0000,  0.1200, -7.6800],\n",
    "        [ 0.0000,  0.0000,  0.0000,  1.0000]\n",
    "], dtype=torch.float64)\n",
    "\n",
    "atlas_mri = os.path.join('Atlas', 'P56_Atlas_128.nii.gz')\n",
    "atlas_label = os.path.join('Atlas', 'P56_Annotation_128.nii.gz')\n",
    "\n",
    "transform = monai.transforms.ScaleIntensity(minv=0.0, maxv=1.0)  \n",
    "\n",
    "loader = monai.transforms.LoadImage(ensure_channel_first=True)\n",
    "saver = monai.transforms.SaveImage(output_dir='Atlas', output_postfix='norm', separate_folder=False) \n",
    "\n",
    "tensor = loader(atlas_mri)\n",
    "label = loader(atlas_label)\n",
    "out = transform(tensor) \n",
    "saver(out)\n",
    "out = atlas_label.replace(\".nii\", \"_norm.nii\")\n",
    "shutil.copyfile(atlas_label, out)\n",
    "\n",
    "\n",
    "print('yes')"
   ]
  },
  {
   "cell_type": "code",
   "execution_count": 10,
   "id": "c390d406",
   "metadata": {},
   "outputs": [
    {
     "name": "stdout",
     "output_type": "stream",
     "text": [
      "2023-11-08 15:55:39,650 INFO image_writer.py:197 - writing: Atlas/P56_Annotation_128_norm_id.nii.gz\n",
      "2023-11-08 15:55:39,772 INFO image_writer.py:197 - writing: Atlas/P56_Atlas_128_norm_id.nii.gz\n",
      "yes\n"
     ]
    }
   ],
   "source": [
    "identity_affine = np.diag((1, 1, 1, 0))\n",
    "\n",
    "atlas_mri = os.path.join('Atlas', 'P56_Atlas_128_norm.nii.gz')\n",
    "atlas_label = os.path.join('Atlas', 'P56_Annotation_128_norm.nii.gz')\n",
    "\n",
    "loader = monai.transforms.LoadImage(ensure_channel_first=True)    \n",
    "saver = monai.transforms.SaveImage(output_dir='Atlas', output_postfix='id', separate_folder=False)\n",
    "\n",
    "tensor = loader(atlas_label)\n",
    "tensor.affine = identity_affine\n",
    "saver(tensor)    \n",
    "\n",
    "tensor = loader(atlas_mri)\n",
    "tensor.affine = identity_affine\n",
    "saver(tensor)        \n",
    "print('yes')"
   ]
  },
  {
   "cell_type": "markdown",
   "id": "2fe4f13b",
   "metadata": {},
   "source": [
    "# Create Mask from Labels for Allen Atlas"
   ]
  },
  {
   "cell_type": "code",
   "execution_count": 5,
   "id": "0fe368a8",
   "metadata": {},
   "outputs": [
    {
     "name": "stdout",
     "output_type": "stream",
     "text": [
      "2023-11-26 10:53:44,118 INFO image_writer.py:197 - writing: Atlas/P56_Annotation_128_norm_id_mask.nii.gz\n",
      "yes\n"
     ]
    }
   ],
   "source": [
    "atlas_label = os.path.join('Atlas', 'P56_Annotation_128_norm_id.nii.gz')\n",
    "\n",
    "transform = monai.transforms.AsDiscrete(threshold=0.99)\n",
    "\n",
    "loader = monai.transforms.LoadImage(ensure_channel_first=True)    \n",
    "saver = monai.transforms.SaveImage(output_dir='Atlas', output_postfix='mask', separate_folder=False)\n",
    "\n",
    "tensor = loader(atlas_label)\n",
    "out = transform(tensor)\n",
    "saver(out)\n",
    "print('yes')"
   ]
  },
  {
   "cell_type": "code",
   "execution_count": null,
   "id": "687a0a38",
   "metadata": {},
   "outputs": [],
   "source": []
  }
 ],
 "metadata": {
  "kernelspec": {
   "display_name": "Python 3 (ipykernel)",
   "language": "python",
   "name": "python3"
  },
  "language_info": {
   "codemirror_mode": {
    "name": "ipython",
    "version": 3
   },
   "file_extension": ".py",
   "mimetype": "text/x-python",
   "name": "python",
   "nbconvert_exporter": "python",
   "pygments_lexer": "ipython3",
   "version": "3.8.10"
  }
 },
 "nbformat": 4,
 "nbformat_minor": 5
}
