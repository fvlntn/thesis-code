{
 "cells": [
  {
   "cell_type": "code",
   "execution_count": 3,
   "id": "2272d621",
   "metadata": {},
   "outputs": [],
   "source": [
    "from glob import glob\n",
    "import os\n",
    "import torch\n",
    "import torchmetrics\n",
    "import nibabel as nib\n",
    "import subprocess\n",
    "import numpy as np\n",
    "import pandas as pd\n",
    "import monai"
   ]
  },
  {
   "cell_type": "code",
   "execution_count": 11,
   "id": "134db3dd",
   "metadata": {},
   "outputs": [
    {
     "name": "stdout",
     "output_type": "stream",
     "text": [
      "653\n",
      "655\n",
      "656\n",
      "660\n",
      "661\n",
      "662\n",
      "663\n",
      "664\n",
      "665\n",
      "667\n",
      "668\n",
      "670\n",
      "675\n",
      "678\n",
      "680\n",
      "683\n",
      "M672\n",
      "M757\n",
      "M857\n",
      "M866\n",
      "M867\n",
      "M872\n",
      "M874\n",
      "M875\n",
      "M877\n",
      "M886\n",
      "M8876\n"
     ]
    }
   ],
   "source": [
    "atlas_mri = \"dataset3/Atlas/P56_Atlas_128_norm_id.nii.gz\"\n",
    "atlas_mask = \"dataset3/Atlas/P56_Annotation_128_norm_id_mask.nii.gz\"\n",
    "atlas_labels = \"dataset3/Atlas/atlas_gin_map6.nii.gz\"\n",
    "\n",
    "ants_detjacs = sorted(glob(os.path.join ('output', 'GIN', 'ANTS', 'Jacobian_Deformable', \"DetJac*.nii.gz\")))\n",
    "deep1_detjacs = sorted(glob(os.path.join('output', 'GIN', 'scenario1', 'Jacobian_Deformable', \"DetJac*.nii.gz\")))\n",
    "deep2_detjacs = sorted(glob(os.path.join('output', 'GIN', 'scenario2', 'Jacobian_Deformable', \"DetJac*.nii.gz\")))\n",
    "deep3_detjacs = sorted(glob(os.path.join('output', 'GIN', 'scenario3', 'Jacobian_Deformable', \"DetJac*.nii.gz\")))\n",
    "mean_detjacs = sorted(glob(os.path.join('output', 'GIN', 'ANTS-Mean', 'Jacobian_Deformable', \"DetJac*.nii.gz\")))\n",
    "\n",
    "names = [\"ANTS\", \"OP\", \"DL\", \"DL+OP\", \"ANTS-Mean\"]\n",
    "\n",
    "list_dict = []\n",
    "\n",
    "for i in range(len(ants_detjacs)):    \n",
    "    \n",
    "    ants_detjac = nib.load(ants_detjacs[i]).get_fdata()\n",
    "    ants_negdetjac = np.sum(ants_detjac <= 0)\n",
    "    \n",
    "    deep1_detjac = nib.load(deep1_detjacs[i]).get_fdata()\n",
    "    deep1_negdetjac = np.sum(deep1_detjac <= 0)\n",
    "    \n",
    "    deep2_detjac = nib.load(deep2_detjacs[i]).get_fdata()\n",
    "    deep2_negdetjac = np.sum(deep2_detjac <= 0)\n",
    "    \n",
    "    deep3_detjac = nib.load(deep3_detjacs[i]).get_fdata()\n",
    "    deep3_negdetjac = np.sum(deep3_detjac <= 0)\n",
    "    \n",
    "    mean_detjac = nib.load(mean_detjacs[i]).get_fdata()\n",
    "    mean_negdetjac = np.sum(mean_detjac <= 0)\n",
    "\n",
    "    name = ants_detjacs[i].split('/')[-1].split('_')[1]    \n",
    "    print(name)\n",
    "    ants_dict = {\"ants_negdetjac\": ants_negdetjac}\n",
    "    deep1_dict = {\"deep1_negdetjac\": deep1_negdetjac}\n",
    "    deep2_dict = {\"deep2_negdetjac\": deep2_negdetjac}\n",
    "    deep3_dict = {\"deep3_negdetjac\": deep3_negdetjac}\n",
    "    mean_dict = {\"antsmean_negdetjac\": mean_negdetjac}\n",
    "    ith_dict = {\"name\": name}\n",
    "    ith_dict.update(ants_dict)\n",
    "    ith_dict.update(deep1_dict)\n",
    "    ith_dict.update(deep2_dict)\n",
    "    ith_dict.update(deep3_dict)\n",
    "    ith_dict.update(mean_dict)\n",
    "    list_dict.append(ith_dict)\n",
    "        \n",
    "df = pd.DataFrame(list_dict)\n",
    "df.to_csv(\"negdet_results.csv\")"
   ]
  },
  {
   "cell_type": "code",
   "execution_count": 15,
   "id": "c44f431b",
   "metadata": {},
   "outputs": [
    {
     "data": {
      "text/plain": [
       "2097152"
      ]
     },
     "execution_count": 15,
     "metadata": {},
     "output_type": "execute_result"
    }
   ],
   "source": [
    "np.sum(deep3_detjac > 0)"
   ]
  },
  {
   "cell_type": "code",
   "execution_count": null,
   "id": "7a359250",
   "metadata": {},
   "outputs": [],
   "source": []
  }
 ],
 "metadata": {
  "kernelspec": {
   "display_name": "venv",
   "language": "python",
   "name": "venv"
  },
  "language_info": {
   "codemirror_mode": {
    "name": "ipython",
    "version": 3
   },
   "file_extension": ".py",
   "mimetype": "text/x-python",
   "name": "python",
   "nbconvert_exporter": "python",
   "pygments_lexer": "ipython3",
   "version": "3.8.10"
  }
 },
 "nbformat": 4,
 "nbformat_minor": 5
}
