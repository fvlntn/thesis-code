{
 "cells": [
  {
   "cell_type": "code",
   "execution_count": 1,
   "id": "e9eb18d4",
   "metadata": {},
   "outputs": [],
   "source": [
    "import os\n",
    "from glob import glob\n",
    "from utils import compute_mean_dice\n",
    "import nibabel as nib\n",
    "from scipy.spatial.distance import dice\n",
    "import numpy as np\n",
    "import itk\n",
    "import SimpleITK as sitk\n",
    "import scipy.ndimage\n",
    "import scipy\n",
    "import matplotlib.pyplot as plt\n",
    "from transforms_dict import getRegistrationEvalInverseTransformForMRI, SaveTransformForMRI\n",
    "from tqdm import tqdm\n",
    "import monai\n",
    "import subprocess\n",
    "from monai.networks.blocks import Warp\n",
    "import torch\n",
    "import pandas as pd"
   ]
  },
  {
   "cell_type": "code",
   "execution_count": 6,
   "id": "8e976644",
   "metadata": {},
   "outputs": [],
   "source": [
    "import argparse\n",
    "import logging\n",
    "import sys\n",
    "\n",
    "import monai\n",
    "import torch\n",
    "from torch.utils.tensorboard import SummaryWriter\n",
    "from monai.utils import set_determinism\n",
    "import numpy as np\n",
    "\n",
    "from seg_model import getUNetForSegmentation, getUNETRForSegmentation\n",
    "from transforms_dict import getSegmentationPostProcessingForLabel, getSegmentationPostProcessingForLabelOutput, getSegmentationPostProcessingForAllLabelsOutput\n",
    "from utils import compute_mean_dice, getReducePlateauScheduler, getAdamOptimizer, loadExistingModel\n",
    "from utils import print_model_output, check_model_name, getDevice\n",
    "from monai.transforms import Activations, EnsureType, Compose\n",
    "from torch import nn\n",
    "from transforms_dict import getSegmentationEvalTransformsForMRI, getSegmentationPostProcessingForMaskOutput\n",
    "from transforms_dict import getSegmentationInverseTransformForLabels, SaveTransformForMRI"
   ]
  },
  {
   "cell_type": "code",
   "execution_count": 9,
   "id": "9e3b10e8",
   "metadata": {},
   "outputs": [],
   "source": [
    "model = getUNetForSegmentation()\n",
    "modelname = \"test_labels.pth\"\n",
    "\n",
    "modelname = check_model_name(modelname)\n",
    "set_determinism(seed=0)\n",
    "logging.basicConfig(stream=sys.stdout, level=logging.INFO)\n",
    "device = getDevice()"
   ]
  },
  {
   "cell_type": "code",
   "execution_count": 44,
   "id": "da930422",
   "metadata": {},
   "outputs": [],
   "source": [
    "device = getDevice()\n",
    "outputs_processing = getSegmentationPostProcessingForLabelOutput(axis=1)\n",
    "all_outputs_processing = getSegmentationPostProcessingForAllLabelsOutput(axis=1)\n",
    "labels_processing = getSegmentationPostProcessingForLabel()\n",
    "test_proba = Compose([\n",
    "    EnsureType(),\n",
    "    Activations(other=nn.Softmax(dim=1)),\n",
    "    #GetMaxChannelWise(),\n",
    "    EnsureType(data_type=\"tensor\", device=device)\n",
    "])\n",
    "\n",
    "#activations\n",
    "softmax = Activations(other=nn.Softmax(dim=1))"
   ]
  },
  {
   "cell_type": "code",
   "execution_count": 54,
   "id": "ea7d996b",
   "metadata": {},
   "outputs": [
    {
     "name": "stdout",
     "output_type": "stream",
     "text": [
      "dataset3/GIN_Mean/MRI/653_N4_o_128_ras_norm_id.nii.gz\n"
     ]
    }
   ],
   "source": [
    "N4 = False\n",
    "resample = False\n",
    "save_tmp = False\n",
    "get_largest_component = False\n",
    "\n",
    "loadExistingModel(model, None, ft=modelname)\n",
    "model.eval()\n",
    "\n",
    "mris = sorted(glob(os.path.join('dataset3', 'GIN_Mean', 'MRI', \"*_id.nii.gz\")))\n",
    "\n",
    "for mriname in mris:\n",
    "    outname = \"tmp.nii.gz\"\n",
    "    mri_preprocessing = getSegmentationEvalTransformsForMRI(N4=N4, outname=outname, save=save_tmp)\n",
    "    with torch.no_grad():\n",
    "        inputs = mri_preprocessing(mriname).to(device)\n",
    "        outputs = model(inputs).cpu()  \n",
    "        preds = outputs_processing(outputs)\n",
    "        all_preds = all_outputs_processing(outputs)\n",
    "        probs = test_proba(outputs)\n",
    "        \n",
    "        all_preds = all_preds.unsqueeze(0)\n",
    "        xdptdr = nib.load(mriname)\n",
    "        mask = nib.Nifti1Image(all_preds.cpu().numpy().squeeze(), xdptdr.affine, xdptdr.header)\n",
    "        print(mriname)\n",
    "        nib.save(mask,\"test.nii.gz\")\n",
    "        \n",
    "    break"
   ]
  },
  {
   "cell_type": "code",
   "execution_count": 48,
   "id": "2544222f",
   "metadata": {},
   "outputs": [
    {
     "name": "stdout",
     "output_type": "stream",
     "text": [
      "(1, 4, 128, 128, 128)\n",
      "(1, 128, 128, 128)\n",
      "-----\n",
      "[ 8.846987   1.0409136 -2.4249673 -3.243588 ]\n",
      "[1. 0. 0. 0.]\n",
      "0\n",
      "[9.9957460e-01 4.0708086e-04 1.2719439e-05 5.6097761e-06]\n"
     ]
    }
   ],
   "source": [
    "print(outputs.shape)\n",
    "print(all_preds.shape)\n",
    "print('-'*5)\n",
    "\n",
    "w = 70\n",
    "print(outputs[0,:,w,w,w].cpu().numpy())\n",
    "print(preds[0,:,w,w,w].cpu().numpy())\n",
    "print(all_preds[0,w,w,w].item())\n",
    "print(probs[0,:,w,w,w].cpu().numpy())\n",
    "\n"
   ]
  },
  {
   "cell_type": "code",
   "execution_count": null,
   "id": "b3b22cfb",
   "metadata": {},
   "outputs": [],
   "source": []
  }
 ],
 "metadata": {
  "kernelspec": {
   "display_name": "venv",
   "language": "python",
   "name": "venv"
  },
  "language_info": {
   "codemirror_mode": {
    "name": "ipython",
    "version": 3
   },
   "file_extension": ".py",
   "mimetype": "text/x-python",
   "name": "python",
   "nbconvert_exporter": "python",
   "pygments_lexer": "ipython3",
   "version": "3.8.10"
  }
 },
 "nbformat": 4,
 "nbformat_minor": 5
}
