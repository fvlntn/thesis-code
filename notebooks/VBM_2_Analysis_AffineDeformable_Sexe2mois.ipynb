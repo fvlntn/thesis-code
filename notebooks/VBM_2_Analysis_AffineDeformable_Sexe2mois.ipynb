{
 "cells": [
  {
   "cell_type": "code",
   "execution_count": 19,
   "id": "2249563a",
   "metadata": {},
   "outputs": [],
   "source": [
    "import os\n",
    "from glob import glob\n",
    "import nibabel as nib\n",
    "from scipy.spatial.distance import dice\n",
    "import numpy as np\n",
    "import itk\n",
    "import SimpleITK as sitk\n",
    "import scipy.ndimage\n",
    "import scipy\n",
    "import matplotlib.pyplot as plt\n",
    "import pandas as pd\n",
    "from nilearn.reporting import make_glm_report\n",
    "from nilearn.glm.second_level import SecondLevelModel\n",
    "from nilearn import plotting\n",
    "from nilearn.glm import threshold_stats_img"
   ]
  },
  {
   "cell_type": "code",
   "execution_count": 2,
   "id": "dc546a0e",
   "metadata": {},
   "outputs": [],
   "source": [
    "from nilearn.plotting import plot_design_matrix\n",
    "mouses_filename = os.path.join('dataset2', 'Feminad', 'feminad.csv')\n",
    "mouses_csv = pd.read_csv(mouses_filename)[:20]\n",
    "male = mouses_csv['sex'] == 'M'\n",
    "female = mouses_csv['sex'] == 'F'\n",
    "age1 = mouses_csv['age'] == '2mois'\n",
    "m2 = male * age1\n",
    "f2 = female * age1"
   ]
  },
  {
   "cell_type": "code",
   "execution_count": 3,
   "id": "0f1219a5",
   "metadata": {},
   "outputs": [
    {
     "name": "stdout",
     "output_type": "stream",
     "text": [
      "20\n"
     ]
    },
    {
     "data": {
      "image/png": "[encoded data removed]",
      "text/plain": [
       "<Figure size 105.12x221.76 with 1 Axes>"
      ]
     },
     "metadata": {
      "needs_background": "light"
     },
     "output_type": "display_data"
    }
   ],
   "source": [
    "design_matrix = pd.DataFrame(np.vstack((m2, f2)).T,\n",
    "                             columns=['m2', 'f2'])\n",
    "ax = plot_design_matrix(design_matrix)\n",
    "print(len(design_matrix))"
   ]
  },
  {
   "cell_type": "code",
   "execution_count": 4,
   "id": "720da08e",
   "metadata": {},
   "outputs": [
    {
     "name": "stdout",
     "output_type": "stream",
     "text": [
      "20\n",
      "['output/Feminad/ANTS/Log10Jacobian_AffineDeformable/Log10JacobianAffineDeformable_2_6516.nii.gz', 'output/Feminad/ANTS/Log10Jacobian_AffineDeformable/Log10JacobianAffineDeformable_2_6517.nii.gz', 'output/Feminad/ANTS/Log10Jacobian_AffineDeformable/Log10JacobianAffineDeformable_2_6518.nii.gz', 'output/Feminad/ANTS/Log10Jacobian_AffineDeformable/Log10JacobianAffineDeformable_2_6519.nii.gz', 'output/Feminad/ANTS/Log10Jacobian_AffineDeformable/Log10JacobianAffineDeformable_2_6520.nii.gz', 'output/Feminad/ANTS/Log10Jacobian_AffineDeformable/Log10JacobianAffineDeformable_2_6521.nii.gz', 'output/Feminad/ANTS/Log10Jacobian_AffineDeformable/Log10JacobianAffineDeformable_2_6522.nii.gz', 'output/Feminad/ANTS/Log10Jacobian_AffineDeformable/Log10JacobianAffineDeformable_2_6523.nii.gz', 'output/Feminad/ANTS/Log10Jacobian_AffineDeformable/Log10JacobianAffineDeformable_2_6524.nii.gz', 'output/Feminad/ANTS/Log10Jacobian_AffineDeformable/Log10JacobianAffineDeformable_2_6528.nii.gz', 'output/Feminad/ANTS/Log10Jacobian_AffineDeformable/Log10JacobianAffineDeformable_2_6529.nii.gz', 'output/Feminad/ANTS/Log10Jacobian_AffineDeformable/Log10JacobianAffineDeformable_2_6533.nii.gz', 'output/Feminad/ANTS/Log10Jacobian_AffineDeformable/Log10JacobianAffineDeformable_2_6535.nii.gz', 'output/Feminad/ANTS/Log10Jacobian_AffineDeformable/Log10JacobianAffineDeformable_2_6536.nii.gz', 'output/Feminad/ANTS/Log10Jacobian_AffineDeformable/Log10JacobianAffineDeformable_2_6537.nii.gz', 'output/Feminad/ANTS/Log10Jacobian_AffineDeformable/Log10JacobianAffineDeformable_2_6538.nii.gz', 'output/Feminad/ANTS/Log10Jacobian_AffineDeformable/Log10JacobianAffineDeformable_2_6539.nii.gz', 'output/Feminad/ANTS/Log10Jacobian_AffineDeformable/Log10JacobianAffineDeformable_2_6540.nii.gz', 'output/Feminad/ANTS/Log10Jacobian_AffineDeformable/Log10JacobianAffineDeformable_2_6541.nii.gz', 'output/Feminad/ANTS/Log10Jacobian_AffineDeformable/Log10JacobianAffineDeformable_2_6542.nii.gz']\n"
     ]
    }
   ],
   "source": [
    "log_filenames = sorted(glob(os.path.join('output', 'Feminad', 'ANTS', 'Log10Jacobian_AffineDeformable', \"Log10JacobianAffineDeformable_2*.nii.gz\")))\n",
    "print(len(log_filenames))\n",
    "print(log_filenames)"
   ]
  },
  {
   "cell_type": "code",
   "execution_count": 5,
   "id": "ce3e6fde",
   "metadata": {},
   "outputs": [
    {
     "data": {
      "text/plain": [
       "SecondLevelModel(mask_img=<nibabel.nifti1.Nifti1Image object at 0x7fc64731b760>,\n",
       "                 smoothing_fwhm=0.5)"
      ]
     },
     "execution_count": 5,
     "metadata": {},
     "output_type": "execute_result"
    }
   ],
   "source": [
    "#atlas_mri = os.path.join('dataset2', 'Atlas', 'Norm_Atlas_MRI_128.nii.gz')\n",
    "#mask_img = nib.load(os.path.join('dataset2', 'Atlas', 'Atlas_Mask_128.nii.gz'))\n",
    "atlas_mri = os.path.join('dataset2', 'Atlas', 'Identity_Feminad_Template.nii.gz')\n",
    "mask_img = nib.load(os.path.join('dataset2', 'Atlas', 'Identity_Feminad_Template_Mask.nii.gz'))\n",
    "second_level_model = SecondLevelModel(smoothing_fwhm=0.5, mask_img=mask_img)\n",
    "second_level_model.fit(log_filenames,\n",
    "                       design_matrix=design_matrix)"
   ]
  },
  {
   "cell_type": "code",
   "execution_count": 6,
   "id": "2b096708",
   "metadata": {},
   "outputs": [],
   "source": [
    "thresholds_dict = { \n",
    "                'fdr001': ('fdr', 0.01),\n",
    "                'fpr001': ('fpr', 0.01),  \n",
    "            }\n",
    "contrasts_dict = {\n",
    "    'sex'    : [-1, 1],\n",
    "}"
   ]
  },
  {
   "cell_type": "code",
   "execution_count": 7,
   "id": "cb0858ac",
   "metadata": {
    "scrolled": true
   },
   "outputs": [],
   "source": [
    "for heights, values in thresholds_dict.items():\n",
    "    report = make_glm_report(model=second_level_model,\n",
    "                             contrasts=contrasts_dict,\n",
    "                             bg_img=atlas_mri,\n",
    "                             height_control=values[0],\n",
    "                             alpha=values[1],\n",
    "                             display_mode='y',\n",
    "                             cut_coords=128,\n",
    "                             )\n",
    "    report.save_as_html(os.path.join('output', 'Feminad', 'ANTS', 'Reports-AffineDeformable', 'report_affinedeformable_feminad_' + str(heights) + '.html'))"
   ]
  },
  {
   "cell_type": "code",
   "execution_count": 8,
   "id": "856483f7",
   "metadata": {},
   "outputs": [],
   "source": [
    "for k,v in contrasts_dict.items(): \n",
    "    z_map = second_level_model.compute_contrast(second_level_contrast=v, output_type='z_score')\n",
    "    for heights, values in thresholds_dict.items():\n",
    "        threshold_mask, threshold = threshold_stats_img(z_map, alpha=values[1], height_control=values[0])    \n",
    "        nib.save(threshold_mask, os.path.join('output', 'Feminad', 'ANTS', 'Reports-AffineDeformable', str(k) + '_' + str(heights) + '.nii.gz'))"
   ]
  },
  {
   "cell_type": "code",
   "execution_count": 9,
   "id": "5b07f32d",
   "metadata": {},
   "outputs": [
    {
     "name": "stdout",
     "output_type": "stream",
     "text": [
      "<class 'nibabel.nifti1.Nifti1Image'>\n",
      "data shape (128, 128, 128)\n",
      "affine: \n",
      "[[1. 0. 0. 0.]\n",
      " [0. 1. 0. 0.]\n",
      " [0. 0. 1. 0.]\n",
      " [0. 0. 0. 1.]]\n",
      "metadata:\n",
      "<class 'nibabel.nifti1.Nifti1Header'> object, endian='<'\n",
      "sizeof_hdr      : 348\n",
      "data_type       : b''\n",
      "db_name         : b''\n",
      "extents         : 0\n",
      "session_error   : 0\n",
      "regular         : b''\n",
      "dim_info        : 0\n",
      "dim             : [  3 128 128 128   1   1   1   1]\n",
      "intent_p1       : 0.0\n",
      "intent_p2       : 0.0\n",
      "intent_p3       : 0.0\n",
      "intent_code     : none\n",
      "datatype        : float64\n",
      "bitpix          : 64\n",
      "slice_start     : 0\n",
      "pixdim          : [1. 1. 1. 1. 1. 1. 1. 1.]\n",
      "vox_offset      : 0.0\n",
      "scl_slope       : nan\n",
      "scl_inter       : nan\n",
      "slice_end       : 0\n",
      "slice_code      : unknown\n",
      "xyzt_units      : 0\n",
      "cal_max         : 0.0\n",
      "cal_min         : 0.0\n",
      "slice_duration  : 0.0\n",
      "toffset         : 0.0\n",
      "glmax           : 0\n",
      "glmin           : 0\n",
      "descrip         : b'z_score of contrast [-1, 1]'\n",
      "aux_file        : b''\n",
      "qform_code      : unknown\n",
      "sform_code      : aligned\n",
      "quatern_b       : 0.0\n",
      "quatern_c       : 0.0\n",
      "quatern_d       : 0.0\n",
      "qoffset_x       : 0.0\n",
      "qoffset_y       : 0.0\n",
      "qoffset_z       : 0.0\n",
      "srow_x          : [1. 0. 0. 0.]\n",
      "srow_y          : [0. 1. 0. 0.]\n",
      "srow_z          : [0. 0. 1. 0.]\n",
      "intent_name     : b''\n",
      "magic           : b'n+1'\n"
     ]
    }
   ],
   "source": [
    "print(z_map)"
   ]
  },
  {
   "cell_type": "code",
   "execution_count": 32,
   "id": "e3f5770f",
   "metadata": {},
   "outputs": [
    {
     "name": "stdout",
     "output_type": "stream",
     "text": [
      "(2536, 3390, 3)\n"
     ]
    },
    {
     "ename": "ValueError",
     "evalue": "all the input array dimensions for the concatenation axis must match exactly, but along dimension 1, the array at index 0 has size 423 and the array at index 7 has size 429",
     "output_type": "error",
     "traceback": [
      "\u001b[0;31m---------------------------------------------------------------------------\u001b[0m",
      "\u001b[0;31mValueError\u001b[0m                                Traceback (most recent call last)",
      "Input \u001b[0;32mIn [32]\u001b[0m, in \u001b[0;36m<cell line: 8>\u001b[0;34m()\u001b[0m\n\u001b[1;32m     18\u001b[0m s7 \u001b[38;5;241m=\u001b[39m img[:, \u001b[38;5;241m6\u001b[39m\u001b[38;5;241m*\u001b[39mw:\u001b[38;5;241m7\u001b[39m\u001b[38;5;241m*\u001b[39mw]\n\u001b[1;32m     19\u001b[0m s8 \u001b[38;5;241m=\u001b[39m img[:, \u001b[38;5;241m7\u001b[39m\u001b[38;5;241m*\u001b[39mw:]\n\u001b[0;32m---> 20\u001b[0m s \u001b[38;5;241m=\u001b[39m \u001b[43mnp\u001b[49m\u001b[38;5;241;43m.\u001b[39;49m\u001b[43mvstack\u001b[49m\u001b[43m(\u001b[49m\u001b[43m(\u001b[49m\u001b[43ms1\u001b[49m\u001b[43m,\u001b[49m\u001b[43m \u001b[49m\u001b[43ms2\u001b[49m\u001b[43m,\u001b[49m\u001b[43m \u001b[49m\u001b[43ms3\u001b[49m\u001b[43m,\u001b[49m\u001b[43m \u001b[49m\u001b[43ms4\u001b[49m\u001b[43m,\u001b[49m\u001b[43m \u001b[49m\u001b[43ms5\u001b[49m\u001b[43m,\u001b[49m\u001b[43m \u001b[49m\u001b[43ms6\u001b[49m\u001b[43m,\u001b[49m\u001b[43m \u001b[49m\u001b[43ms7\u001b[49m\u001b[43m,\u001b[49m\u001b[43m \u001b[49m\u001b[43ms8\u001b[49m\u001b[43m)\u001b[49m\u001b[43m)\u001b[49m\n\u001b[1;32m     21\u001b[0m \u001b[38;5;28mprint\u001b[39m(s\u001b[38;5;241m.\u001b[39mshape)\n\u001b[1;32m     23\u001b[0m outname \u001b[38;5;241m=\u001b[39m filename\u001b[38;5;241m.\u001b[39msplit(\u001b[38;5;124m\"\u001b[39m\u001b[38;5;124m.\u001b[39m\u001b[38;5;124m\"\u001b[39m)[\u001b[38;5;241m0\u001b[39m] \u001b[38;5;241m+\u001b[39m \u001b[38;5;124m\"\u001b[39m\u001b[38;5;124m_1.png\u001b[39m\u001b[38;5;124m\"\u001b[39m\n",
      "File \u001b[0;32m<__array_function__ internals>:5\u001b[0m, in \u001b[0;36mvstack\u001b[0;34m(*args, **kwargs)\u001b[0m\n",
      "File \u001b[0;32m~/dev/Mousenet/venv/lib/python3.8/site-packages/numpy/core/shape_base.py:282\u001b[0m, in \u001b[0;36mvstack\u001b[0;34m(tup)\u001b[0m\n\u001b[1;32m    280\u001b[0m \u001b[38;5;28;01mif\u001b[39;00m \u001b[38;5;129;01mnot\u001b[39;00m \u001b[38;5;28misinstance\u001b[39m(arrs, \u001b[38;5;28mlist\u001b[39m):\n\u001b[1;32m    281\u001b[0m     arrs \u001b[38;5;241m=\u001b[39m [arrs]\n\u001b[0;32m--> 282\u001b[0m \u001b[38;5;28;01mreturn\u001b[39;00m \u001b[43m_nx\u001b[49m\u001b[38;5;241;43m.\u001b[39;49m\u001b[43mconcatenate\u001b[49m\u001b[43m(\u001b[49m\u001b[43marrs\u001b[49m\u001b[43m,\u001b[49m\u001b[43m \u001b[49m\u001b[38;5;241;43m0\u001b[39;49m\u001b[43m)\u001b[49m\n",
      "File \u001b[0;32m<__array_function__ internals>:5\u001b[0m, in \u001b[0;36mconcatenate\u001b[0;34m(*args, **kwargs)\u001b[0m\n",
      "\u001b[0;31mValueError\u001b[0m: all the input array dimensions for the concatenation axis must match exactly, but along dimension 1, the array at index 0 has size 423 and the array at index 7 has size 429"
     ]
    }
   ],
   "source": [
    "import os\n",
    "import imageio as io\n",
    "\n",
    "\n",
    "png_filenames = sorted(glob(os.path.join('output', 'Feminad', 'ANTS', 'Reports-AffineDeformable', \"*.png\")))\n",
    "\n",
    "\n",
    "for filename in png_filenames:    \n",
    "    img = io.imread(filename)\n",
    "    height, width, depth = img.shape\n",
    "    w = width // 8\n",
    "    s1 = img[:, :w]\n",
    "    s2 = img[:, 1*w:2*w]\n",
    "    s3 = img[:, 2*w:3*w]\n",
    "    s4 = img[:, 3*w:4*w]\n",
    "    s5 = img[:, 4*w:5*w]\n",
    "    s6 = img[:, 5*w:6*w]\n",
    "    s7 = img[:, 6*w:7*w]\n",
    "    s8 = img[:, 7*w:]\n",
    "    s = np.vstack((s1, s2, s3, s4, s5, s6, s7, s8))\n",
    "    print(s.shape)\n",
    "    \n",
    "    outname = filename.split(\".\")[0] + \"_1.png\"\n",
    "    io.imwrite(outname, s)"
   ]
  },
  {
   "cell_type": "code",
   "execution_count": null,
   "id": "4254325d",
   "metadata": {},
   "outputs": [],
   "source": []
  }
 ],
 "metadata": {
  "kernelspec": {
   "display_name": "venv",
   "language": "python",
   "name": "venv"
  },
  "language_info": {
   "codemirror_mode": {
    "name": "ipython",
    "version": 3
   },
   "file_extension": ".py",
   "mimetype": "text/x-python",
   "name": "python",
   "nbconvert_exporter": "python",
   "pygments_lexer": "ipython3",
   "version": "3.8.10"
  }
 },
 "nbformat": 4,
 "nbformat_minor": 5
}
