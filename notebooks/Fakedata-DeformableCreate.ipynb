{
 "cells": [
  {
   "cell_type": "code",
   "execution_count": 41,
   "id": "5fadc7db",
   "metadata": {},
   "outputs": [],
   "source": [
    "import argparse\n",
    "import logging\n",
    "import sys\n",
    "import numpy as np\n",
    "import torch\n",
    "from utils import compute_mean_dice\n",
    "import pandas as pd\n",
    "import os\n",
    "from glob import glob\n",
    "from matplotlib import pyplot as plt\n",
    "import monai\n",
    "import torchinfo\n",
    "import nibabel as nib\n",
    "from monai.transforms import AsDiscrete\n",
    "from miseval import evaluate\n",
    "from scipy.io import savemat\n",
    "import itk\n",
    "import SimpleITK as sitk\n",
    "import random\n",
    "import subprocess\n",
    "import sys"
   ]
  },
  {
   "cell_type": "code",
   "execution_count": 69,
   "id": "ea12092c",
   "metadata": {},
   "outputs": [
    {
     "data": {
      "image/png": "[encoded data removed]",
      "text/plain": [
       "<Figure size 432x288 with 1 Axes>"
      ]
     },
     "metadata": {
      "needs_background": "light"
     },
     "output_type": "display_data"
    }
   ],
   "source": [
    "fake_img = np.zeros((128,128))\n",
    "for i in range(128):\n",
    "    fake_img[96:,i] = 0.5*(1+i/128)\n",
    "imgplot = plt.imshow(fake_img)"
   ]
  },
  {
   "cell_type": "code",
   "execution_count": 103,
   "id": "734277e1",
   "metadata": {},
   "outputs": [
    {
     "name": "stdout",
     "output_type": "stream",
     "text": [
      "(2, 128, 128)\n"
     ]
    },
    {
     "data": {
      "image/png": "[encoded data removed]",
      "text/plain": [
       "<Figure size 432x288 with 1 Axes>"
      ]
     },
     "metadata": {
      "needs_background": "light"
     },
     "output_type": "display_data"
    }
   ],
   "source": [
    "fake_ddf_x = np.zeros((128,128))\n",
    "p = 3\n",
    "for i in range(128):\n",
    "    fake_ddf_x[64:,i] = i**p/(128**p)*32\n",
    "    #print(fake_ddf_x[100,i])\n",
    "fake_ddf_y = np.zeros((128,128))\n",
    "\n",
    "#imgplot = plt.imshow(fake_ddf_x)\n",
    "#plt.figure()\n",
    "fake_ddf = np.stack((fake_ddf_x, fake_ddf_y))\n",
    "print(fake_ddf.shape)\n",
    "\n",
    "warp = monai.networks.blocks.Warp(\"bilinear\", \"zeros\")\n",
    "fake_img_np = torch.from_numpy(fake_img).unsqueeze(0).unsqueeze(0)\n",
    "fake_ddf_np = torch.from_numpy(fake_ddf).unsqueeze(0)\n",
    "test = warp(fake_img_np,fake_ddf_np).squeeze()\n",
    "imgplot = plt.imshow(test.numpy())\n",
    "#plt.figure()"
   ]
  },
  {
   "cell_type": "code",
   "execution_count": null,
   "id": "ec84853e",
   "metadata": {},
   "outputs": [],
   "source": []
  },
  {
   "cell_type": "code",
   "execution_count": null,
   "id": "fe12848f",
   "metadata": {},
   "outputs": [],
   "source": []
  },
  {
   "cell_type": "code",
   "execution_count": null,
   "id": "02cf819d",
   "metadata": {},
   "outputs": [],
   "source": []
  }
 ],
 "metadata": {
  "kernelspec": {
   "display_name": "venv",
   "language": "python",
   "name": "venv"
  },
  "language_info": {
   "codemirror_mode": {
    "name": "ipython",
    "version": 3
   },
   "file_extension": ".py",
   "mimetype": "text/x-python",
   "name": "python",
   "nbconvert_exporter": "python",
   "pygments_lexer": "ipython3",
   "version": "3.8.10"
  }
 },
 "nbformat": 4,
 "nbformat_minor": 5
}
