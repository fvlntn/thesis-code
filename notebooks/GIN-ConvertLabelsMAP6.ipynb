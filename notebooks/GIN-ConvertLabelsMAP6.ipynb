{
 "cells": [
  {
   "cell_type": "code",
   "execution_count": 2,
   "id": "aec4bd90",
   "metadata": {},
   "outputs": [],
   "source": [
    "import reg_mri\n",
    "import os\n",
    "from glob import glob\n",
    "from utils import compute_mean_dice\n",
    "import nibabel as nib\n",
    "from scipy.spatial.distance import dice\n",
    "import numpy as np\n",
    "import itk\n",
    "import SimpleITK as sitk\n",
    "import scipy.ndimage\n",
    "import scipy\n",
    "import matplotlib.pyplot as plt\n",
    "from transforms_dict import getRegistrationEvalInverseTransformForMRI, SaveTransformForMRI\n",
    "from tqdm import tqdm\n",
    "import monai\n",
    "import subprocess\n",
    "from monai.networks.blocks import Warp\n",
    "import torch"
   ]
  },
  {
   "cell_type": "code",
   "execution_count": 3,
   "id": "7448a3a8",
   "metadata": {},
   "outputs": [],
   "source": [
    "import torchmetrics\n",
    "import pandas as pd"
   ]
  },
  {
   "cell_type": "code",
   "execution_count": 4,
   "id": "768324a0",
   "metadata": {},
   "outputs": [
    {
     "name": "stdout",
     "output_type": "stream",
     "text": [
      "dataset3/GIN_Mask/Labels/M877_N4_o_128_ras_norm_id_affine_convert.nii.gz\n",
      "dataset3/GIN_Mask/Labels/M877_N4_o_128_ras_norm_id_affine_deformable_convert.nii.gz\n"
     ]
    }
   ],
   "source": [
    "aff_labels = sorted(glob(os.path.join('dataset3', 'GIN_Mask', 'Labels', \"*_affine.nii.gz\")))\n",
    "def_labels = sorted(glob(os.path.join('dataset3', 'GIN_Mask', 'Labels', \"*_deformable.nii.gz\")))\n",
    "mapping_csv = \"dataset3/GIN/labels_mapping.csv\"\n",
    "mapping_data = pd.read_csv(mapping_csv)\n",
    "#print(mapping_data)\n",
    "for i in range(len(aff_labels)):\n",
    "    for j, label in enumerate([aff_labels[i], def_labels[i]]): \n",
    "        if \"Labels/M877\" in label:         \n",
    "            data = nib.load(label)\n",
    "            affine = data.affine\n",
    "            header = data.header\n",
    "            data = data.get_fdata()      \n",
    "            new_data = np.zeros(data.shape)\n",
    "            for value in range(len(mapping_data)+1):\n",
    "                new_data[np.where(data == value)] = value   \n",
    "            new_data[np.where(data == 12)] = 2\n",
    "            if j==0:\n",
    "                name = label.split('.')[0] + '_convert.nii.gz'\n",
    "            else:            \n",
    "                name = label.split('.')[0] + '_convert.nii.gz'\n",
    "            print(name)\n",
    "            new_img = nib.Nifti1Image(new_data, affine, header)\n",
    "            nib.save(new_img, name)   "
   ]
  },
  {
   "cell_type": "code",
   "execution_count": null,
   "id": "81c2f916",
   "metadata": {},
   "outputs": [],
   "source": []
  }
 ],
 "metadata": {
  "kernelspec": {
   "display_name": "venv",
   "language": "python",
   "name": "venv"
  },
  "language_info": {
   "codemirror_mode": {
    "name": "ipython",
    "version": 3
   },
   "file_extension": ".py",
   "mimetype": "text/x-python",
   "name": "python",
   "nbconvert_exporter": "python",
   "pygments_lexer": "ipython3",
   "version": "3.8.10"
  }
 },
 "nbformat": 4,
 "nbformat_minor": 5
}
