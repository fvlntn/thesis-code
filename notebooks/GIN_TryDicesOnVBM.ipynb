{
 "cells": [
  {
   "cell_type": "code",
   "execution_count": 1,
   "id": "da59888a",
   "metadata": {},
   "outputs": [],
   "source": [
    "from glob import glob\n",
    "import os\n",
    "import torch\n",
    "import torchmetrics\n",
    "import nibabel as nib\n",
    "import subprocess\n",
    "import numpy as np\n",
    "import torchmetrics\n",
    "import pandas as pd"
   ]
  },
  {
   "cell_type": "code",
   "execution_count": 2,
   "id": "a9d2aa7a",
   "metadata": {},
   "outputs": [],
   "source": [
    "vbm_deep1 = os.path.join('output', 'GIN', 'scenario1', 'Reports-Deformable', \"type-SVBP_fpr0001.nii.gz\")\n",
    "vbm_deep2 = os.path.join('output', 'GIN', 'scenario2', 'Reports-Deformable', \"type-SVBP_fpr0001.nii.gz\")\n",
    "vbm_deep3 = os.path.join('output', 'GIN', 'scenario3', 'Reports-Deformable', \"type-SVBP_fpr0001.nii.gz\")\n",
    "vbm_ants = os.path.join('output', 'GIN', 'ANTS', 'Reports-Deformable', \"type-SVBP_fpr0001.nii.gz\")\n",
    "vbm_truth = os.path.join('output', 'GIN', 'ANTS-Mean', 'Reports-Deformable', \"type-SVBP_fpr0001.nii.gz\")"
   ]
  },
  {
   "cell_type": "code",
   "execution_count": 3,
   "id": "b79fac76",
   "metadata": {},
   "outputs": [],
   "source": [
    "def get_normalized(vbm):\n",
    "    return ((vbm - np.min(vbm)) / ( np.max(vbm) - np.min(vbm)) - 0.5 ) * 2"
   ]
  },
  {
   "cell_type": "code",
   "execution_count": 4,
   "id": "936965b9",
   "metadata": {},
   "outputs": [],
   "source": [
    "def get_labels(vbm, limit):\n",
    "    x = np.where(vbm > limit)\n",
    "    y = np.where(vbm < -limit)\n",
    "    vbm[x] = 5\n",
    "    vbm[y] = 4\n",
    "    #print(len(np.where(vbm==4)[0]))\n",
    "    #print(len(np.where(vbm==5)[0]))\n",
    "    return vbm"
   ]
  },
  {
   "cell_type": "code",
   "execution_count": 6,
   "id": "0ff4990e",
   "metadata": {},
   "outputs": [
    {
     "name": "stdout",
     "output_type": "stream",
     "text": [
      "0.5\n",
      "----------\n",
      "tensor([0.9976,    nan,    nan,    nan, 0.1410, 0.1033])\n",
      "12.88249694002448\n",
      "12.31723526805494\n",
      "----------\n",
      "tensor([0.9953,    nan,    nan,    nan, 0.0914, 0.1784])\n",
      "10.373317013463893\n",
      "61.852015950376604\n",
      "----------\n",
      "tensor([0.9977,    nan,    nan,    nan, 0.0491, 0.1088])\n",
      "4.467564259485924\n",
      "10.899424014178113\n",
      "----------\n",
      "tensor([0.9949,    nan,    nan,    nan, 0.1297, 0.1440])\n",
      "17.74785801713586\n",
      "50.73105892778024\n",
      "----------\n"
     ]
    }
   ],
   "source": [
    "dicemetric = torchmetrics.Dice(average=None, mdmc_average='global', num_classes=6)\n",
    "\n",
    "limit = 0.5\n",
    "print(limit)\n",
    "vbm_truth_nib = nib.load(vbm_truth).get_fdata()\n",
    "vbm_truth_nib = get_normalized(vbm_truth_nib)\n",
    "vbm_truth_labels = get_labels(vbm_truth_nib, limit)\n",
    "vbm_truth_torch = torch.from_numpy(vbm_truth_labels.ravel()).type('torch.LongTensor')\n",
    "print('-'*10)\n",
    "for vbm in [vbm_ants, vbm_deep1, vbm_deep2, vbm_deep3]:\n",
    "    vbm_nib = nib.load(vbm).get_fdata()    \n",
    "    vbm_nib = get_normalized(vbm_nib)\n",
    "    vbm_labels = get_labels(vbm_nib, limit)\n",
    "    vbm_torch = torch.from_numpy(vbm_labels.ravel()).type('torch.LongTensor')\n",
    "    dices = dicemetric(vbm_torch,vbm_truth_torch)\n",
    "    print(dices)\n",
    "    for i in range(4,6):\n",
    "        a = np.where(vbm_torch == i)\n",
    "        b = np.where(vbm_truth_torch == i)\n",
    "        c = len(np.intersect1d(a,b)) / len(b[0]) * 100\n",
    "        print(c)\n",
    "    print('-'*10)"
   ]
  },
  {
   "cell_type": "code",
   "execution_count": null,
   "id": "6b152636",
   "metadata": {},
   "outputs": [],
   "source": []
  }
 ],
 "metadata": {
  "kernelspec": {
   "display_name": "venv",
   "language": "python",
   "name": "venv"
  },
  "language_info": {
   "codemirror_mode": {
    "name": "ipython",
    "version": 3
   },
   "file_extension": ".py",
   "mimetype": "text/x-python",
   "name": "python",
   "nbconvert_exporter": "python",
   "pygments_lexer": "ipython3",
   "version": "3.8.10"
  }
 },
 "nbformat": 4,
 "nbformat_minor": 5
}
